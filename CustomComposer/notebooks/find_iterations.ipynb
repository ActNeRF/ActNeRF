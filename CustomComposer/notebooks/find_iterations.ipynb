{
 "cells": [
  {
   "cell_type": "code",
   "execution_count": 15,
   "metadata": {},
   "outputs": [
    {
     "name": "stdout",
     "output_type": "stream",
     "text": [
      "cheezit 22\n",
      "basket 20\n",
      "spam 21\n",
      "rubik 22\n"
     ]
    }
   ],
   "source": [
    "import os\n",
    "import pdb\n",
    "\n",
    "objects = ['cheezit', 'basket', 'spam', 'rubik']\n",
    "for obj in objects:\n",
    "  run_path = f'../workdir/{obj}_5_2_val4_1'\n",
    "  i = 0\n",
    "  id = 0\n",
    "  while i < 20:\n",
    "    img_dir = f'{run_path}/generated_images_{id}'\n",
    "    # if id == 4: \n",
    "    #   pdb.set_trace()\n",
    "    if len(os.listdir(img_dir)) > 1:\n",
    "      i += 1\n",
    "    id += 1\n",
    "  print(obj, id)\n",
    "   "
   ]
  },
  {
   "cell_type": "code",
   "execution_count": null,
   "metadata": {},
   "outputs": [],
   "source": []
  }
 ],
 "metadata": {
  "kernelspec": {
   "display_name": "wisp2",
   "language": "python",
   "name": "python3"
  },
  "language_info": {
   "codemirror_mode": {
    "name": "ipython",
    "version": 3
   },
   "file_extension": ".py",
   "mimetype": "text/x-python",
   "name": "python",
   "nbconvert_exporter": "python",
   "pygments_lexer": "ipython3",
   "version": "3.9.17"
  }
 },
 "nbformat": 4,
 "nbformat_minor": 2
}
