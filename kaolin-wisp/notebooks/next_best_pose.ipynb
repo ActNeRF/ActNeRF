{
 "cells": [
  {
   "cell_type": "code",
   "execution_count": 43,
   "metadata": {},
   "outputs": [],
   "source": [
    "import sys\n",
    "import os\n",
    "import copy\n",
    "\n",
    "ROOT_DIR = os.getcwd()\n",
    "sys.path.insert(0, os.path.join(ROOT_DIR, \"..\"))\n",
    "sys.path.insert(0, os.path.join(ROOT_DIR, \"src\"))\n",
    "sys.path.insert(0, os.path.join(ROOT_DIR, \"inerf_utils\"))\n",
    "\n",
    "import json\n",
    "import torch\n",
    "import numpy as np\n",
    "import torchvision.transforms as T\n",
    "import tqdm\n",
    "import imageio\n",
    "import cv2\n",
    "import matplotlib.pyplot as plt\n",
    "import wisp\n",
    "from wisp.core import RenderBuffer, Rays\n"
   ]
  },
  {
   "cell_type": "code",
   "execution_count": 44,
   "metadata": {},
   "outputs": [],
   "source": [
    "from wisp.framework import WispState\n",
    "from kaolin.render.camera import Camera, blender_coords\n",
    "from inerf_utils import *\n",
    "from wisp.ops.raygen import generate_pinhole_rays, generate_centered_pixel_coords\n",
    "from wisp.datasets import SampleRays\n",
    "from wisp.trainers import MultiviewTrainer\n",
    "from wisp.models.pipeline import Pipeline\n",
    "\n",
    "def make_model(args, args_dict, extra_args, train_dataset, validation_dataset):\n",
    "    pipeline = torch.load(args.pretrained)\n",
    "    pipeline.to(extra_args['device'])\n",
    "    scene_state = WispState()\n",
    "    return pipeline\n",
    "    # return pipeline\n",
    "\n",
    "def gen_camera(pose, focal, w, h, far, extra_args):\n",
    "    view_matrix = torch.zeros_like(pose)\n",
    "    view_matrix[:3, :3] = pose[:3, :3].T\n",
    "    view_matrix[:3, -1] = torch.matmul(-view_matrix[:3, :3], pose[:3, -1])\n",
    "    view_matrix[3, 3] = 1.0\n",
    "\n",
    "    x0 = 0.0\n",
    "    y0 = 0.0\n",
    "    print(view_matrix)\n",
    "    camera = Camera.from_args(\n",
    "        view_matrix=view_matrix,\n",
    "        focal_x=focal,\n",
    "        focal_y=focal,\n",
    "        width=w,\n",
    "        height=h,\n",
    "        far=far,\n",
    "        near=0.0,\n",
    "        x0=x0,\n",
    "        y0=y0,\n",
    "        dtype=torch.float32,\n",
    "        device=extra_args['device']\n",
    "    )\n",
    "    camera.change_coordinate_system(blender_coords())\n",
    "    print(camera.extrinsics.parameters().reshape((4,4)))\n",
    "    # mask = camera.extrinsics.gradient_mask('t')\n",
    "    # camera.extrinsics.parameters.register_hook(lambda grad: grad * mask.float())\n",
    "    \n",
    "    return camera\n",
    "\n",
    "def gen_rays_only(camera):\n",
    "    ray_grid = generate_centered_pixel_coords(camera.width, camera.height, camera.width, camera.height, device=extra_args['device'])\n",
    "    rays = generate_pinhole_rays(camera, ray_grid).reshape(camera.height, camera.width, 3)\n",
    "    rays = Rays.stack(rays)\n",
    "    return rays\n",
    "\n",
    "# def gen_rays(pose, focal, w, h, far):\n",
    "#     ray_grid = generate_centered_pixel_coords(camera.width, camera.height, camera.width, camera.height, device=extra_args['device'])\n",
    "#     rays = generate_pinhole_rays(camera, ray_grid).reshape(camera.height, camera.width, 3)\n",
    "#     # rays = Rays.stack(rays).to(dtype=torch.float)\n",
    "    \n",
    "#     return camera, rays"
   ]
  },
  {
   "cell_type": "code",
   "execution_count": 45,
   "metadata": {},
   "outputs": [],
   "source": [
    "render_batch = 40000\n",
    "def render_pipeline(pipeline, rays, lod_idx):\n",
    "    rb = RenderBuffer(xyz=None, hit=None, normal=None, shadow=None, ao=None, dirs=None)\n",
    "    for ray_pack in rays.split(render_batch):\n",
    "        # print(\"haha\")\n",
    "        rb  += pipeline.tracer(pipeline.nef, rays=ray_pack, lod_idx=lod_idx)\n",
    "    return rb"
   ]
  },
  {
   "cell_type": "code",
   "execution_count": null,
   "metadata": {},
   "outputs": [],
   "source": []
  },
  {
   "cell_type": "code",
   "execution_count": 67,
   "metadata": {},
   "outputs": [],
   "source": [
    "W, H = 800, 800\n",
    "fx = (0.5 * H) / np.tan(0.5 * float(1.3213687585295282))\n",
    "extra_args = {\n",
    "  'resume' : True,\n",
    "  'output' : './pose_estimation',\n",
    "  'device' : 'cuda',\n",
    "  'z_near' : 0.0,\n",
    "  'z_far' : 10.0,\n",
    "  'focal' : fx,\n",
    "  'lrate' : 5e-3,\n",
    "  'epochs': 500, \n",
    "  'wait_epochs': 10,\n",
    "  'boundary_th': 5\n",
    "}\n"
   ]
  },
  {
   "cell_type": "code",
   "execution_count": 68,
   "metadata": {},
   "outputs": [],
   "source": [
    "\n",
    "# def max_unc_sampling(pipelines, rays:Rays, patch_size=5):\n",
    "\n",
    "#     rays = rays.reshape((W, H, -1))\n",
    "#     # sampled_rays = Rays(torch.empty((0,3)), torch.empty((0, 3)), dist_min=extra_args['z_near'], dist_max=extra_args['z_far'])\n",
    "#     total_loss = 0\n",
    "#     for j in range(0, H, patch_size):\n",
    "#         for i in range(0, W, patch_size):\n",
    "#             # with torch.no_grad():\n",
    "            \n",
    "#             patch_rays = rays[i:(i+patch_size), j:(j+patch_size)]\n",
    "#             patch_rays = patch_rays.reshape((patch_size**2, -1))\n",
    "\n",
    "#             all_rgbs = torch.zeros((len(pipelines), patch_size*patch_size, 3), dtype=float)\n",
    "#             for i, pipeline in enumerate(pipelines):\n",
    "#                 rb = render_pipeline(pipeline, patch_rays, None)\n",
    "#                 all_rgbs[i,:,:] = rb.rgb\n",
    "\n",
    "#             unc_loss = 1-torch.mean(torch.var(all_rgbs, axis = 0))\n",
    "#             total_loss += unc_loss\n",
    "#             unc_loss.backward()\n",
    "\n",
    "#             # # print(all_rgbs)\n",
    "#             # # print(unc_loss)\n",
    "#             # # print(torch.max(unc_loss))\n",
    "#             # max_unc = torch.max(unc_loss)\n",
    "#             # ind = torch.argmax(unc_loss)\n",
    "#             # # print(max_unc - torch.mean(unc_loss))\n",
    "#             # max_unc_ray = patch_rays[ind:ind+1]\n",
    "#             # # print(sampled_rays, max_unc_ray.to('cpu'))\n",
    "#             # sampled_rays = Rays.cat([sampled_rays, max_unc_ray.to('cpu')])\n",
    "#             # del(all_rgbs)\n",
    "#     # print(sampled_rays)\n",
    "#     print(total_loss)\n",
    "#     # return sampled_rays\n",
    "            \n",
    "            \n",
    "\n",
    "def batch_backwards(pipelines, rays:Rays, batch_size=4000):\n",
    "\n",
    "    total_loss = 0\n",
    "    \n",
    "    for patch_rays in rays.split(batch_size):\n",
    "            all_rgbs = torch.zeros((len(pipelines), batch_size, 3), dtype=float)\n",
    "            for i, pipeline in enumerate(pipelines):\n",
    "                rb = render_pipeline(pipeline, patch_rays, None)\n",
    "                all_rgbs[i,:,:] = rb.rgb\n",
    "\n",
    "            unc_loss = -torch.mean(torch.var(all_rgbs, axis = 0))\n",
    "            total_loss += unc_loss.item()\n",
    "            unc_loss.backward(retain_graph=True)\n",
    "    # print(total_loss)\n",
    "    return total_loss\n",
    "            \n",
    "\n",
    "\n",
    "def batch_backwards2(pipelines, camera, batch_size=4000):\n",
    "\n",
    "    total_loss = 0\n",
    "    patch = 0\n",
    "    while True:\n",
    "        rays = gen_rays_only(camera)\n",
    "        rays = rays.reshape((rays.shape[0]**2, -1))\n",
    "        all_patch_rays = rays.split(batch_size)\n",
    "        if len(all_patch_rays) == patch:\n",
    "            break\n",
    "        patch_rays = all_patch_rays[patch]\n",
    "\n",
    "        all_rgbs = torch.zeros((len(pipelines), batch_size, 3), dtype=float)\n",
    "        for i, pipeline in enumerate(pipelines):\n",
    "            rb = render_pipeline(pipeline, patch_rays, None)\n",
    "            all_rgbs[i,:,:] = rb.rgb\n",
    "\n",
    "        unc_loss = -torch.mean(torch.var(all_rgbs, axis = 0))\n",
    "        total_loss += unc_loss.item()\n",
    "        unc_loss.backward()\n",
    "        patch += 1\n",
    "    # print(total_loss)\n",
    "    return total_loss\n",
    "            "
   ]
  },
  {
   "cell_type": "code",
   "execution_count": null,
   "metadata": {},
   "outputs": [],
   "source": []
  },
  {
   "cell_type": "code",
   "execution_count": 69,
   "metadata": {},
   "outputs": [],
   "source": [
    "def get_image(cam, pipeline):\n",
    "    cam = copy.deepcopy(cam)\n",
    "\n",
    "    rays = gen_rays_only(cam)\n",
    "    rays = rays.reshape((rays.shape[0]**2, -1))\n",
    "\n",
    "    rb = render_pipeline(pipeline, rays, lod_idx=None)\n",
    "    rgb = rb.rgb.detach().cpu().numpy().reshape((H, W, 3))\n",
    "    alpha = rb.alpha.detach().cpu().numpy().reshape((H, W, 1))\n",
    "    # v = np.concatenate([rgb, alpha], axis=2)\n",
    "\n",
    "    # return v\n",
    "    return rgb, alpha"
   ]
  },
  {
   "cell_type": "code",
   "execution_count": 70,
   "metadata": {},
   "outputs": [],
   "source": [
    "argv_base = [\n",
    "    '--config=../app/nerf/configs/nerf_hash.yaml',\n",
    "    '--pretrained=path_to_model',\n",
    "    '--valid-only'\n",
    "]"
   ]
  },
  {
   "cell_type": "code",
   "execution_count": 71,
   "metadata": {},
   "outputs": [
    {
     "data": {
      "text/plain": [
       "['--config=../app/nerf/configs/nerf_hash.yaml',\n",
       " '--pretrained=path_to_model',\n",
       " '--valid-only']"
      ]
     },
     "execution_count": 71,
     "metadata": {},
     "output_type": "execute_result"
    }
   ],
   "source": [
    "argv_base"
   ]
  },
  {
   "cell_type": "code",
   "execution_count": 72,
   "metadata": {},
   "outputs": [
    {
     "data": {
      "text/plain": [
       "['/home/saptarshi/miniconda3/envs/wisp2/lib/python3.9/site-packages/ipykernel_launcher.py',\n",
       " '--config=../app/nerf/configs/nerf_hash.yaml',\n",
       " '--pretrained=/home/saptarshi/dev/kaolin-wisp/_results_new/cheezit_single_side_env2_nobg_sam_scale10/model_5/20230424-184101/model.pth',\n",
       " '--valid-only']"
      ]
     },
     "execution_count": 72,
     "metadata": {},
     "output_type": "execute_result"
    }
   ],
   "source": [
    "sys.argv"
   ]
  },
  {
   "cell_type": "code",
   "execution_count": 73,
   "metadata": {},
   "outputs": [
    {
     "name": "stdout",
     "output_type": "stream",
     "text": [
      "/home/saptarshi/dev/kaolin-wisp/_results_new/cheezit_single_side_env2_nobg_sam_scale10/model_1/20230424-183512/model.pth\n",
      "--pretrained=/home/saptarshi/dev/kaolin-wisp/_results_new/cheezit_single_side_env2_nobg_sam_scale10/model_1/20230424-183512/model.pth\n",
      "/home/saptarshi/dev/kaolin-wisp/_results_new/cheezit_single_side_env2_nobg_sam_scale10/model_2/20230424-183641/model.pth\n",
      "--pretrained=/home/saptarshi/dev/kaolin-wisp/_results_new/cheezit_single_side_env2_nobg_sam_scale10/model_2/20230424-183641/model.pth\n",
      "/home/saptarshi/dev/kaolin-wisp/_results_new/cheezit_single_side_env2_nobg_sam_scale10/model_3/20230424-183800/model.pth\n",
      "--pretrained=/home/saptarshi/dev/kaolin-wisp/_results_new/cheezit_single_side_env2_nobg_sam_scale10/model_3/20230424-183800/model.pth\n",
      "/home/saptarshi/dev/kaolin-wisp/_results_new/cheezit_single_side_env2_nobg_sam_scale10/model_4/20230424-183933/model.pth\n",
      "--pretrained=/home/saptarshi/dev/kaolin-wisp/_results_new/cheezit_single_side_env2_nobg_sam_scale10/model_4/20230424-183933/model.pth\n",
      "/home/saptarshi/dev/kaolin-wisp/_results_new/cheezit_single_side_env2_nobg_sam_scale10/model_5/20230424-184101/model.pth\n",
      "--pretrained=/home/saptarshi/dev/kaolin-wisp/_results_new/cheezit_single_side_env2_nobg_sam_scale10/model_5/20230424-184101/model.pth\n"
     ]
    }
   ],
   "source": [
    "model_name = \"cheezit_single_side_env2_nobg_sam_scale10\"\n",
    "root_dir = '/home/saptarshi/dev/kaolin-wisp/_results_new/' + model_name + '/'\n",
    "\n",
    "pipelines = []\n",
    "for i in range(1,6):\n",
    "    model_dir = os.path.join(root_dir, f\"model_{i}\")\n",
    "    model_path = os.path.join(model_dir, list(sorted(os.listdir(model_dir)))[0], \"model.pth\")\n",
    "    print(model_path)\n",
    "    sys.argv[1:] = argv_base\n",
    "    sys.argv[2] = sys.argv[2].replace(\"path_to_model\", model_path)\n",
    "    print(sys.argv[2])\n",
    "    args, args_dict = parse_args()\n",
    "    pipeline = make_model(\n",
    "        args, args_dict, extra_args, None, None)\n",
    "    pipelines.append(pipeline)"
   ]
  },
  {
   "cell_type": "code",
   "execution_count": 74,
   "metadata": {},
   "outputs": [],
   "source": [
    "\n",
    "cur_pose = torch.tensor([\n",
    "    [\n",
    "        -1.0, \n",
    "        -2.823936947407328e-17, \n",
    "        5.340285413173258e-16, \n",
    "        2.4463562574074363e-17\n",
    "    ], \n",
    "    [\n",
    "        3.5457582038357597e-16, \n",
    "        -0.04896000828076464, \n",
    "        0.9988007396819185, \n",
    "        0.3995202958290813\n",
    "    ], \n",
    "    [\n",
    "        -1.089239719165523e-17, \n",
    "        0.9988007396819186, \n",
    "        0.04896000828076479, \n",
    "        -0.08590599579648245\n",
    "    ], \n",
    "    [\n",
    "        0.0, \n",
    "        0.0, \n",
    "        0.0, \n",
    "        1.0\n",
    "    ]\n",
    "])\n",
    "cur_pose_unscaled = cur_pose.clone()\n",
    "cur_pose[..., :3, 3] *= 10/1.25"
   ]
  },
  {
   "cell_type": "code",
   "execution_count": 75,
   "metadata": {},
   "outputs": [
    {
     "name": "stdout",
     "output_type": "stream",
     "text": [
      "tensor([[-1.0000e+00,  3.5458e-16, -1.0892e-17, -9.4506e-16],\n",
      "        [-2.8239e-17, -4.8960e-02,  9.9880e-01,  8.4291e-01],\n",
      "        [ 5.3403e-16,  9.9880e-01,  4.8960e-02, -3.1587e+00],\n",
      "        [ 0.0000e+00,  0.0000e+00,  0.0000e+00,  1.0000e+00]])\n",
      "tensor([[-1.0000e+00, -1.0892e-17, -3.5458e-16, -9.4506e-16],\n",
      "        [-2.8239e-17,  9.9880e-01,  4.8960e-02,  8.4291e-01],\n",
      "        [ 5.3403e-16,  4.8960e-02, -9.9880e-01, -3.1587e+00],\n",
      "        [ 0.0000e+00,  0.0000e+00,  0.0000e+00,  1.0000e+00]], device='cuda:0')\n"
     ]
    }
   ],
   "source": [
    "z_near, z_far = extra_args['z_near'], extra_args['z_far']\n",
    "cur_cam = gen_camera(torch.clone(cur_pose).detach(), extra_args['focal'], W, H, z_far, extra_args)\n",
    "cur_cam.switch_backend('matrix_6dof_rotation')\n",
    "current_pose = cur_cam.extrinsics.parameters().clone()\n",
    "current_pose_named = cur_cam.extrinsics.named_params()"
   ]
  },
  {
   "cell_type": "code",
   "execution_count": 76,
   "metadata": {},
   "outputs": [
    {
     "data": {
      "text/plain": [
       "tensor([[-1.0000e+00,  5.3477e-16, -2.0595e-18, -1.5149e-15],\n",
       "        [-2.8239e-17, -4.8960e-02,  9.9880e-01,  8.4291e-01],\n",
       "        [ 3.5362e-16,  9.9880e-01,  4.8960e-02, -3.1587e+00],\n",
       "        [-6.6174e-24,  1.8626e-08, -2.3283e-10,  1.0000e+00]])"
      ]
     },
     "execution_count": 76,
     "metadata": {},
     "output_type": "execute_result"
    }
   ],
   "source": [
    "(torch.inverse(cur_pose))"
   ]
  },
  {
   "cell_type": "code",
   "execution_count": 77,
   "metadata": {},
   "outputs": [],
   "source": [
    "def create_vid(imgs, path):\n",
    "    out = cv2.VideoWriter(path, cv2.VideoWriter_fourcc(*'DIVX'), 10, (W,H))\n",
    "    for i in range(len(imgs)):\n",
    "        img = imgs[i]\n",
    "        img = (img * 255).astype(np.uint8)\n",
    "        img = cv2.cvtColor(img, cv2.COLOR_RGB2BGR)\n",
    "        out.write(img)"
   ]
  },
  {
   "cell_type": "code",
   "execution_count": 78,
   "metadata": {},
   "outputs": [],
   "source": [
    "from matplotlib.animation import FuncAnimation\n",
    "def animate_plot(xs, ys, path, xlabel = \"x\", ylabel = \"y\", title = \"plot\"):\n",
    "    fig, ax = plt.subplots()\n",
    "    line, = ax.plot([], [], lw=2)\n",
    "\n",
    "    ax.set_xlim(min(xs), max(xs))\n",
    "    ax.set_ylim(min(ys), max(ys))\n",
    "\n",
    "    ax.set_xlabel(xlabel)\n",
    "    ax.set_ylabel(ylabel)\n",
    "    ax.set_title(title)\n",
    "\n",
    "    def init():\n",
    "        line.set_data([], [])\n",
    "        return line,\n",
    "\n",
    "    def animate(i):\n",
    "        x = xs[:i]\n",
    "        y = ys[:i]\n",
    "        line.set_data(x, y)\n",
    "        return line,\n",
    "\n",
    "    anim = FuncAnimation(fig, animate, init_func=init, frames=len(xs), interval=100, blit=True)\n",
    "\n",
    "    anim.save(path, writer='ffmpeg')\n"
   ]
  },
  {
   "cell_type": "code",
   "execution_count": 79,
   "metadata": {},
   "outputs": [],
   "source": [
    "def merge_horizontal(video1_path, video2_path, out_path):\n",
    "    import cv2\n",
    "    video1 = cv2.VideoCapture(video1_path)\n",
    "    video2 = cv2.VideoCapture(video2_path)\n",
    "\n",
    "        \n",
    "    # Get video properties\n",
    "    fps = int(video1.get(cv2.CAP_PROP_FPS))\n",
    "    frame_width = int(video1.get(cv2.CAP_PROP_FRAME_WIDTH))\n",
    "    frame_height = int(video1.get(cv2.CAP_PROP_FRAME_HEIGHT))\n",
    "    num_frames = int(video1.get(cv2.CAP_PROP_FRAME_COUNT))\n",
    "\n",
    "    frame_height_2 = int(video2.get(cv2.CAP_PROP_FRAME_HEIGHT))\n",
    "    frame_width_2 = int(video2.get(cv2.CAP_PROP_FRAME_WIDTH))\n",
    "\n",
    "    resize_ratio = frame_height / frame_height_2\n",
    "\n",
    "    fourcc = cv2.VideoWriter_fourcc(*'XVID')\n",
    "    output_video = cv2.VideoWriter(out_path, fourcc, fps, (frame_width + int(frame_width_2 * resize_ratio) , frame_height))\n",
    "\n",
    "    # Loop through the frames and merge them side by side\n",
    "    for _ in range(num_frames):\n",
    "        ret1, frame1 = video1.read()\n",
    "        ret2, frame2 = video2.read()\n",
    "\n",
    "        if ret1 and ret2:\n",
    "            if resize_ratio != 1.0:\n",
    "                frame2 = cv2.resize(frame2, (0, 0), fx = resize_ratio, fy = resize_ratio)\n",
    "\n",
    "            merged_frame = cv2.hconcat([frame1, frame2])\n",
    "            output_video.write(merged_frame)\n",
    "        else:\n",
    "            break\n",
    "\n",
    "    video1.release()\n",
    "    video2.release()\n",
    "    output_video.release()\n",
    "\n",
    "    cv2.destroyAllWindows()\n"
   ]
  },
  {
   "cell_type": "code",
   "execution_count": 80,
   "metadata": {},
   "outputs": [],
   "source": [
    "def object_touching_img_boundary(cam, offset=0):\n",
    "    alphas = get_image(cam, pipeline=pipelines[0])[1].squeeze()\n",
    "    count = 0\n",
    "    count += np.sum(alphas[offset, :])\n",
    "    count += np.sum(alphas[H-1-offset, :] > 0)\n",
    "    count += np.sum(alphas[:, offset] > 0)\n",
    "    count += np.sum(alphas[:, W-1-offset] > 0)\n",
    "\n",
    "    count -= ((alphas[offset, offset] > 0) + (alphas[offset, W-1-offset] > 0) + (alphas[H-1-offset, offset] > 0) + (alphas[H-1-offset, W-1-offset] > 0))\n",
    "\n",
    "    if(count >= extra_args['boundary_th']):\n",
    "        return True\n",
    "    return False\n",
    "\n",
    "def early_stopping(losses, best_loss):\n",
    "    if len(losses) > extra_args[\"wait_epochs\"] and np.min(np.array(losses[(len(losses)-extra_args[\"wait_epochs\"]):len(losses)])) > best_loss:\n",
    "        return True\n",
    "    return False\n",
    "\n",
    "def stopping_cond(losses, cam, best_loss):\n",
    "    if(object_touching_img_boundary(cam)):\n",
    "        print(\"Stop Condition 1 Reached\")\n",
    "        return True\n",
    "    \n",
    "    if early_stopping(losses, best_loss):\n",
    "        print(\"Stop Condition 2 Reached\")\n",
    "        return True\n",
    "    return False"
   ]
  },
  {
   "cell_type": "code",
   "execution_count": 81,
   "metadata": {},
   "outputs": [],
   "source": [
    "import cv2\n",
    "from IPython.display import Video\n",
    "def optimize(camera, optimizer, max_epochs=100, vid_name=None, loss_vid_name=None, merge_vid_name=None):\n",
    "    imgs = []\n",
    "    losses = []\n",
    "    prev_best_cam = None\n",
    "    prev_best_loss = np.inf\n",
    "    print(current_pose_named[0]['t'], camera.extrinsics.named_params()[0]['t'])\n",
    "    for ep in range(max_epochs):\n",
    "        optimizer.zero_grad()\n",
    "        rays = gen_rays_only(camera)\n",
    "        rays = rays.reshape((rays.shape[0]**2, -1))\n",
    "        cur_loss = batch_backwards(pipelines, rays, 40000)\n",
    "        print(ep, cur_loss)\n",
    "        losses.append(cur_loss)\n",
    "        optimizer.step()\n",
    "        if stopping_cond(losses, camera, prev_best_loss):\n",
    "            break\n",
    "        if(prev_best_loss > cur_loss):\n",
    "            prev_best_loss = cur_loss\n",
    "            prev_best_cam = copy.deepcopy(camera)\n",
    "\n",
    "        img = get_image(camera, pipeline=pipelines[0])[0]\n",
    "        imgs.append(img)\n",
    "    \n",
    "    if vid_name:\n",
    "        create_vid(imgs, f'results/videos/{vid_name}')\n",
    "    \n",
    "    if loss_vid_name:\n",
    "        animate_plot(np.arange(len(losses)), losses, f'results/videos/{loss_vid_name}', \"epochs\", \"loss\", \"loss v/s epoch while training\")\n",
    "    \n",
    "    if vid_name and loss_vid_name and merge_vid_name:\n",
    "        merge_horizontal(f'results/videos/{vid_name}', f'results/videos/{loss_vid_name}', f'results/videos/{merge_vid_name}')\n",
    "        \n",
    "    return prev_best_loss, prev_best_cam\n"
   ]
  },
  {
   "cell_type": "code",
   "execution_count": 82,
   "metadata": {},
   "outputs": [],
   "source": [
    "def show_image_from_pose(pose):\n",
    "    print(pose)\n",
    "    z_near, z_far = extra_args['z_near'], extra_args['z_far']\n",
    "    cam = gen_camera(torch.clone(pose).detach(), extra_args['focal'], W, H, z_far, extra_args)\n",
    "    # cam.switch_backend('matrix_6dof_rotation')\n",
    "    img = get_image(cam, pipelines[0])[0]\n",
    "    plt.imshow(img)\n",
    "    plt.show()\n",
    "    return img\n"
   ]
  },
  {
   "cell_type": "code",
   "execution_count": 83,
   "metadata": {},
   "outputs": [
    {
     "name": "stdout",
     "output_type": "stream",
     "text": [
      "tensor([[-0.8806, -0.1655, -0.4439, -1.4502],\n",
      "        [-0.3394,  0.8742,  0.3473,  1.5378],\n",
      "        [ 0.3306,  0.4565, -0.8261, -2.5557],\n",
      "        [ 0.0000,  0.0000,  0.0000,  1.0000]])\n",
      "tensor([[-0.8806, -0.3394,  0.3306,  0.0896],\n",
      "        [-0.1655,  0.8742,  0.4565, -0.4179],\n",
      "        [-0.4439,  0.3473, -0.8261, -3.2889],\n",
      "        [ 0.0000,  0.0000,  0.0000,  1.0000]])\n",
      "tensor([[-0.8806,  0.3306,  0.3394,  0.0896],\n",
      "        [-0.1655,  0.4565, -0.8742, -0.4179],\n",
      "        [-0.4439, -0.8261, -0.3473, -3.2889],\n",
      "        [ 0.0000,  0.0000,  0.0000,  1.0000]], device='cuda:0')\n"
     ]
    },
    {
     "data": {
      "image/png": "[encoded data removed]",
      "text/plain": [
       "<Figure size 640x480 with 1 Axes>"
      ]
     },
     "metadata": {},
     "output_type": "display_data"
    }
   ],
   "source": [
    "x = torch.tensor([\n",
    "                [\n",
    "                    -0.8806495529218502,\n",
    "                    -0.16553153168942175,\n",
    "                    -0.4439095369048737,\n",
    "                    -0.18127308785915383\n",
    "                ],\n",
    "                [\n",
    "                    -0.3393612688949051,\n",
    "                    0.8742140185471973,\n",
    "                    0.3472517515428839,\n",
    "                    0.1922243535518647\n",
    "                ],\n",
    "                [\n",
    "                    0.33059082581430693,\n",
    "                    0.4564528034661579,\n",
    "                    -0.8260511752278427,\n",
    "                    -0.31945815682411205\n",
    "                ],\n",
    "                [\n",
    "                    0.0,\n",
    "                    0.0,\n",
    "                    0.0,\n",
    "                    1.0000000000000002\n",
    "                ]\n",
    "            ])\n",
    "x[..., :3, 3] *= 10/1.25\n",
    "img = show_image_from_pose(x)\n"
   ]
  },
  {
   "cell_type": "code",
   "execution_count": 84,
   "metadata": {},
   "outputs": [
    {
     "name": "stderr",
     "output_type": "stream",
     "text": [
      "[ WARN:0@94.452] global loadsave.cpp:248 findDecoder imread_('/home/saptarshi/dev/CustomComposer/workdir/merged_images_stop_conds_1/train/rgb_0001_iter1.png'): can't open/read file: check file path/integrity\n"
     ]
    },
    {
     "ename": "error",
     "evalue": "OpenCV(4.8.0) /io/opencv/modules/imgproc/src/color.cpp:182: error: (-215:Assertion failed) !_src.empty() in function 'cvtColor'\n",
     "output_type": "error",
     "traceback": [
      "\u001b[0;31m---------------------------------------------------------------------------\u001b[0m",
      "\u001b[0;31merror\u001b[0m                                     Traceback (most recent call last)",
      "Cell \u001b[0;32mIn[84], line 2\u001b[0m\n\u001b[1;32m      1\u001b[0m img2 \u001b[39m=\u001b[39m cv2\u001b[39m.\u001b[39mimread(\u001b[39m\"\u001b[39m\u001b[39m/home/saptarshi/dev/CustomComposer/workdir/merged_images_stop_conds_1/train/rgb_0001_iter1.png\u001b[39m\u001b[39m\"\u001b[39m)\n\u001b[0;32m----> 2\u001b[0m img2 \u001b[39m=\u001b[39m cv2\u001b[39m.\u001b[39;49mcvtColor(img2, cv2\u001b[39m.\u001b[39;49mCOLOR_BGR2RGB)\n\u001b[1;32m      3\u001b[0m \u001b[39mprint\u001b[39m(img2\u001b[39m.\u001b[39mshape)\n\u001b[1;32m      4\u001b[0m plt\u001b[39m.\u001b[39mimshow(img2)\n",
      "\u001b[0;31merror\u001b[0m: OpenCV(4.8.0) /io/opencv/modules/imgproc/src/color.cpp:182: error: (-215:Assertion failed) !_src.empty() in function 'cvtColor'\n"
     ]
    }
   ],
   "source": [
    "img2 = cv2.imread(\"/home/saptarshi/dev/CustomComposer/workdir/merged_images_stop_conds_1/train/rgb_0001_iter1.png\")\n",
    "img2 = cv2.cvtColor(img2, cv2.COLOR_BGR2RGB)\n",
    "print(img2.shape)\n",
    "plt.imshow(img2)"
   ]
  },
  {
   "cell_type": "code",
   "execution_count": 85,
   "metadata": {},
   "outputs": [
    {
     "ename": "TypeError",
     "evalue": "unsupported operand type(s) for -: 'int' and 'NoneType'",
     "output_type": "error",
     "traceback": [
      "\u001b[0;31m---------------------------------------------------------------------------\u001b[0m",
      "\u001b[0;31mTypeError\u001b[0m                                 Traceback (most recent call last)",
      "Cell \u001b[0;32mIn[85], line 1\u001b[0m\n\u001b[0;32m----> 1\u001b[0m plt\u001b[39m.\u001b[39mimshow((img\u001b[39m*\u001b[39;49m\u001b[39m255\u001b[39;49m)\u001b[39m.\u001b[39;49mastype(np\u001b[39m.\u001b[39;49muint8) \u001b[39m-\u001b[39;49m img2)\n",
      "\u001b[0;31mTypeError\u001b[0m: unsupported operand type(s) for -: 'int' and 'NoneType'"
     ]
    }
   ],
   "source": [
    "plt.imshow((img*255).astype(np.uint8) - img2)"
   ]
  },
  {
   "cell_type": "code",
   "execution_count": 86,
   "metadata": {},
   "outputs": [],
   "source": [
    "# import pickle as pkl\n",
    "# x = pkl.load(open(\"/home/saptarshi/dev/CustomComposer/workdir/output.pkl\", 'rb')).reshape((4,4))\n",
    "# print(x)\n",
    "# x = torch.tensor(np.linalg.inv(x))\n",
    "# print(x)\n",
    "# # x = torch.tensor([[-0.17513783,  0.5093843 , -0.8425285 , -0.32953185],\n",
    "# #        [ 0.1749943 ,  0.8582348 ,  0.4825038 ,  0.22840963],\n",
    "# #        [ 0.96886724, -0.06293302, -0.23944874, -0.11711518],\n",
    "# #        [ 0.        ,  0.        ,  0.        ,  1.        ]])\n",
    "# x[..., :3, 3] *= 10/1.25\n",
    "# show_image_from_pose(x)"
   ]
  },
  {
   "cell_type": "code",
   "execution_count": 87,
   "metadata": {},
   "outputs": [],
   "source": [
    "from scipy.spatial.transform import Rotation as R\n",
    "def calculate_initial_poses(object_center, cam_pose):\n",
    "    def create_pose(rot, loc):\n",
    "        pose = torch.eye(4)\n",
    "        pose[..., :3, :3] = rot\n",
    "        pose[..., :3, 3] = loc*10/1.25\n",
    "        return pose\n",
    "\n",
    "    print((cam_pose[..., :3, 3] - object_center)**2)\n",
    "    d = torch.sqrt(torch.sum((cam_pose[..., :3, 3] - object_center)**2))\n",
    "    r11 =  R.from_rotvec(np.pi/2 * np.array([1, 0, 0]))\n",
    "    r12 =  R.from_rotvec(np.pi * np.array([0, 1, 0]))\n",
    "    front_facing_rot = torch.tensor(r11.as_matrix() @ r12.as_matrix())\n",
    "\n",
    "    # UP\n",
    "    r2 =  R.from_rotvec(-np.pi/4 * np.array([1, 0, 0]))\n",
    "    rot1 = front_facing_rot @ r2.as_matrix()\n",
    "    loc1 = object_center + d/np.sqrt(2)*torch.tensor([0, 1, 1])\n",
    "    \n",
    "    pose1 = create_pose(rot1, loc1)\n",
    "    show_image_from_pose(pose1)\n",
    "\n",
    "    #DOWN\n",
    "    r2 =  R.from_rotvec(np.pi/4 * np.array([1, 0, 0]))\n",
    "    rot2 = front_facing_rot @ r2.as_matrix()\n",
    "    loc2 = object_center + d/np.sqrt(2) * torch.tensor([0, 1, -1])\n",
    "\n",
    "    pose2 = create_pose(rot2, loc2)\n",
    "    show_image_from_pose(pose2)\n",
    "\n",
    "    # LEFT\n",
    "    r2 =  R.from_rotvec(-np.pi/4 * np.array([0, 1, 0]))\n",
    "    rot3 = front_facing_rot @ r2.as_matrix()\n",
    "    loc3 = object_center + d/np.sqrt(2) * torch.tensor([1, 1, 0])\n",
    "\n",
    "    pose3 = create_pose(rot3, loc3)\n",
    "    show_image_from_pose(pose3)\n",
    "\n",
    "    # RIGHT\n",
    "    r2 =  R.from_rotvec(np.pi/4 * np.array([0, 1, 0]))\n",
    "    rot4 = front_facing_rot @ r2.as_matrix()\n",
    "    loc4 = object_center + d/np.sqrt(2) * torch.tensor([-1, 1, 0])\n",
    "\n",
    "    pose4 = create_pose(rot4, loc4)\n",
    "    show_image_from_pose(pose4)\n",
    "\n",
    "    return [pose1, pose2, pose3, pose4]\n",
    "    "
   ]
  },
  {
   "cell_type": "code",
   "execution_count": 88,
   "metadata": {},
   "outputs": [
    {
     "name": "stdout",
     "output_type": "stream",
     "text": [
      "tensor([5.9847e-34, 1.2216e-01, 7.3798e-03])\n",
      "tensor([[-1.0000e+00, -8.6596e-17,  8.6596e-17,  0.0000e+00],\n",
      "        [ 1.2246e-16, -7.0711e-01,  7.0711e-01,  2.4360e+00],\n",
      "        [-2.7193e-32,  7.0711e-01,  7.0711e-01,  2.0360e+00],\n",
      "        [ 0.0000e+00,  0.0000e+00,  0.0000e+00,  1.0000e+00]])\n",
      "tensor([[-1.0000e+00,  1.2246e-16, -2.7193e-32, -2.9833e-16],\n",
      "        [-8.6596e-17, -7.0711e-01,  7.0711e-01,  2.8284e-01],\n",
      "        [ 8.6596e-17,  7.0711e-01,  7.0711e-01, -3.1622e+00],\n",
      "        [ 0.0000e+00,  0.0000e+00,  0.0000e+00,  1.0000e+00]])\n",
      "tensor([[-1.0000e+00, -2.7193e-32, -1.2246e-16, -2.9833e-16],\n",
      "        [-8.6596e-17,  7.0711e-01,  7.0711e-01,  2.8284e-01],\n",
      "        [ 8.6596e-17,  7.0711e-01, -7.0711e-01, -3.1622e+00],\n",
      "        [ 0.0000e+00,  0.0000e+00,  0.0000e+00,  1.0000e+00]], device='cuda:0')\n"
     ]
    },
    {
     "data": {
      "image/png": "[encoded data removed]",
      "text/plain": [
       "<Figure size 640x480 with 1 Axes>"
      ]
     },
     "metadata": {},
     "output_type": "display_data"
    },
    {
     "name": "stdout",
     "output_type": "stream",
     "text": [
      "tensor([[-1.0000e+00,  8.6596e-17,  8.6596e-17,  0.0000e+00],\n",
      "        [ 1.2246e-16,  7.0711e-01,  7.0711e-01,  2.4360e+00],\n",
      "        [-2.7193e-32,  7.0711e-01, -7.0711e-01, -2.0360e+00],\n",
      "        [ 0.0000e+00,  0.0000e+00,  0.0000e+00,  1.0000e+00]])\n",
      "tensor([[-1.0000e+00,  1.2246e-16, -2.7193e-32, -2.9833e-16],\n",
      "        [ 8.6596e-17,  7.0711e-01,  7.0711e-01, -2.8284e-01],\n",
      "        [ 8.6596e-17,  7.0711e-01, -7.0711e-01, -3.1622e+00],\n",
      "        [ 0.0000e+00,  0.0000e+00,  0.0000e+00,  1.0000e+00]])\n",
      "tensor([[-1.0000e+00, -2.7193e-32, -1.2246e-16, -2.9833e-16],\n",
      "        [ 8.6596e-17,  7.0711e-01, -7.0711e-01, -2.8284e-01],\n",
      "        [ 8.6596e-17, -7.0711e-01, -7.0711e-01, -3.1622e+00],\n",
      "        [ 0.0000e+00,  0.0000e+00,  0.0000e+00,  1.0000e+00]], device='cuda:0')\n"
     ]
    },
    {
     "data": {
      "image/png": "[encoded data removed]",
      "text/plain": [
       "<Figure size 640x480 with 1 Axes>"
      ]
     },
     "metadata": {},
     "output_type": "display_data"
    },
    {
     "name": "stdout",
     "output_type": "stream",
     "text": [
      "tensor([[-7.0711e-01,  0.0000e+00,  7.0711e-01,  2.0360e+00],\n",
      "        [ 7.0711e-01,  2.2204e-16,  7.0711e-01,  2.4360e+00],\n",
      "        [-1.5701e-16,  1.0000e+00, -1.5701e-16,  0.0000e+00],\n",
      "        [ 0.0000e+00,  0.0000e+00,  0.0000e+00,  1.0000e+00]])\n",
      "tensor([[-7.0711e-01,  7.0711e-01, -1.5701e-16, -2.8284e-01],\n",
      "        [ 0.0000e+00,  2.2204e-16,  1.0000e+00, -5.4091e-16],\n",
      "        [ 7.0711e-01,  7.0711e-01, -1.5701e-16, -3.1622e+00],\n",
      "        [ 0.0000e+00,  0.0000e+00,  0.0000e+00,  1.0000e+00]])\n",
      "tensor([[-7.0711e-01, -1.5701e-16, -7.0711e-01, -2.8284e-01],\n",
      "        [ 0.0000e+00,  1.0000e+00, -2.2204e-16, -5.4091e-16],\n",
      "        [ 7.0711e-01, -1.5701e-16, -7.0711e-01, -3.1622e+00],\n",
      "        [ 0.0000e+00,  0.0000e+00,  0.0000e+00,  1.0000e+00]], device='cuda:0')\n"
     ]
    },
    {
     "data": {
      "image/png": "[encoded data removed]",
      "text/plain": [
       "<Figure size 640x480 with 1 Axes>"
      ]
     },
     "metadata": {},
     "output_type": "display_data"
    },
    {
     "name": "stdout",
     "output_type": "stream",
     "text": [
      "tensor([[-7.0711e-01,  0.0000e+00, -7.0711e-01, -2.0360e+00],\n",
      "        [-7.0711e-01,  2.2204e-16,  7.0711e-01,  2.4360e+00],\n",
      "        [ 1.5701e-16,  1.0000e+00, -1.5701e-16,  0.0000e+00],\n",
      "        [ 0.0000e+00,  0.0000e+00,  0.0000e+00,  1.0000e+00]])\n",
      "tensor([[-7.0711e-01, -7.0711e-01,  1.5701e-16,  2.8284e-01],\n",
      "        [ 0.0000e+00,  2.2204e-16,  1.0000e+00, -5.4091e-16],\n",
      "        [-7.0711e-01,  7.0711e-01, -1.5701e-16, -3.1622e+00],\n",
      "        [ 0.0000e+00,  0.0000e+00,  0.0000e+00,  1.0000e+00]])\n",
      "tensor([[-7.0711e-01,  1.5701e-16,  7.0711e-01,  2.8284e-01],\n",
      "        [ 0.0000e+00,  1.0000e+00, -2.2204e-16, -5.4091e-16],\n",
      "        [-7.0711e-01, -1.5701e-16, -7.0711e-01, -3.1622e+00],\n",
      "        [ 0.0000e+00,  0.0000e+00,  0.0000e+00,  1.0000e+00]], device='cuda:0')\n"
     ]
    },
    {
     "data": {
      "image/png": "[encoded data removed]",
      "text/plain": [
       "<Figure size 640x480 with 1 Axes>"
      ]
     },
     "metadata": {},
     "output_type": "display_data"
    }
   ],
   "source": [
    "initial_poses = calculate_initial_poses(torch.tensor([0, 0.05, 0]), cur_pose_unscaled)"
   ]
  },
  {
   "cell_type": "code",
   "execution_count": 89,
   "metadata": {},
   "outputs": [
    {
     "name": "stdout",
     "output_type": "stream",
     "text": [
      "tensor([[-1.0000e+00,  1.2246e-16, -2.7193e-32, -2.9833e-16],\n",
      "        [-8.6596e-17, -7.0711e-01,  7.0711e-01,  2.8284e-01],\n",
      "        [ 8.6596e-17,  7.0711e-01,  7.0711e-01, -3.1622e+00],\n",
      "        [ 0.0000e+00,  0.0000e+00,  0.0000e+00,  1.0000e+00]])\n",
      "tensor([[-1.0000e+00, -2.7193e-32, -1.2246e-16, -2.9833e-16],\n",
      "        [-8.6596e-17,  7.0711e-01,  7.0711e-01,  2.8284e-01],\n",
      "        [ 8.6596e-17,  7.0711e-01, -7.0711e-01, -3.1622e+00],\n",
      "        [ 0.0000e+00,  0.0000e+00,  0.0000e+00,  1.0000e+00]], device='cuda:0')\n",
      "tensor([-9.4506e-16,  8.4291e-01, -3.1587e+00], device='cuda:0') tensor([-2.9833e-16,  2.8284e-01, -3.1622e+00], device='cuda:0',\n",
      "       grad_fn=<IndexBackward0>)\n",
      "0 -0.016636166476621243\n",
      "1 -0.017079346952455946\n"
     ]
    },
    {
     "ename": "KeyboardInterrupt",
     "evalue": "",
     "output_type": "error",
     "traceback": [
      "\u001b[0;31m---------------------------------------------------------------------------\u001b[0m",
      "\u001b[0;31mKeyboardInterrupt\u001b[0m                         Traceback (most recent call last)",
      "Cell \u001b[0;32mIn[89], line 11\u001b[0m\n\u001b[1;32m      8\u001b[0m camera\u001b[39m.\u001b[39mextrinsics\u001b[39m.\u001b[39mrequires_grad \u001b[39m=\u001b[39m \u001b[39mTrue\u001b[39;00m\n\u001b[1;32m     10\u001b[0m optimizer \u001b[39m=\u001b[39m torch\u001b[39m.\u001b[39moptim\u001b[39m.\u001b[39mAdam(params\u001b[39m=\u001b[39m[camera\u001b[39m.\u001b[39mextrinsics\u001b[39m.\u001b[39mparameters()], lr\u001b[39m=\u001b[39mextra_args[\u001b[39m'\u001b[39m\u001b[39mlrate\u001b[39m\u001b[39m'\u001b[39m])\n\u001b[0;32m---> 11\u001b[0m loss, cam  \u001b[39m=\u001b[39m optimize(camera, optimizer, extra_args[\u001b[39m\"\u001b[39;49m\u001b[39mepochs\u001b[39;49m\u001b[39m\"\u001b[39;49m], \u001b[39mf\u001b[39;49m\u001b[39m\"\u001b[39;49m\u001b[39mpose\u001b[39;49m\u001b[39m{\u001b[39;49;00mi\u001b[39m+\u001b[39;49m\u001b[39m1\u001b[39;49m\u001b[39m}\u001b[39;49;00m\u001b[39m_\u001b[39;49m\u001b[39m{\u001b[39;49;00mspecify_run\u001b[39m}\u001b[39;49;00m\u001b[39m_vid.avi\u001b[39;49m\u001b[39m\"\u001b[39;49m, \u001b[39mf\u001b[39;49m\u001b[39m\"\u001b[39;49m\u001b[39mpose\u001b[39;49m\u001b[39m{\u001b[39;49;00mi\u001b[39m+\u001b[39;49m\u001b[39m1\u001b[39;49m\u001b[39m}\u001b[39;49;00m\u001b[39m_\u001b[39;49m\u001b[39m{\u001b[39;49;00mspecify_run\u001b[39m}\u001b[39;49;00m\u001b[39m_vid_loss.avi\u001b[39;49m\u001b[39m\"\u001b[39;49m, \u001b[39mf\u001b[39;49m\u001b[39m\"\u001b[39;49m\u001b[39mpose\u001b[39;49m\u001b[39m{\u001b[39;49;00mi\u001b[39m+\u001b[39;49m\u001b[39m1\u001b[39;49m\u001b[39m}\u001b[39;49;00m\u001b[39m_\u001b[39;49m\u001b[39m{\u001b[39;49;00mspecify_run\u001b[39m}\u001b[39;49;00m\u001b[39m_merged.avi\u001b[39;49m\u001b[39m\"\u001b[39;49m)\n\u001b[1;32m     12\u001b[0m \u001b[39mif\u001b[39;00m loss \u001b[39m<\u001b[39m min_loss:\n\u001b[1;32m     13\u001b[0m     best_cam \u001b[39m=\u001b[39m copy\u001b[39m.\u001b[39mdeepcopy(cam)\n",
      "Cell \u001b[0;32mIn[81], line 13\u001b[0m, in \u001b[0;36moptimize\u001b[0;34m(camera, optimizer, max_epochs, vid_name, loss_vid_name, merge_vid_name)\u001b[0m\n\u001b[1;32m     11\u001b[0m rays \u001b[39m=\u001b[39m gen_rays_only(camera)\n\u001b[1;32m     12\u001b[0m rays \u001b[39m=\u001b[39m rays\u001b[39m.\u001b[39mreshape((rays\u001b[39m.\u001b[39mshape[\u001b[39m0\u001b[39m]\u001b[39m*\u001b[39m\u001b[39m*\u001b[39m\u001b[39m2\u001b[39m, \u001b[39m-\u001b[39m\u001b[39m1\u001b[39m))\n\u001b[0;32m---> 13\u001b[0m cur_loss \u001b[39m=\u001b[39m batch_backwards(pipelines, rays, \u001b[39m40000\u001b[39;49m)\n\u001b[1;32m     14\u001b[0m \u001b[39mprint\u001b[39m(ep, cur_loss)\n\u001b[1;32m     15\u001b[0m losses\u001b[39m.\u001b[39mappend(cur_loss)\n",
      "Cell \u001b[0;32mIn[68], line 45\u001b[0m, in \u001b[0;36mbatch_backwards\u001b[0;34m(pipelines, rays, batch_size)\u001b[0m\n\u001b[1;32m     43\u001b[0m all_rgbs \u001b[39m=\u001b[39m torch\u001b[39m.\u001b[39mzeros((\u001b[39mlen\u001b[39m(pipelines), batch_size, \u001b[39m3\u001b[39m), dtype\u001b[39m=\u001b[39m\u001b[39mfloat\u001b[39m)\n\u001b[1;32m     44\u001b[0m \u001b[39mfor\u001b[39;00m i, pipeline \u001b[39min\u001b[39;00m \u001b[39menumerate\u001b[39m(pipelines):\n\u001b[0;32m---> 45\u001b[0m     rb \u001b[39m=\u001b[39m render_pipeline(pipeline, patch_rays, \u001b[39mNone\u001b[39;49;00m)\n\u001b[1;32m     46\u001b[0m     all_rgbs[i,:,:] \u001b[39m=\u001b[39m rb\u001b[39m.\u001b[39mrgb\n\u001b[1;32m     48\u001b[0m unc_loss \u001b[39m=\u001b[39m \u001b[39m-\u001b[39mtorch\u001b[39m.\u001b[39mmean(torch\u001b[39m.\u001b[39mvar(all_rgbs, axis \u001b[39m=\u001b[39m \u001b[39m0\u001b[39m))\n",
      "Cell \u001b[0;32mIn[45], line 6\u001b[0m, in \u001b[0;36mrender_pipeline\u001b[0;34m(pipeline, rays, lod_idx)\u001b[0m\n\u001b[1;32m      3\u001b[0m rb \u001b[39m=\u001b[39m RenderBuffer(xyz\u001b[39m=\u001b[39m\u001b[39mNone\u001b[39;00m, hit\u001b[39m=\u001b[39m\u001b[39mNone\u001b[39;00m, normal\u001b[39m=\u001b[39m\u001b[39mNone\u001b[39;00m, shadow\u001b[39m=\u001b[39m\u001b[39mNone\u001b[39;00m, ao\u001b[39m=\u001b[39m\u001b[39mNone\u001b[39;00m, dirs\u001b[39m=\u001b[39m\u001b[39mNone\u001b[39;00m)\n\u001b[1;32m      4\u001b[0m \u001b[39mfor\u001b[39;00m ray_pack \u001b[39min\u001b[39;00m rays\u001b[39m.\u001b[39msplit(render_batch):\n\u001b[1;32m      5\u001b[0m     \u001b[39m# print(\"haha\")\u001b[39;00m\n\u001b[0;32m----> 6\u001b[0m     rb  \u001b[39m+\u001b[39m\u001b[39m=\u001b[39m pipeline\u001b[39m.\u001b[39;49mtracer(pipeline\u001b[39m.\u001b[39;49mnef, rays\u001b[39m=\u001b[39;49mray_pack, lod_idx\u001b[39m=\u001b[39;49mlod_idx)\n\u001b[1;32m      7\u001b[0m \u001b[39mreturn\u001b[39;00m rb\n",
      "File \u001b[0;32m~/miniconda3/envs/wisp2/lib/python3.9/site-packages/torch/nn/modules/module.py:1190\u001b[0m, in \u001b[0;36mModule._call_impl\u001b[0;34m(self, *input, **kwargs)\u001b[0m\n\u001b[1;32m   1186\u001b[0m \u001b[39m# If we don't have any hooks, we want to skip the rest of the logic in\u001b[39;00m\n\u001b[1;32m   1187\u001b[0m \u001b[39m# this function, and just call forward.\u001b[39;00m\n\u001b[1;32m   1188\u001b[0m \u001b[39mif\u001b[39;00m \u001b[39mnot\u001b[39;00m (\u001b[39mself\u001b[39m\u001b[39m.\u001b[39m_backward_hooks \u001b[39mor\u001b[39;00m \u001b[39mself\u001b[39m\u001b[39m.\u001b[39m_forward_hooks \u001b[39mor\u001b[39;00m \u001b[39mself\u001b[39m\u001b[39m.\u001b[39m_forward_pre_hooks \u001b[39mor\u001b[39;00m _global_backward_hooks\n\u001b[1;32m   1189\u001b[0m         \u001b[39mor\u001b[39;00m _global_forward_hooks \u001b[39mor\u001b[39;00m _global_forward_pre_hooks):\n\u001b[0;32m-> 1190\u001b[0m     \u001b[39mreturn\u001b[39;00m forward_call(\u001b[39m*\u001b[39;49m\u001b[39minput\u001b[39;49m, \u001b[39m*\u001b[39;49m\u001b[39m*\u001b[39;49mkwargs)\n\u001b[1;32m   1191\u001b[0m \u001b[39m# Do not call functions when jit is used\u001b[39;00m\n\u001b[1;32m   1192\u001b[0m full_backward_hooks, non_full_backward_hooks \u001b[39m=\u001b[39m [], []\n",
      "File \u001b[0;32m~/dev/kaolin-wisp/notebooks/../wisp/tracers/base_tracer.py:154\u001b[0m, in \u001b[0;36mBaseTracer.forward\u001b[0;34m(self, nef, rays, channels, **kwargs)\u001b[0m\n\u001b[1;32m    152\u001b[0m             input_args[_arg] \u001b[39m=\u001b[39m default_arg\n\u001b[1;32m    153\u001b[0m \u001b[39mwith\u001b[39;00m torch\u001b[39m.\u001b[39mcuda\u001b[39m.\u001b[39mnvtx\u001b[39m.\u001b[39mrange(\u001b[39m\"\u001b[39m\u001b[39mTracer.trace\u001b[39m\u001b[39m\"\u001b[39m):\n\u001b[0;32m--> 154\u001b[0m     rb \u001b[39m=\u001b[39m \u001b[39mself\u001b[39;49m\u001b[39m.\u001b[39;49mtrace(nef, rays, requested_channels, requested_extra_channels, \u001b[39m*\u001b[39;49m\u001b[39m*\u001b[39;49minput_args)\n\u001b[1;32m    155\u001b[0m \u001b[39mreturn\u001b[39;00m rb\n",
      "File \u001b[0;32m~/dev/kaolin-wisp/notebooks/../wisp/tracers/packed_rf_tracer.py:114\u001b[0m, in \u001b[0;36mPackedRFTracer.trace\u001b[0;34m(self, nef, rays, channels, extra_channels, lod_idx, raymarch_type, num_steps, step_size, bg_color)\u001b[0m\n\u001b[1;32m    109\u001b[0m     lod_idx \u001b[39m=\u001b[39m nef\u001b[39m.\u001b[39mgrid\u001b[39m.\u001b[39mnum_lods \u001b[39m-\u001b[39m \u001b[39m1\u001b[39m\n\u001b[1;32m    111\u001b[0m \u001b[39m# By default, PackedRFTracer will attempt to use the highest level of detail for the ray sampling.\u001b[39;00m\n\u001b[1;32m    112\u001b[0m \u001b[39m# This however may not actually do anything; the ray sampling behaviours are often single-LOD\u001b[39;00m\n\u001b[1;32m    113\u001b[0m \u001b[39m# and is governed by however the underlying feature grid class uses the BLAS to implement the sampling.\u001b[39;00m\n\u001b[0;32m--> 114\u001b[0m raymarch_results \u001b[39m=\u001b[39m nef\u001b[39m.\u001b[39;49mgrid\u001b[39m.\u001b[39;49mraymarch(rays,\n\u001b[1;32m    115\u001b[0m                                      level\u001b[39m=\u001b[39;49mnef\u001b[39m.\u001b[39;49mgrid\u001b[39m.\u001b[39;49mactive_lods[lod_idx],\n\u001b[1;32m    116\u001b[0m                                      num_samples\u001b[39m=\u001b[39;49mnum_steps,\n\u001b[1;32m    117\u001b[0m                                      raymarch_type\u001b[39m=\u001b[39;49mraymarch_type)\n\u001b[1;32m    118\u001b[0m ridx \u001b[39m=\u001b[39m raymarch_results\u001b[39m.\u001b[39mridx\n\u001b[1;32m    119\u001b[0m samples \u001b[39m=\u001b[39m raymarch_results\u001b[39m.\u001b[39msamples\n",
      "File \u001b[0;32m~/dev/kaolin-wisp/notebooks/../wisp/models/grids/hash_grid.py:243\u001b[0m, in \u001b[0;36mHashGrid.raymarch\u001b[0;34m(self, rays, raymarch_type, num_samples, level)\u001b[0m\n\u001b[1;32m    238\u001b[0m \u001b[39mdef\u001b[39;00m \u001b[39mraymarch\u001b[39m(\u001b[39mself\u001b[39m, rays, raymarch_type, num_samples, level\u001b[39m=\u001b[39m\u001b[39mNone\u001b[39;00m) \u001b[39m-\u001b[39m\u001b[39m>\u001b[39m ASRaymarchResults:\n\u001b[1;32m    239\u001b[0m \u001b[39m    \u001b[39m\u001b[39m\"\"\"Mostly a wrapper over OctreeAS.raymarch. See corresponding function for more details.\u001b[39;00m\n\u001b[1;32m    240\u001b[0m \n\u001b[1;32m    241\u001b[0m \u001b[39m    Important detail: the OctreeGrid raymarch samples over the coarsest LOD where features are available.\u001b[39;00m\n\u001b[1;32m    242\u001b[0m \u001b[39m    \"\"\"\u001b[39;00m\n\u001b[0;32m--> 243\u001b[0m     \u001b[39mreturn\u001b[39;00m \u001b[39mself\u001b[39;49m\u001b[39m.\u001b[39;49mblas\u001b[39m.\u001b[39;49mraymarch(rays, raymarch_type\u001b[39m=\u001b[39;49mraymarch_type, num_samples\u001b[39m=\u001b[39;49mnum_samples, level\u001b[39m=\u001b[39;49m\u001b[39mself\u001b[39;49m\u001b[39m.\u001b[39;49mblas_level)\n",
      "File \u001b[0;32m~/dev/kaolin-wisp/notebooks/../wisp/accelstructs/octree_as.py:333\u001b[0m, in \u001b[0;36mOctreeAS.raymarch\u001b[0;34m(self, rays, raymarch_type, num_samples, level)\u001b[0m\n\u001b[1;32m    329\u001b[0m \u001b[39m# Samples points along the rays, and then uses the SPC object the filter out samples that don't hit\u001b[39;00m\n\u001b[1;32m    330\u001b[0m \u001b[39m# the SPC objects. This is a much more well-spaced-out sampling scheme and will work well for \u001b[39;00m\n\u001b[1;32m    331\u001b[0m \u001b[39m# inside-looking-out scenes. The camera near and far planes will have to be adjusted carefully, however.\u001b[39;00m\n\u001b[1;32m    332\u001b[0m \u001b[39melif\u001b[39;00m raymarch_type \u001b[39m==\u001b[39m \u001b[39m'\u001b[39m\u001b[39mray\u001b[39m\u001b[39m'\u001b[39m:\n\u001b[0;32m--> 333\u001b[0m     raymarch_results \u001b[39m=\u001b[39m \u001b[39mself\u001b[39;49m\u001b[39m.\u001b[39;49m_raymarch_ray(rays\u001b[39m=\u001b[39;49mrays, num_samples\u001b[39m=\u001b[39;49mnum_samples, level\u001b[39m=\u001b[39;49mlevel)\n\u001b[1;32m    335\u001b[0m \u001b[39melse\u001b[39;00m:\n\u001b[1;32m    336\u001b[0m     \u001b[39mraise\u001b[39;00m \u001b[39mTypeError\u001b[39;00m(\u001b[39mf\u001b[39m\u001b[39m\"\u001b[39m\u001b[39mRaymarch sampler type: \u001b[39m\u001b[39m{\u001b[39;00mraymarch_type\u001b[39m}\u001b[39;00m\u001b[39m is not supported by OctreeAS.\u001b[39m\u001b[39m\"\u001b[39m)\n",
      "File \u001b[0;32m~/dev/kaolin-wisp/notebooks/../wisp/accelstructs/octree_as.py:270\u001b[0m, in \u001b[0;36mOctreeAS._raymarch_ray\u001b[0;34m(self, rays, num_samples, level)\u001b[0m\n\u001b[1;32m    268\u001b[0m pidx \u001b[39m=\u001b[39m pidx\u001b[39m.\u001b[39mreshape(num_rays, num_samples)\n\u001b[1;32m    269\u001b[0m mask \u001b[39m=\u001b[39m pidx \u001b[39m>\u001b[39m \u001b[39m-\u001b[39m\u001b[39m1\u001b[39m\n\u001b[0;32m--> 270\u001b[0m non_masked_idx \u001b[39m=\u001b[39m torch\u001b[39m.\u001b[39;49mnonzero(mask)\n\u001b[1;32m    272\u001b[0m deltas \u001b[39m=\u001b[39m depth\u001b[39m.\u001b[39mdiff(dim\u001b[39m=\u001b[39m\u001b[39m-\u001b[39m\u001b[39m1\u001b[39m,\n\u001b[1;32m    273\u001b[0m                     prepend\u001b[39m=\u001b[39m(torch\u001b[39m.\u001b[39mzeros(rays\u001b[39m.\u001b[39morigins\u001b[39m.\u001b[39mshape[\u001b[39m0\u001b[39m], \u001b[39m1\u001b[39m, device\u001b[39m=\u001b[39mdepth\u001b[39m.\u001b[39mdevice) \u001b[39m+\u001b[39m rays\u001b[39m.\u001b[39mdist_min))\n\u001b[1;32m    275\u001b[0m \u001b[39m# NUM_HIT_SAMPLES: number of samples sampled within occupied cells\u001b[39;00m\n\u001b[1;32m    276\u001b[0m \u001b[39m# NUM_HIT_SAMPLES can be 0!\u001b[39;00m\n\u001b[1;32m    277\u001b[0m \u001b[39m# depth_samples, deltas, ridx, boundary ~ (NUM_HIT_SAMPLES,)\u001b[39;00m\n\u001b[1;32m    278\u001b[0m \u001b[39m# samples ~ (NUM_HIT_SAMPLES, 3)\u001b[39;00m\n",
      "\u001b[0;31mKeyboardInterrupt\u001b[0m: "
     ]
    }
   ],
   "source": [
    "best_cam = None\n",
    "min_loss = np.inf\n",
    "losses = None\n",
    "specify_run = f\"{extra_args['epochs']}_{extra_args['lrate']}_stop{extra_args['wait_epochs']}\"\n",
    "for i, initial_pose in enumerate(initial_poses):\n",
    "    camera = gen_camera(torch.clone(initial_pose).detach(), extra_args['focal'], W, H, z_far, extra_args)\n",
    "    camera.switch_backend('matrix_6dof_rotation')\n",
    "    camera.extrinsics.requires_grad = True\n",
    "\n",
    "    optimizer = torch.optim.Adam(params=[camera.extrinsics.parameters()], lr=extra_args['lrate'])\n",
    "    loss, cam  = optimize(camera, optimizer, extra_args[\"epochs\"], f\"pose{i+1}_{specify_run}_vid.avi\", f\"pose{i+1}_{specify_run}_vid_loss.avi\", f\"pose{i+1}_{specify_run}_merged.avi\")\n",
    "    if loss < min_loss:\n",
    "        best_cam = copy.deepcopy(cam)\n",
    "        min_loss = loss"
   ]
  },
  {
   "cell_type": "code",
   "execution_count": null,
   "metadata": {},
   "outputs": [],
   "source": []
  },
  {
   "cell_type": "code",
   "execution_count": 69,
   "metadata": {},
   "outputs": [],
   "source": [
    "merge_horizontal(\"results/videos/pose1_500_vid.avi\", \"results/videos/pose1_500_vid_loss.avi\", \"results/videos/pose1_500_merged.avi\")"
   ]
  },
  {
   "cell_type": "code",
   "execution_count": 23,
   "metadata": {},
   "outputs": [
    {
     "data": {
      "image/png": "[encoded data removed]",
      "text/plain": [
       "<Figure size 640x480 with 1 Axes>"
      ]
     },
     "metadata": {},
     "output_type": "display_data"
    }
   ],
   "source": [
    "animate_plot(np.arange(len(losses)), losses, f'results/videos/pose0_vid_loss.avi', \"epochs\", \"loss\", \"loss v/s epoch while training\")\n"
   ]
  },
  {
   "cell_type": "code",
   "execution_count": 55,
   "metadata": {},
   "outputs": [
    {
     "name": "stdout",
     "output_type": "stream",
     "text": [
      "tensor([[-0.9319,  0.2598, -0.2530, -0.1112,  0.4594,  0.8812, -0.1709,  0.7563,\n",
      "         -2.8435]], device='cuda:0')\n",
      "tensor([[-0.9319,  0.2598, -0.2530, -0.1709],\n",
      "        [-0.1112,  0.4594,  0.8812,  0.7563],\n",
      "        [ 0.3452,  0.8494, -0.3992, -2.8435],\n",
      "        [ 0.0000,  0.0000,  0.0000,  1.0000]], device='cuda:0')\n"
     ]
    }
   ],
   "source": [
    "camera.extrinsics.requires_grad = False\n",
    "print(camera.extrinsics.parameters())\n",
    "camera.extrinsics.switch_backend(\"matrix_se3\")\n",
    "print(camera.extrinsics.parameters().reshape((4, 4)))\n",
    "camera.extrinsics.switch_backend(\"matrix_6dof_rotation\")\n"
   ]
  },
  {
   "cell_type": "code",
   "execution_count": 34,
   "metadata": {},
   "outputs": [],
   "source": [
    "def batch_loss(rays, pipelines, batch_size):\n",
    "    total_loss = 0\n",
    "    for patch_rays in rays.split(batch_size):\n",
    "            all_rgbs = torch.zeros((len(pipelines), batch_size, 3), dtype=float)\n",
    "            for i, pipeline in enumerate(pipelines):\n",
    "                rb = render_pipeline(pipeline, patch_rays, None)\n",
    "                all_rgbs[i,:,:] = rb.rgb\n",
    "\n",
    "            unc_loss = -torch.mean(torch.var(all_rgbs, axis = 0))\n",
    "            total_loss += unc_loss.item()\n",
    "    print(total_loss)\n",
    "    return total_loss\n",
    "            \n",
    "\n"
   ]
  },
  {
   "cell_type": "code",
   "execution_count": 82,
   "metadata": {},
   "outputs": [
    {
     "name": "stdout",
     "output_type": "stream",
     "text": [
      "tensor([[-1.0000,  0.0000,  0.0000,  0.0000],\n",
      "        [ 0.0000, -0.7071,  0.7071, -1.9311],\n",
      "        [ 0.0000,  0.7071,  0.7071, -1.9318],\n",
      "        [ 0.0000,  0.0000,  0.0000,  1.0000]], dtype=torch.float64)\n",
      "tensor([[-1.0000,  0.0000,  0.0000,  0.0000],\n",
      "        [ 0.0000,  0.7071,  0.7071, -1.9311],\n",
      "        [ 0.0000,  0.7071, -0.7071, -1.9318],\n",
      "        [ 0.0000,  0.0000,  0.0000,  1.0000]], device='cuda:0')\n"
     ]
    },
    {
     "data": {
      "image/png": "[encoded data removed]",
      "text/plain": [
       "<Figure size 640x480 with 1 Axes>"
      ]
     },
     "metadata": {},
     "output_type": "display_data"
    },
    {
     "name": "stdout",
     "output_type": "stream",
     "text": [
      "Rays(origins=tensor([[[ 0.0000e+00,  2.7315e+00, -5.5170e-04],\n",
      "         [ 0.0000e+00,  2.7315e+00, -5.5170e-04],\n",
      "         [ 0.0000e+00,  2.7315e+00, -5.5170e-04],\n",
      "         ...,\n",
      "         [ 0.0000e+00,  2.7315e+00, -5.5170e-04],\n",
      "         [ 0.0000e+00,  2.7315e+00, -5.5170e-04],\n",
      "         [ 0.0000e+00,  2.7315e+00, -5.5170e-04]],\n",
      "\n",
      "        [[ 0.0000e+00,  2.7315e+00, -5.5170e-04],\n",
      "         [ 0.0000e+00,  2.7315e+00, -5.5170e-04],\n",
      "         [ 0.0000e+00,  2.7315e+00, -5.5170e-04],\n",
      "         ...,\n",
      "         [ 0.0000e+00,  2.7315e+00, -5.5170e-04],\n",
      "         [ 0.0000e+00,  2.7315e+00, -5.5170e-04],\n",
      "         [ 0.0000e+00,  2.7315e+00, -5.5170e-04]],\n",
      "\n",
      "        [[ 0.0000e+00,  2.7315e+00, -5.5170e-04],\n",
      "         [ 0.0000e+00,  2.7315e+00, -5.5170e-04],\n",
      "         [ 0.0000e+00,  2.7315e+00, -5.5170e-04],\n",
      "         ...,\n",
      "         [ 0.0000e+00,  2.7315e+00, -5.5170e-04],\n",
      "         [ 0.0000e+00,  2.7315e+00, -5.5170e-04],\n",
      "         [ 0.0000e+00,  2.7315e+00, -5.5170e-04]],\n",
      "\n",
      "        ...,\n",
      "\n",
      "        [[ 0.0000e+00,  2.7315e+00, -5.5170e-04],\n",
      "         [ 0.0000e+00,  2.7315e+00, -5.5170e-04],\n",
      "         [ 0.0000e+00,  2.7315e+00, -5.5170e-04],\n",
      "         ...,\n",
      "         [ 0.0000e+00,  2.7315e+00, -5.5170e-04],\n",
      "         [ 0.0000e+00,  2.7315e+00, -5.5170e-04],\n",
      "         [ 0.0000e+00,  2.7315e+00, -5.5170e-04]],\n",
      "\n",
      "        [[ 0.0000e+00,  2.7315e+00, -5.5170e-04],\n",
      "         [ 0.0000e+00,  2.7315e+00, -5.5170e-04],\n",
      "         [ 0.0000e+00,  2.7315e+00, -5.5170e-04],\n",
      "         ...,\n",
      "         [ 0.0000e+00,  2.7315e+00, -5.5170e-04],\n",
      "         [ 0.0000e+00,  2.7315e+00, -5.5170e-04],\n",
      "         [ 0.0000e+00,  2.7315e+00, -5.5170e-04]],\n",
      "\n",
      "        [[ 0.0000e+00,  2.7315e+00, -5.5170e-04],\n",
      "         [ 0.0000e+00,  2.7315e+00, -5.5170e-04],\n",
      "         [ 0.0000e+00,  2.7315e+00, -5.5170e-04],\n",
      "         ...,\n",
      "         [ 0.0000e+00,  2.7315e+00, -5.5170e-04],\n",
      "         [ 0.0000e+00,  2.7315e+00, -5.5170e-04],\n",
      "         [ 0.0000e+00,  2.7315e+00, -5.5170e-04]]], device='cuda:0'), dirs=tensor([[[ 0.5227, -0.1066,  0.8458],\n",
      "         [ 0.5218, -0.1066,  0.8464],\n",
      "         [ 0.5208, -0.1067,  0.8470],\n",
      "         ...,\n",
      "         [-0.5208, -0.1067,  0.8470],\n",
      "         [-0.5218, -0.1066,  0.8464],\n",
      "         [-0.5227, -0.1066,  0.8458]],\n",
      "\n",
      "        [[ 0.5231, -0.1076,  0.8455],\n",
      "         [ 0.5221, -0.1076,  0.8460],\n",
      "         [ 0.5212, -0.1077,  0.8466],\n",
      "         ...,\n",
      "         [-0.5212, -0.1077,  0.8466],\n",
      "         [-0.5221, -0.1076,  0.8460],\n",
      "         [-0.5231, -0.1076,  0.8455]],\n",
      "\n",
      "        [[ 0.5234, -0.1086,  0.8451],\n",
      "         [ 0.5225, -0.1086,  0.8457],\n",
      "         [ 0.5215, -0.1087,  0.8463],\n",
      "         ...,\n",
      "         [-0.5215, -0.1087,  0.8463],\n",
      "         [-0.5225, -0.1086,  0.8457],\n",
      "         [-0.5234, -0.1086,  0.8451]],\n",
      "\n",
      "        ...,\n",
      "\n",
      "        [[ 0.5234, -0.8451,  0.1086],\n",
      "         [ 0.5225, -0.8457,  0.1086],\n",
      "         [ 0.5215, -0.8463,  0.1087],\n",
      "         ...,\n",
      "         [-0.5215, -0.8463,  0.1087],\n",
      "         [-0.5225, -0.8457,  0.1086],\n",
      "         [-0.5234, -0.8451,  0.1086]],\n",
      "\n",
      "        [[ 0.5231, -0.8455,  0.1076],\n",
      "         [ 0.5221, -0.8460,  0.1076],\n",
      "         [ 0.5212, -0.8466,  0.1077],\n",
      "         ...,\n",
      "         [-0.5212, -0.8466,  0.1077],\n",
      "         [-0.5221, -0.8460,  0.1076],\n",
      "         [-0.5231, -0.8455,  0.1076]],\n",
      "\n",
      "        [[ 0.5227, -0.8458,  0.1066],\n",
      "         [ 0.5218, -0.8464,  0.1066],\n",
      "         [ 0.5208, -0.8470,  0.1067],\n",
      "         ...,\n",
      "         [-0.5208, -0.8470,  0.1067],\n",
      "         [-0.5218, -0.8464,  0.1066],\n",
      "         [-0.5227, -0.8458,  0.1066]]], device='cuda:0'), dist_min=0.0, dist_max=10.0)\n",
      "tensor([[-9.9950e-01, -3.1574e-02, -1.0017e-16,  3.7253e-08],\n",
      "        [ 1.7828e-02, -5.6436e-01,  8.2534e-01,  2.2336e-01],\n",
      "        [-2.6059e-02,  8.2492e-01,  5.6464e-01, -3.0472e+00],\n",
      "        [ 0.0000e+00,  0.0000e+00,  0.0000e+00,  1.0000e+00]])\n",
      "tensor([[-9.9950e-01, -1.0017e-16,  3.1574e-02,  3.7253e-08],\n",
      "        [ 1.7828e-02,  8.2534e-01,  5.6436e-01,  2.2336e-01],\n",
      "        [-2.6059e-02,  5.6464e-01, -8.2492e-01, -3.0472e+00],\n",
      "        [ 0.0000e+00,  0.0000e+00,  0.0000e+00,  1.0000e+00]], device='cuda:0')\n",
      "Rays(origins=tensor([[[-0.0834,  1.5362, -2.6398],\n",
      "         [-0.0834,  1.5362, -2.6398],\n",
      "         [-0.0834,  1.5362, -2.6398],\n",
      "         ...,\n",
      "         [-0.0834,  1.5362, -2.6398],\n",
      "         [-0.0834,  1.5362, -2.6398],\n",
      "         [-0.0834,  1.5362, -2.6398]],\n",
      "\n",
      "        [[-0.0834,  1.5362, -2.6398],\n",
      "         [-0.0834,  1.5362, -2.6398],\n",
      "         [-0.0834,  1.5362, -2.6398],\n",
      "         ...,\n",
      "         [-0.0834,  1.5362, -2.6398],\n",
      "         [-0.0834,  1.5362, -2.6398],\n",
      "         [-0.0834,  1.5362, -2.6398]],\n",
      "\n",
      "        [[-0.0834,  1.5362, -2.6398],\n",
      "         [-0.0834,  1.5362, -2.6398],\n",
      "         [-0.0834,  1.5362, -2.6398],\n",
      "         ...,\n",
      "         [-0.0834,  1.5362, -2.6398],\n",
      "         [-0.0834,  1.5362, -2.6398],\n",
      "         [-0.0834,  1.5362, -2.6398]],\n",
      "\n",
      "        ...,\n",
      "\n",
      "        [[-0.0834,  1.5362, -2.6398],\n",
      "         [-0.0834,  1.5362, -2.6398],\n",
      "         [-0.0834,  1.5362, -2.6398],\n",
      "         ...,\n",
      "         [-0.0834,  1.5362, -2.6398],\n",
      "         [-0.0834,  1.5362, -2.6398],\n",
      "         [-0.0834,  1.5362, -2.6398]],\n",
      "\n",
      "        [[-0.0834,  1.5362, -2.6398],\n",
      "         [-0.0834,  1.5362, -2.6398],\n",
      "         [-0.0834,  1.5362, -2.6398],\n",
      "         ...,\n",
      "         [-0.0834,  1.5362, -2.6398],\n",
      "         [-0.0834,  1.5362, -2.6398],\n",
      "         [-0.0834,  1.5362, -2.6398]],\n",
      "\n",
      "        [[-0.0834,  1.5362, -2.6398],\n",
      "         [-0.0834,  1.5362, -2.6398],\n",
      "         [-0.0834,  1.5362, -2.6398],\n",
      "         ...,\n",
      "         [-0.0834,  1.5362, -2.6398],\n",
      "         [-0.0834,  1.5362, -2.6398],\n",
      "         [-0.0834,  1.5362, -2.6398]]], device='cuda:0'), dirs=tensor([[[ 0.5493,  0.0512,  0.8340],\n",
      "         [ 0.5484,  0.0512,  0.8346],\n",
      "         [ 0.5475,  0.0513,  0.8353],\n",
      "         ...,\n",
      "         [-0.4937,  0.0513,  0.8681],\n",
      "         [-0.4946,  0.0512,  0.8676],\n",
      "         [-0.4956,  0.0512,  0.8670]],\n",
      "\n",
      "        [[ 0.5497,  0.0501,  0.8339],\n",
      "         [ 0.5488,  0.0502,  0.8345],\n",
      "         [ 0.5478,  0.0502,  0.8351],\n",
      "         ...,\n",
      "         [-0.4940,  0.0502,  0.8680],\n",
      "         [-0.4950,  0.0502,  0.8674],\n",
      "         [-0.4960,  0.0501,  0.8669]],\n",
      "\n",
      "        [[ 0.5500,  0.0491,  0.8337],\n",
      "         [ 0.5491,  0.0491,  0.8343],\n",
      "         [ 0.5482,  0.0492,  0.8349],\n",
      "         ...,\n",
      "         [-0.4944,  0.0492,  0.8679],\n",
      "         [-0.4954,  0.0491,  0.8673],\n",
      "         [-0.4963,  0.0491,  0.8667]],\n",
      "\n",
      "        ...,\n",
      "\n",
      "        [[ 0.5315, -0.8106,  0.2458],\n",
      "         [ 0.5305, -0.8112,  0.2460],\n",
      "         [ 0.5296, -0.8117,  0.2462],\n",
      "         ...,\n",
      "         [-0.5130, -0.8117,  0.2792],\n",
      "         [-0.5139, -0.8112,  0.2790],\n",
      "         [-0.5149, -0.8106,  0.2789]],\n",
      "\n",
      "        [[ 0.5311, -0.8111,  0.2449],\n",
      "         [ 0.5301, -0.8117,  0.2451],\n",
      "         [ 0.5292, -0.8123,  0.2453],\n",
      "         ...,\n",
      "         [-0.5127, -0.8123,  0.2782],\n",
      "         [-0.5136, -0.8117,  0.2781],\n",
      "         [-0.5146, -0.8111,  0.2779]],\n",
      "\n",
      "        [[ 0.5307, -0.8117,  0.2440],\n",
      "         [ 0.5298, -0.8122,  0.2442],\n",
      "         [ 0.5288, -0.8128,  0.2444],\n",
      "         ...,\n",
      "         [-0.5123, -0.8128,  0.2773],\n",
      "         [-0.5133, -0.8122,  0.2772],\n",
      "         [-0.5142, -0.8117,  0.2770]]], device='cuda:0'), dist_min=0.0, dist_max=10.0)\n"
     ]
    },
    {
     "data": {
      "image/png": "[encoded data removed]",
      "text/plain": [
       "<Figure size 640x480 with 1 Axes>"
      ]
     },
     "metadata": {},
     "output_type": "display_data"
    }
   ],
   "source": [
    "center_location = torch.tensor([0, 0, 0.2])\n",
    "d = np.sqrt(((cur_pose[..., :3, 3]) - center_location)**2)\n",
    "loc = center_location + d/np.sqrt(2)*torch.tensor([0, 1, 1])\n",
    "pose1 = torch.tensor([\n",
    "    [\n",
    "        -1,\n",
    "        0,\n",
    "        0,\n",
    "        loc[0]\n",
    "    ],\n",
    "    [\n",
    "        0,\n",
    "        -1/np.sqrt(2),\n",
    "        1/np.sqrt(2),\n",
    "        loc[1]\n",
    "    ],\n",
    "    [\n",
    "        0,\n",
    "        1/np.sqrt(2),\n",
    "        1/np.sqrt(2),\n",
    "        loc[2]\n",
    "    ],\n",
    "    [\n",
    "        0,\n",
    "        0,\n",
    "        0,\n",
    "        1\n",
    "    ],\n",
    "\n",
    "])\n",
    "\n",
    "pose2 = torch.tensor( [\n",
    "                [\n",
    "                    -0.9995014259114849,\n",
    "                    0.017827861805323246,\n",
    "                    -0.026058912954277216,\n",
    "                    -0.010423559328692432\n",
    "                ],\n",
    "                [\n",
    "                    -0.031573716932098754,\n",
    "                    -0.5643609630660327,\n",
    "                    0.8249241200051503,\n",
    "                    0.3299696497695737\n",
    "                ],\n",
    "                [\n",
    "                    -1.0016903827879961e-16,\n",
    "                    0.8253356109551012,\n",
    "                    0.5646424791754244,\n",
    "                    0.19202898935801416\n",
    "                ],\n",
    "                [\n",
    "                    0.0,\n",
    "                    0.0,\n",
    "                    0.0,\n",
    "                    1.0\n",
    "                ]\n",
    "            ])\n",
    "pose1[..., :3, 3] *= 10/1.25\n",
    "pose2[..., :3, 3] *= 10/1.25\n",
    "z_near, z_far = extra_args['z_near'], extra_args['z_far']\n",
    "\n",
    "cam1 = gen_camera(torch.clone(pose1).detach(), extra_args['focal'], W, H, z_far, extra_args)\n",
    "cam1.switch_backend('matrix_6dof_rotation')\n",
    "rays1 = gen_rays_only(cam1)\n",
    "plt.imshow(get_image(cam1, pipelines[0])[0])\n",
    "plt.show()\n",
    "print(rays1)\n",
    "cam2 = gen_camera(torch.clone(pose2).detach(), extra_args['focal'], W, H, z_far, extra_args)\n",
    "cam2.switch_backend('matrix_6dof_rotation')\n",
    "rays2 = gen_rays_only(cam2)\n",
    "print(rays2)\n",
    "plt.imshow(get_image(cam2, pipelines[0])[0])\n",
    "plt.show()"
   ]
  },
  {
   "cell_type": "code",
   "execution_count": 28,
   "metadata": {},
   "outputs": [],
   "source": [
    "import scipy"
   ]
  },
  {
   "cell_type": "code",
   "execution_count": 66,
   "metadata": {},
   "outputs": [
    {
     "name": "stderr",
     "output_type": "stream",
     "text": [
      "/tmp/ipykernel_3295961/1334502667.py:2: UserWarning: Optimal rotation is not uniquely or poorly defined for the given sets of vectors.\n",
      "  res, _ = scipy.spatial.transform.Rotation.align_vectors([[0, 0, -1]], [[0, -1, 0]])\n"
     ]
    }
   ],
   "source": [
    "# res, _ = scipy.spatial.transform.Rotation.align_vectors([[0, -1/np.sqrt(2), -1/np.sqrt(2)]], [[0, -1/np.sqrt(2), 1/np.sqrt(2)]])\n",
    "res, _ = scipy.spatial.transform.Rotation.align_vectors([[0, 0, -1]], [[0, -1, 0]])"
   ]
  },
  {
   "cell_type": "code",
   "execution_count": 67,
   "metadata": {},
   "outputs": [
    {
     "name": "stdout",
     "output_type": "stream",
     "text": [
      "tensor([[-1.0000,  0.0000,  0.0000],\n",
      "        [ 0.0000, -0.7071,  0.7071],\n",
      "        [ 0.0000,  0.7071,  0.7071]], dtype=torch.float64)\n",
      "[[ 1.  0.  0.]\n",
      " [ 0.  0. -1.]\n",
      " [ 0.  1.  0.]]\n",
      "tensor([[-1.0000,  0.0000,  0.0000],\n",
      "        [ 0.0000,  0.7071,  0.7071],\n",
      "        [ 0.0000,  0.7071, -0.7071]], dtype=torch.float64)\n",
      "tensor([[-1.0000,  0.0000,  0.0000,  0.0000],\n",
      "        [ 0.0000,  0.7071,  0.7071, -1.5858],\n",
      "        [ 0.0000,  0.7071, -0.7071, -1.6103],\n",
      "        [ 0.0000,  0.0000,  0.0000,  1.0000]])\n",
      "tensor([[-1.0000,  0.0000,  0.0000,  0.0000],\n",
      "        [ 0.0000,  0.7071, -0.7071, -1.5858],\n",
      "        [ 0.0000, -0.7071, -0.7071, -1.6103],\n",
      "        [ 0.0000,  0.0000,  0.0000,  1.0000]], device='cuda:0')\n"
     ]
    },
    {
     "data": {
      "image/png": "[encoded data removed]",
      "text/plain": [
       "<Figure size 640x480 with 1 Axes>"
      ]
     },
     "metadata": {},
     "output_type": "display_data"
    }
   ],
   "source": [
    "print(pose1[..., :3, :3])\n",
    "print(res.as_matrix())\n",
    "print(pose1[..., :3, :3] @ res.as_matrix())\n",
    "rotn = pose1[..., :3, :3] @ res.as_matrix()\n",
    "locn = center_location + d/np.sqrt(2)*torch.tensor([0, 1, -1])\n",
    "pose3 = torch.zeros((4,4))\n",
    "pose3[:3, :3] = rotn\n",
    "pose3[:3, 3] = locn*10/1.25\n",
    "pose3[3, :] = torch.tensor([0, 0, 0, 1])\n",
    "\n",
    "cam3 = gen_camera(torch.clone(pose3).detach(), extra_args['focal'], W, H, z_far, extra_args)\n",
    "cam3.switch_backend('matrix_6dof_rotation')\n",
    "# raysn = gen_rays_only(camn)\n",
    "plt.imshow(get_image(cam3, pipelines[0])[0])\n",
    "plt.show()"
   ]
  },
  {
   "cell_type": "code",
   "execution_count": 35,
   "metadata": {},
   "outputs": [],
   "source": [
    "\n",
    "def loss_off(camera, off_x, off_y, off_z):\n",
    "    cam2 = copy.deepcopy(camera)\n",
    "    # print(cam2.extrinsics._backend.params)\n",
    "    cam2.extrinsics._backend.params[0,6] += off_x\n",
    "    cam2.extrinsics._backend.params[0,7] += off_y\n",
    "    cam2.extrinsics._backend.params[0,8] += off_z\n",
    "    print(cam2.extrinsics._backend.params)\n",
    "    # plt.imshow(get_image(cam2, pipeline=pipelines[0])[0])\n",
    "    # plt.show()\n",
    "    rays = gen_rays_only(cam2)\n",
    "    rays = rays.reshape((rays.shape[0]**2, -1))\n",
    "    return (batch_loss(rays, pipelines, 40000)/16)\n",
    "    "
   ]
  },
  {
   "cell_type": "code",
   "execution_count": 18,
   "metadata": {},
   "outputs": [
    {
     "data": {
      "text/plain": [
       "[{'x0': 0.0,\n",
       "  'y0': 0.0,\n",
       "  'focal_x': 514.6666259765625,\n",
       "  'focal_y': 514.6666259765625}]"
      ]
     },
     "execution_count": 18,
     "metadata": {},
     "output_type": "execute_result"
    }
   ],
   "source": [
    "cam1.intrinsics.named_params()"
   ]
  },
  {
   "cell_type": "code",
   "execution_count": 160,
   "metadata": {},
   "outputs": [],
   "source": [
    "# all_ys = all_ys+ys\n",
    "# all_ys = all_ys[0:42]"
   ]
  },
  {
   "cell_type": "code",
   "execution_count": 140,
   "metadata": {},
   "outputs": [],
   "source": [
    "# print(torch.cuda.memory_summary())"
   ]
  },
  {
   "cell_type": "code",
   "execution_count": 165,
   "metadata": {},
   "outputs": [
    {
     "name": "stdout",
     "output_type": "stream",
     "text": [
      "tensor([[-0.9319,  0.2598, -0.2530, -0.1112,  0.4594,  0.8812, -0.1709,  0.7563,\n",
      "         -2.9435]], device='cuda:0')\n",
      "-0.03607498266413982\n",
      "tensor([[-0.9319,  0.2598, -0.2530, -0.1112,  0.4594,  0.8812, -0.1709,  0.7563,\n",
      "         -2.9415]], device='cuda:0')\n",
      "-0.0360801022976389\n",
      "tensor([[-0.9319,  0.2598, -0.2530, -0.1112,  0.4594,  0.8812, -0.1709,  0.7563,\n",
      "         -2.9395]], device='cuda:0')\n",
      "-0.0361337257088005\n",
      "tensor([[-0.9319,  0.2598, -0.2530, -0.1112,  0.4594,  0.8812, -0.1709,  0.7563,\n",
      "         -2.9375]], device='cuda:0')\n",
      "-0.03621589303957636\n",
      "tensor([[-0.9319,  0.2598, -0.2530, -0.1112,  0.4594,  0.8812, -0.1709,  0.7563,\n",
      "         -2.9354]], device='cuda:0')\n",
      "-0.036226712590597315\n",
      "tensor([[-0.9319,  0.2598, -0.2530, -0.1112,  0.4594,  0.8812, -0.1709,  0.7563,\n",
      "         -2.9334]], device='cuda:0')\n",
      "-0.03629760643267761\n",
      "tensor([[-0.9319,  0.2598, -0.2530, -0.1112,  0.4594,  0.8812, -0.1709,  0.7563,\n",
      "         -2.9314]], device='cuda:0')\n",
      "-0.036336711696767963\n",
      "tensor([[-0.9319,  0.2598, -0.2530, -0.1112,  0.4594,  0.8812, -0.1709,  0.7563,\n",
      "         -2.9294]], device='cuda:0')\n",
      "-0.036379049732546805\n",
      "tensor([[-0.9319,  0.2598, -0.2530, -0.1112,  0.4594,  0.8812, -0.1709,  0.7563,\n",
      "         -2.9274]], device='cuda:0')\n",
      "-0.0364425601243439\n",
      "tensor([[-0.9319,  0.2598, -0.2530, -0.1112,  0.4594,  0.8812, -0.1709,  0.7563,\n",
      "         -2.9253]], device='cuda:0')\n",
      "-0.0365073658195817\n",
      "tensor([[-0.9319,  0.2598, -0.2530, -0.1112,  0.4594,  0.8812, -0.1709,  0.7563,\n",
      "         -2.9233]], device='cuda:0')\n",
      "-0.03653285819878888\n",
      "tensor([[-0.9319,  0.2598, -0.2530, -0.1112,  0.4594,  0.8812, -0.1709,  0.7563,\n",
      "         -2.9213]], device='cuda:0')\n",
      "-0.03659242185256625\n",
      "tensor([[-0.9319,  0.2598, -0.2530, -0.1112,  0.4594,  0.8812, -0.1709,  0.7563,\n",
      "         -2.9193]], device='cuda:0')\n",
      "-0.03662740721671931\n",
      "tensor([[-0.9319,  0.2598, -0.2530, -0.1112,  0.4594,  0.8812, -0.1709,  0.7563,\n",
      "         -2.9173]], device='cuda:0')\n",
      "-0.03672555850898854\n",
      "tensor([[-0.9319,  0.2598, -0.2530, -0.1112,  0.4594,  0.8812, -0.1709,  0.7563,\n",
      "         -2.9152]], device='cuda:0')\n",
      "-0.03671776182736995\n",
      "tensor([[-0.9319,  0.2598, -0.2530, -0.1112,  0.4594,  0.8812, -0.1709,  0.7563,\n",
      "         -2.9132]], device='cuda:0')\n",
      "-0.036752076607418575\n",
      "tensor([[-0.9319,  0.2598, -0.2530, -0.1112,  0.4594,  0.8812, -0.1709,  0.7563,\n",
      "         -2.9112]], device='cuda:0')\n",
      "-0.036873905323179704\n",
      "tensor([[-0.9319,  0.2598, -0.2530, -0.1112,  0.4594,  0.8812, -0.1709,  0.7563,\n",
      "         -2.9092]], device='cuda:0')\n",
      "-0.03691131814443545\n",
      "tensor([[-0.9319,  0.2598, -0.2530, -0.1112,  0.4594,  0.8812, -0.1709,  0.7563,\n",
      "         -2.9072]], device='cuda:0')\n",
      "-0.03695400640096761\n",
      "tensor([[-0.9319,  0.2598, -0.2530, -0.1112,  0.4594,  0.8812, -0.1709,  0.7563,\n",
      "         -2.9051]], device='cuda:0')\n",
      "-0.03697329019774534\n",
      "tensor([[-0.9319,  0.2598, -0.2530, -0.1112,  0.4594,  0.8812, -0.1709,  0.7563,\n",
      "         -2.9031]], device='cuda:0')\n",
      "-0.037080639651077094\n",
      "tensor([[-0.9319,  0.2598, -0.2530, -0.1112,  0.4594,  0.8812, -0.1709,  0.7563,\n",
      "         -2.9011]], device='cuda:0')\n",
      "-0.03710513824568699\n",
      "tensor([[-0.9319,  0.2598, -0.2530, -0.1112,  0.4594,  0.8812, -0.1709,  0.7563,\n",
      "         -2.8991]], device='cuda:0')\n",
      "-0.03712791917886253\n",
      "tensor([[-0.9319,  0.2598, -0.2530, -0.1112,  0.4594,  0.8812, -0.1709,  0.7563,\n",
      "         -2.8971]], device='cuda:0')\n",
      "-0.037212501969361704\n",
      "tensor([[-0.9319,  0.2598, -0.2530, -0.1112,  0.4594,  0.8812, -0.1709,  0.7563,\n",
      "         -2.8950]], device='cuda:0')\n",
      "-0.03725799551562976\n",
      "tensor([[-0.9319,  0.2598, -0.2530, -0.1112,  0.4594,  0.8812, -0.1709,  0.7563,\n",
      "         -2.8930]], device='cuda:0')\n",
      "-0.037289100857429286\n",
      "tensor([[-0.9319,  0.2598, -0.2530, -0.1112,  0.4594,  0.8812, -0.1709,  0.7563,\n",
      "         -2.8910]], device='cuda:0')\n",
      "-0.03735146410056555\n",
      "tensor([[-0.9319,  0.2598, -0.2530, -0.1112,  0.4594,  0.8812, -0.1709,  0.7563,\n",
      "         -2.8890]], device='cuda:0')\n",
      "-0.03741286528184011\n",
      "tensor([[-0.9319,  0.2598, -0.2530, -0.1112,  0.4594,  0.8812, -0.1709,  0.7563,\n",
      "         -2.8870]], device='cuda:0')\n",
      "-0.03745987839661619\n",
      "tensor([[-0.9319,  0.2598, -0.2530, -0.1112,  0.4594,  0.8812, -0.1709,  0.7563,\n",
      "         -2.8849]], device='cuda:0')\n",
      "-0.03749811867749582\n",
      "tensor([[-0.9319,  0.2598, -0.2530, -0.1112,  0.4594,  0.8812, -0.1709,  0.7563,\n",
      "         -2.8829]], device='cuda:0')\n",
      "-0.037544185067392266\n",
      "tensor([[-0.9319,  0.2598, -0.2530, -0.1112,  0.4594,  0.8812, -0.1709,  0.7563,\n",
      "         -2.8809]], device='cuda:0')\n",
      "-0.03758228990800757\n",
      "tensor([[-0.9319,  0.2598, -0.2530, -0.1112,  0.4594,  0.8812, -0.1709,  0.7563,\n",
      "         -2.8789]], device='cuda:0')\n",
      "-0.03762254331736146\n",
      "tensor([[-0.9319,  0.2598, -0.2530, -0.1112,  0.4594,  0.8812, -0.1709,  0.7563,\n",
      "         -2.8769]], device='cuda:0')\n",
      "-0.037668463867722365\n",
      "tensor([[-0.9319,  0.2598, -0.2530, -0.1112,  0.4594,  0.8812, -0.1709,  0.7563,\n",
      "         -2.8748]], device='cuda:0')\n",
      "-0.037716693696974585\n",
      "tensor([[-0.9319,  0.2598, -0.2530, -0.1112,  0.4594,  0.8812, -0.1709,  0.7563,\n",
      "         -2.8728]], device='cuda:0')\n",
      "-0.037815271573039815\n",
      "tensor([[-0.9319,  0.2598, -0.2530, -0.1112,  0.4594,  0.8812, -0.1709,  0.7563,\n",
      "         -2.8708]], device='cuda:0')\n",
      "-0.037832999609515514\n",
      "tensor([[-0.9319,  0.2598, -0.2530, -0.1112,  0.4594,  0.8812, -0.1709,  0.7563,\n",
      "         -2.8688]], device='cuda:0')\n",
      "-0.03787265949541749\n",
      "tensor([[-0.9319,  0.2598, -0.2530, -0.1112,  0.4594,  0.8812, -0.1709,  0.7563,\n",
      "         -2.8668]], device='cuda:0')\n",
      "-0.03792530418441573\n",
      "tensor([[-0.9319,  0.2598, -0.2530, -0.1112,  0.4594,  0.8812, -0.1709,  0.7563,\n",
      "         -2.8647]], device='cuda:0')\n",
      "-0.037947541116888056\n",
      "tensor([[-0.9319,  0.2598, -0.2530, -0.1112,  0.4594,  0.8812, -0.1709,  0.7563,\n",
      "         -2.8627]], device='cuda:0')\n",
      "-0.038023926251357476\n",
      "tensor([[-0.9319,  0.2598, -0.2530, -0.1112,  0.4594,  0.8812, -0.1709,  0.7563,\n",
      "         -2.8607]], device='cuda:0')\n",
      "-0.03808531957303002\n",
      "tensor([[-0.9319,  0.2598, -0.2530, -0.1112,  0.4594,  0.8812, -0.1709,  0.7563,\n",
      "         -2.8587]], device='cuda:0')\n",
      "-0.03809753282587346\n",
      "tensor([[-0.9319,  0.2598, -0.2530, -0.1112,  0.4594,  0.8812, -0.1709,  0.7563,\n",
      "         -2.8567]], device='cuda:0')\n",
      "-0.03816263440053377\n",
      "tensor([[-0.9319,  0.2598, -0.2530, -0.1112,  0.4594,  0.8812, -0.1709,  0.7563,\n",
      "         -2.8546]], device='cuda:0')\n",
      "-0.03821856476542272\n",
      "tensor([[-0.9319,  0.2598, -0.2530, -0.1112,  0.4594,  0.8812, -0.1709,  0.7563,\n",
      "         -2.8526]], device='cuda:0')\n",
      "-0.0383023445521586\n",
      "tensor([[-0.9319,  0.2598, -0.2530, -0.1112,  0.4594,  0.8812, -0.1709,  0.7563,\n",
      "         -2.8506]], device='cuda:0')\n",
      "-0.03834765424800125\n",
      "tensor([[-0.9319,  0.2598, -0.2530, -0.1112,  0.4594,  0.8812, -0.1709,  0.7563,\n",
      "         -2.8486]], device='cuda:0')\n",
      "-0.03838432893524495\n",
      "tensor([[-0.9319,  0.2598, -0.2530, -0.1112,  0.4594,  0.8812, -0.1709,  0.7563,\n",
      "         -2.8466]], device='cuda:0')\n",
      "-0.03841774387127714\n",
      "tensor([[-0.9319,  0.2598, -0.2530, -0.1112,  0.4594,  0.8812, -0.1709,  0.7563,\n",
      "         -2.8445]], device='cuda:0')\n",
      "-0.03846713997730958\n",
      "tensor([[-0.9319,  0.2598, -0.2530, -0.1112,  0.4594,  0.8812, -0.1709,  0.7563,\n",
      "         -2.8425]], device='cuda:0')\n",
      "-0.03848923763148505\n",
      "tensor([[-0.9319,  0.2598, -0.2530, -0.1112,  0.4594,  0.8812, -0.1709,  0.7563,\n",
      "         -2.8405]], device='cuda:0')\n",
      "-0.038541697638449\n",
      "tensor([[-0.9319,  0.2598, -0.2530, -0.1112,  0.4594,  0.8812, -0.1709,  0.7563,\n",
      "         -2.8385]], device='cuda:0')\n",
      "-0.03859840947831364\n",
      "tensor([[-0.9319,  0.2598, -0.2530, -0.1112,  0.4594,  0.8812, -0.1709,  0.7563,\n",
      "         -2.8365]], device='cuda:0')\n",
      "-0.038669417906909205\n",
      "tensor([[-0.9319,  0.2598, -0.2530, -0.1112,  0.4594,  0.8812, -0.1709,  0.7563,\n",
      "         -2.8344]], device='cuda:0')\n",
      "-0.03868313771592736\n",
      "tensor([[-0.9319,  0.2598, -0.2530, -0.1112,  0.4594,  0.8812, -0.1709,  0.7563,\n",
      "         -2.8324]], device='cuda:0')\n",
      "-0.03877072390178899\n",
      "tensor([[-0.9319,  0.2598, -0.2530, -0.1112,  0.4594,  0.8812, -0.1709,  0.7563,\n",
      "         -2.8304]], device='cuda:0')\n",
      "-0.03883843155265844\n",
      "tensor([[-0.9319,  0.2598, -0.2530, -0.1112,  0.4594,  0.8812, -0.1709,  0.7563,\n",
      "         -2.8284]], device='cuda:0')\n",
      "-0.03887368824199157\n",
      "tensor([[-0.9319,  0.2598, -0.2530, -0.1112,  0.4594,  0.8812, -0.1709,  0.7563,\n",
      "         -2.8264]], device='cuda:0')\n",
      "-0.03890403306002327\n",
      "tensor([[-0.9319,  0.2598, -0.2530, -0.1112,  0.4594,  0.8812, -0.1709,  0.7563,\n",
      "         -2.8243]], device='cuda:0')\n",
      "-0.0389806898201061\n",
      "tensor([[-0.9319,  0.2598, -0.2530, -0.1112,  0.4594,  0.8812, -0.1709,  0.7563,\n",
      "         -2.8223]], device='cuda:0')\n",
      "-0.0389683581478329\n",
      "tensor([[-0.9319,  0.2598, -0.2530, -0.1112,  0.4594,  0.8812, -0.1709,  0.7563,\n",
      "         -2.8203]], device='cuda:0')\n",
      "-0.03902477218466173\n",
      "tensor([[-0.9319,  0.2598, -0.2530, -0.1112,  0.4594,  0.8812, -0.1709,  0.7563,\n",
      "         -2.8183]], device='cuda:0')\n",
      "-0.03911760325219537\n",
      "tensor([[-0.9319,  0.2598, -0.2530, -0.1112,  0.4594,  0.8812, -0.1709,  0.7563,\n",
      "         -2.8163]], device='cuda:0')\n",
      "-0.03915118121119547\n",
      "tensor([[-0.9319,  0.2598, -0.2530, -0.1112,  0.4594,  0.8812, -0.1709,  0.7563,\n",
      "         -2.8142]], device='cuda:0')\n",
      "-0.03919125042438589\n",
      "tensor([[-0.9319,  0.2598, -0.2530, -0.1112,  0.4594,  0.8812, -0.1709,  0.7563,\n",
      "         -2.8122]], device='cuda:0')\n",
      "-0.039221092441280254\n",
      "tensor([[-0.9319,  0.2598, -0.2530, -0.1112,  0.4594,  0.8812, -0.1709,  0.7563,\n",
      "         -2.8102]], device='cuda:0')\n",
      "-0.03920530150206361\n",
      "tensor([[-0.9319,  0.2598, -0.2530, -0.1112,  0.4594,  0.8812, -0.1709,  0.7563,\n",
      "         -2.8082]], device='cuda:0')\n",
      "-0.0393191258264415\n",
      "tensor([[-0.9319,  0.2598, -0.2530, -0.1112,  0.4594,  0.8812, -0.1709,  0.7563,\n",
      "         -2.8062]], device='cuda:0')\n",
      "-0.039370620454709224\n",
      "tensor([[-0.9319,  0.2598, -0.2530, -0.1112,  0.4594,  0.8812, -0.1709,  0.7563,\n",
      "         -2.8041]], device='cuda:0')\n",
      "-0.03943330322014166\n",
      "tensor([[-0.9319,  0.2598, -0.2530, -0.1112,  0.4594,  0.8812, -0.1709,  0.7563,\n",
      "         -2.8021]], device='cuda:0')\n",
      "-0.03946426242131819\n",
      "tensor([[-0.9319,  0.2598, -0.2530, -0.1112,  0.4594,  0.8812, -0.1709,  0.7563,\n",
      "         -2.8001]], device='cuda:0')\n",
      "-0.03948430168588607\n",
      "tensor([[-0.9319,  0.2598, -0.2530, -0.1112,  0.4594,  0.8812, -0.1709,  0.7563,\n",
      "         -2.7981]], device='cuda:0')\n",
      "-0.03955007437781315\n",
      "tensor([[-0.9319,  0.2598, -0.2530, -0.1112,  0.4594,  0.8812, -0.1709,  0.7563,\n",
      "         -2.7961]], device='cuda:0')\n",
      "-0.0395906660535895\n",
      "tensor([[-0.9319,  0.2598, -0.2530, -0.1112,  0.4594,  0.8812, -0.1709,  0.7563,\n",
      "         -2.7940]], device='cuda:0')\n",
      "-0.039659944940838056\n",
      "tensor([[-0.9319,  0.2598, -0.2530, -0.1112,  0.4594,  0.8812, -0.1709,  0.7563,\n",
      "         -2.7920]], device='cuda:0')\n",
      "-0.03970569540781067\n",
      "tensor([[-0.9319,  0.2598, -0.2530, -0.1112,  0.4594,  0.8812, -0.1709,  0.7563,\n",
      "         -2.7900]], device='cuda:0')\n",
      "-0.039747841556225655\n",
      "tensor([[-0.9319,  0.2598, -0.2530, -0.1112,  0.4594,  0.8812, -0.1709,  0.7563,\n",
      "         -2.7880]], device='cuda:0')\n",
      "-0.03981900412218403\n",
      "tensor([[-0.9319,  0.2598, -0.2530, -0.1112,  0.4594,  0.8812, -0.1709,  0.7563,\n",
      "         -2.7860]], device='cuda:0')\n",
      "-0.03986294195515203\n",
      "tensor([[-0.9319,  0.2598, -0.2530, -0.1112,  0.4594,  0.8812, -0.1709,  0.7563,\n",
      "         -2.7839]], device='cuda:0')\n",
      "-0.039906280698039046\n",
      "tensor([[-0.9319,  0.2598, -0.2530, -0.1112,  0.4594,  0.8812, -0.1709,  0.7563,\n",
      "         -2.7819]], device='cuda:0')\n",
      "-0.03998086428843536\n",
      "tensor([[-0.9319,  0.2598, -0.2530, -0.1112,  0.4594,  0.8812, -0.1709,  0.7563,\n",
      "         -2.7799]], device='cuda:0')\n",
      "-0.039993479962332525\n",
      "tensor([[-0.9319,  0.2598, -0.2530, -0.1112,  0.4594,  0.8812, -0.1709,  0.7563,\n",
      "         -2.7779]], device='cuda:0')\n",
      "-0.04003016964451338\n",
      "tensor([[-0.9319,  0.2598, -0.2530, -0.1112,  0.4594,  0.8812, -0.1709,  0.7563,\n",
      "         -2.7759]], device='cuda:0')\n",
      "-0.0400862026649659\n",
      "tensor([[-0.9319,  0.2598, -0.2530, -0.1112,  0.4594,  0.8812, -0.1709,  0.7563,\n",
      "         -2.7738]], device='cuda:0')\n",
      "-0.0401182786306094\n",
      "tensor([[-0.9319,  0.2598, -0.2530, -0.1112,  0.4594,  0.8812, -0.1709,  0.7563,\n",
      "         -2.7718]], device='cuda:0')\n",
      "-0.040200931947559096\n",
      "tensor([[-0.9319,  0.2598, -0.2530, -0.1112,  0.4594,  0.8812, -0.1709,  0.7563,\n",
      "         -2.7698]], device='cuda:0')\n",
      "-0.040271860694502525\n",
      "tensor([[-0.9319,  0.2598, -0.2530, -0.1112,  0.4594,  0.8812, -0.1709,  0.7563,\n",
      "         -2.7678]], device='cuda:0')\n",
      "-0.0402948218433946\n",
      "tensor([[-0.9319,  0.2598, -0.2530, -0.1112,  0.4594,  0.8812, -0.1709,  0.7563,\n",
      "         -2.7658]], device='cuda:0')\n",
      "-0.04032736689342837\n",
      "tensor([[-0.9319,  0.2598, -0.2530, -0.1112,  0.4594,  0.8812, -0.1709,  0.7563,\n",
      "         -2.7637]], device='cuda:0')\n",
      "-0.04039891034176629\n",
      "tensor([[-0.9319,  0.2598, -0.2530, -0.1112,  0.4594,  0.8812, -0.1709,  0.7563,\n",
      "         -2.7617]], device='cuda:0')\n",
      "-0.04045134856456292\n",
      "tensor([[-0.9319,  0.2598, -0.2530, -0.1112,  0.4594,  0.8812, -0.1709,  0.7563,\n",
      "         -2.7597]], device='cuda:0')\n",
      "-0.04053742943524756\n",
      "tensor([[-0.9319,  0.2598, -0.2530, -0.1112,  0.4594,  0.8812, -0.1709,  0.7563,\n",
      "         -2.7577]], device='cuda:0')\n",
      "-0.040561813775029994\n",
      "tensor([[-0.9319,  0.2598, -0.2530, -0.1112,  0.4594,  0.8812, -0.1709,  0.7563,\n",
      "         -2.7556]], device='cuda:0')\n",
      "-0.04060965756774057\n",
      "tensor([[-0.9319,  0.2598, -0.2530, -0.1112,  0.4594,  0.8812, -0.1709,  0.7563,\n",
      "         -2.7536]], device='cuda:0')\n",
      "-0.040629621983697385\n",
      "tensor([[-0.9319,  0.2598, -0.2530, -0.1112,  0.4594,  0.8812, -0.1709,  0.7563,\n",
      "         -2.7516]], device='cuda:0')\n",
      "-0.040710180204525506\n",
      "tensor([[-0.9319,  0.2598, -0.2530, -0.1112,  0.4594,  0.8812, -0.1709,  0.7563,\n",
      "         -2.7496]], device='cuda:0')\n",
      "-0.0406973014150404\n",
      "tensor([[-0.9319,  0.2598, -0.2530, -0.1112,  0.4594,  0.8812, -0.1709,  0.7563,\n",
      "         -2.7476]], device='cuda:0')\n",
      "-0.04076136080373079\n",
      "tensor([[-0.9319,  0.2598, -0.2530, -0.1112,  0.4594,  0.8812, -0.1709,  0.7563,\n",
      "         -2.7455]], device='cuda:0')\n",
      "-0.04078081618957023\n",
      "tensor([[-0.9319,  0.2598, -0.2530, -0.1112,  0.4594,  0.8812, -0.1709,  0.7563,\n",
      "         -2.7435]], device='cuda:0')\n",
      "-0.04088414670712452\n"
     ]
    }
   ],
   "source": [
    "import plotly.express as px\n",
    "xs = np.linspace(-0.1, 0.1, 100)\n",
    "ys = [loss_off(camera, 0, 0, x) for x in xs]"
   ]
  },
  {
   "cell_type": "code",
   "execution_count": 156,
   "metadata": {},
   "outputs": [
    {
     "data": {
      "text/plain": [
       "[-0.0027964764675651806]"
      ]
     },
     "execution_count": 156,
     "metadata": {},
     "output_type": "execute_result"
    }
   ],
   "source": [
    "ys"
   ]
  },
  {
   "cell_type": "code",
   "execution_count": 161,
   "metadata": {},
   "outputs": [
    {
     "data": {
      "text/plain": [
       "50"
      ]
     },
     "execution_count": 161,
     "metadata": {},
     "output_type": "execute_result"
    }
   ],
   "source": [
    "len(all_ys)"
   ]
  },
  {
   "cell_type": "code",
   "execution_count": 166,
   "metadata": {},
   "outputs": [
    {
     "data": {
      "application/vnd.plotly.v1+json": {
       "config": {
        "plotlyServerURL": "https://plot.ly"
       },
       "data": [
        {
         "hovertemplate": "x=%{x}<br>y=%{y}<extra></extra>",
         "legendgroup": "",
         "line": {
          "color": "#636efa",
          "dash": "solid"
         },
         "marker": {
          "symbol": "circle"
         },
         "mode": "lines",
         "name": "",
         "orientation": "v",
         "showlegend": false,
         "type": "scatter",
         "x": [
          -0.1,
          -0.09797979797979799,
          -0.09595959595959597,
          -0.09393939393939395,
          -0.09191919191919193,
          -0.08989898989898991,
          -0.08787878787878789,
          -0.08585858585858586,
          -0.08383838383838385,
          -0.08181818181818182,
          -0.07979797979797981,
          -0.07777777777777778,
          -0.07575757575757576,
          -0.07373737373737374,
          -0.07171717171717172,
          -0.0696969696969697,
          -0.06767676767676768,
          -0.06565656565656566,
          -0.06363636363636364,
          -0.061616161616161624,
          -0.059595959595959605,
          -0.05757575757575758,
          -0.05555555555555556,
          -0.05353535353535354,
          -0.05151515151515152,
          -0.0494949494949495,
          -0.04747474747474748,
          -0.04545454545454546,
          -0.043434343434343436,
          -0.04141414141414142,
          -0.0393939393939394,
          -0.03737373737373738,
          -0.03535353535353536,
          -0.03333333333333334,
          -0.03131313131313132,
          -0.0292929292929293,
          -0.027272727272727282,
          -0.025252525252525262,
          -0.023232323232323243,
          -0.021212121212121224,
          -0.019191919191919204,
          -0.01717171717171717,
          -0.015151515151515152,
          -0.013131313131313133,
          -0.011111111111111113,
          -0.009090909090909094,
          -0.007070707070707075,
          -0.005050505050505055,
          -0.003030303030303036,
          -0.0010101010101010166,
          0.0010101010101010027,
          0.003030303030303022,
          0.005050505050505041,
          0.007070707070707061,
          0.00909090909090908,
          0.0111111111111111,
          0.013131313131313133,
          0.015151515151515152,
          0.01717171717171717,
          0.01919191919191919,
          0.02121212121212121,
          0.02323232323232323,
          0.02525252525252525,
          0.027272727272727254,
          0.029292929292929287,
          0.03131313131313132,
          0.033333333333333326,
          0.03535353535353536,
          0.037373737373737365,
          0.0393939393939394,
          0.0414141414141414,
          0.043434343434343436,
          0.04545454545454544,
          0.047474747474747475,
          0.04949494949494948,
          0.051515151515151514,
          0.05353535353535352,
          0.05555555555555555,
          0.05757575757575756,
          0.05959595959595959,
          0.0616161616161616,
          0.06363636363636363,
          0.06565656565656566,
          0.06767676767676767,
          0.0696969696969697,
          0.07171717171717171,
          0.07373737373737374,
          0.07575757575757575,
          0.07777777777777778,
          0.07979797979797978,
          0.08181818181818182,
          0.08383838383838382,
          0.08585858585858586,
          0.08787878787878786,
          0.0898989898989899,
          0.0919191919191919,
          0.09393939393939393,
          0.09595959595959597,
          0.09797979797979797,
          0.1
         ],
         "xaxis": "x",
         "y": [
          -0.0022546864165087386,
          -0.0022550063936024314,
          -0.0022583578568000314,
          -0.0022634933149735226,
          -0.002264169536912332,
          -0.0022686004020423508,
          -0.0022710444810479977,
          -0.0022736906082841753,
          -0.002277660007771494,
          -0.0022817103637238563,
          -0.002283303637424305,
          -0.0022870263657853904,
          -0.002289212951044957,
          -0.0022953474068117836,
          -0.002294860114210622,
          -0.002297004787963661,
          -0.0023046190826987315,
          -0.0023069573840272155,
          -0.0023096254000604757,
          -0.0023108306373590837,
          -0.0023175399781923183,
          -0.0023190711403554367,
          -0.002320494948678908,
          -0.0023257813730851065,
          -0.00232862471972686,
          -0.0023305688035893304,
          -0.002334466506285347,
          -0.002338304080115007,
          -0.002341242399788512,
          -0.0023436324173434888,
          -0.0023465115667120166,
          -0.002348893119250473,
          -0.002351408957335091,
          -0.002354278991732648,
          -0.0023572933560609115,
          -0.0023634544733149884,
          -0.0023645624755947196,
          -0.002367041218463593,
          -0.0023703315115259833,
          -0.0023717213198055035,
          -0.0023764953907098423,
          -0.002380332473314376,
          -0.0023810958016170915,
          -0.0023851646500333604,
          -0.00238866029783892,
          -0.0023938965345099124,
          -0.0023967283905000783,
          -0.0023990205584528096,
          -0.002401108991954821,
          -0.0024041962485818486,
          -0.0024055773519678155,
          -0.0024088561024030626,
          -0.0024124005923946024,
          -0.0024168386191818253,
          -0.00241769610724546,
          -0.002423170243861812,
          -0.0024274019720411525,
          -0.002429605515124473,
          -0.0024315020662514543,
          -0.0024362931137566313,
          -0.0024355223842395563,
          -0.002439048261541358,
          -0.0024448502032622106,
          -0.002446948825699717,
          -0.002449453151524118,
          -0.002451318277580016,
          -0.0024503313438789757,
          -0.002457445364152594,
          -0.0024606637784193265,
          -0.0024645814512588536,
          -0.002466516401332387,
          -0.0024677688553678793,
          -0.002471879648613322,
          -0.0024744166283493436,
          -0.0024787465588023785,
          -0.002481605962988167,
          -0.0024842400972641034,
          -0.002488687757636502,
          -0.002491433872197002,
          -0.0024941425436274403,
          -0.00249880401802721,
          -0.002499592497645783,
          -0.002501885602782086,
          -0.002505387666560369,
          -0.0025073924144130874,
          -0.0025125582467224435,
          -0.002516991293406408,
          -0.0025184263652121624,
          -0.002520460430839273,
          -0.0025249318963603933,
          -0.0025282092852851826,
          -0.0025335893397029725,
          -0.0025351133609393746,
          -0.0025381035979837856,
          -0.0025393513739810866,
          -0.002544386262782844,
          -0.002543581338440025,
          -0.002547585050233174,
          -0.0025488010118481395,
          -0.0025552591691952826
         ],
         "yaxis": "y"
        }
       ],
       "layout": {
        "legend": {
         "tracegroupgap": 0
        },
        "margin": {
         "t": 60
        },
        "template": {
         "data": {
          "bar": [
           {
            "error_x": {
             "color": "#2a3f5f"
            },
            "error_y": {
             "color": "#2a3f5f"
            },
            "marker": {
             "line": {
              "color": "#E5ECF6",
              "width": 0.5
             },
             "pattern": {
              "fillmode": "overlay",
              "size": 10,
              "solidity": 0.2
             }
            },
            "type": "bar"
           }
          ],
          "barpolar": [
           {
            "marker": {
             "line": {
              "color": "#E5ECF6",
              "width": 0.5
             },
             "pattern": {
              "fillmode": "overlay",
              "size": 10,
              "solidity": 0.2
             }
            },
            "type": "barpolar"
           }
          ],
          "carpet": [
           {
            "aaxis": {
             "endlinecolor": "#2a3f5f",
             "gridcolor": "white",
             "linecolor": "white",
             "minorgridcolor": "white",
             "startlinecolor": "#2a3f5f"
            },
            "baxis": {
             "endlinecolor": "#2a3f5f",
             "gridcolor": "white",
             "linecolor": "white",
             "minorgridcolor": "white",
             "startlinecolor": "#2a3f5f"
            },
            "type": "carpet"
           }
          ],
          "choropleth": [
           {
            "colorbar": {
             "outlinewidth": 0,
             "ticks": ""
            },
            "type": "choropleth"
           }
          ],
          "contour": [
           {
            "colorbar": {
             "outlinewidth": 0,
             "ticks": ""
            },
            "colorscale": [
             [
              0,
              "#0d0887"
             ],
             [
              0.1111111111111111,
              "#46039f"
             ],
             [
              0.2222222222222222,
              "#7201a8"
             ],
             [
              0.3333333333333333,
              "#9c179e"
             ],
             [
              0.4444444444444444,
              "#bd3786"
             ],
             [
              0.5555555555555556,
              "#d8576b"
             ],
             [
              0.6666666666666666,
              "#ed7953"
             ],
             [
              0.7777777777777778,
              "#fb9f3a"
             ],
             [
              0.8888888888888888,
              "#fdca26"
             ],
             [
              1,
              "#f0f921"
             ]
            ],
            "type": "contour"
           }
          ],
          "contourcarpet": [
           {
            "colorbar": {
             "outlinewidth": 0,
             "ticks": ""
            },
            "type": "contourcarpet"
           }
          ],
          "heatmap": [
           {
            "colorbar": {
             "outlinewidth": 0,
             "ticks": ""
            },
            "colorscale": [
             [
              0,
              "#0d0887"
             ],
             [
              0.1111111111111111,
              "#46039f"
             ],
             [
              0.2222222222222222,
              "#7201a8"
             ],
             [
              0.3333333333333333,
              "#9c179e"
             ],
             [
              0.4444444444444444,
              "#bd3786"
             ],
             [
              0.5555555555555556,
              "#d8576b"
             ],
             [
              0.6666666666666666,
              "#ed7953"
             ],
             [
              0.7777777777777778,
              "#fb9f3a"
             ],
             [
              0.8888888888888888,
              "#fdca26"
             ],
             [
              1,
              "#f0f921"
             ]
            ],
            "type": "heatmap"
           }
          ],
          "heatmapgl": [
           {
            "colorbar": {
             "outlinewidth": 0,
             "ticks": ""
            },
            "colorscale": [
             [
              0,
              "#0d0887"
             ],
             [
              0.1111111111111111,
              "#46039f"
             ],
             [
              0.2222222222222222,
              "#7201a8"
             ],
             [
              0.3333333333333333,
              "#9c179e"
             ],
             [
              0.4444444444444444,
              "#bd3786"
             ],
             [
              0.5555555555555556,
              "#d8576b"
             ],
             [
              0.6666666666666666,
              "#ed7953"
             ],
             [
              0.7777777777777778,
              "#fb9f3a"
             ],
             [
              0.8888888888888888,
              "#fdca26"
             ],
             [
              1,
              "#f0f921"
             ]
            ],
            "type": "heatmapgl"
           }
          ],
          "histogram": [
           {
            "marker": {
             "pattern": {
              "fillmode": "overlay",
              "size": 10,
              "solidity": 0.2
             }
            },
            "type": "histogram"
           }
          ],
          "histogram2d": [
           {
            "colorbar": {
             "outlinewidth": 0,
             "ticks": ""
            },
            "colorscale": [
             [
              0,
              "#0d0887"
             ],
             [
              0.1111111111111111,
              "#46039f"
             ],
             [
              0.2222222222222222,
              "#7201a8"
             ],
             [
              0.3333333333333333,
              "#9c179e"
             ],
             [
              0.4444444444444444,
              "#bd3786"
             ],
             [
              0.5555555555555556,
              "#d8576b"
             ],
             [
              0.6666666666666666,
              "#ed7953"
             ],
             [
              0.7777777777777778,
              "#fb9f3a"
             ],
             [
              0.8888888888888888,
              "#fdca26"
             ],
             [
              1,
              "#f0f921"
             ]
            ],
            "type": "histogram2d"
           }
          ],
          "histogram2dcontour": [
           {
            "colorbar": {
             "outlinewidth": 0,
             "ticks": ""
            },
            "colorscale": [
             [
              0,
              "#0d0887"
             ],
             [
              0.1111111111111111,
              "#46039f"
             ],
             [
              0.2222222222222222,
              "#7201a8"
             ],
             [
              0.3333333333333333,
              "#9c179e"
             ],
             [
              0.4444444444444444,
              "#bd3786"
             ],
             [
              0.5555555555555556,
              "#d8576b"
             ],
             [
              0.6666666666666666,
              "#ed7953"
             ],
             [
              0.7777777777777778,
              "#fb9f3a"
             ],
             [
              0.8888888888888888,
              "#fdca26"
             ],
             [
              1,
              "#f0f921"
             ]
            ],
            "type": "histogram2dcontour"
           }
          ],
          "mesh3d": [
           {
            "colorbar": {
             "outlinewidth": 0,
             "ticks": ""
            },
            "type": "mesh3d"
           }
          ],
          "parcoords": [
           {
            "line": {
             "colorbar": {
              "outlinewidth": 0,
              "ticks": ""
             }
            },
            "type": "parcoords"
           }
          ],
          "pie": [
           {
            "automargin": true,
            "type": "pie"
           }
          ],
          "scatter": [
           {
            "fillpattern": {
             "fillmode": "overlay",
             "size": 10,
             "solidity": 0.2
            },
            "type": "scatter"
           }
          ],
          "scatter3d": [
           {
            "line": {
             "colorbar": {
              "outlinewidth": 0,
              "ticks": ""
             }
            },
            "marker": {
             "colorbar": {
              "outlinewidth": 0,
              "ticks": ""
             }
            },
            "type": "scatter3d"
           }
          ],
          "scattercarpet": [
           {
            "marker": {
             "colorbar": {
              "outlinewidth": 0,
              "ticks": ""
             }
            },
            "type": "scattercarpet"
           }
          ],
          "scattergeo": [
           {
            "marker": {
             "colorbar": {
              "outlinewidth": 0,
              "ticks": ""
             }
            },
            "type": "scattergeo"
           }
          ],
          "scattergl": [
           {
            "marker": {
             "colorbar": {
              "outlinewidth": 0,
              "ticks": ""
             }
            },
            "type": "scattergl"
           }
          ],
          "scattermapbox": [
           {
            "marker": {
             "colorbar": {
              "outlinewidth": 0,
              "ticks": ""
             }
            },
            "type": "scattermapbox"
           }
          ],
          "scatterpolar": [
           {
            "marker": {
             "colorbar": {
              "outlinewidth": 0,
              "ticks": ""
             }
            },
            "type": "scatterpolar"
           }
          ],
          "scatterpolargl": [
           {
            "marker": {
             "colorbar": {
              "outlinewidth": 0,
              "ticks": ""
             }
            },
            "type": "scatterpolargl"
           }
          ],
          "scatterternary": [
           {
            "marker": {
             "colorbar": {
              "outlinewidth": 0,
              "ticks": ""
             }
            },
            "type": "scatterternary"
           }
          ],
          "surface": [
           {
            "colorbar": {
             "outlinewidth": 0,
             "ticks": ""
            },
            "colorscale": [
             [
              0,
              "#0d0887"
             ],
             [
              0.1111111111111111,
              "#46039f"
             ],
             [
              0.2222222222222222,
              "#7201a8"
             ],
             [
              0.3333333333333333,
              "#9c179e"
             ],
             [
              0.4444444444444444,
              "#bd3786"
             ],
             [
              0.5555555555555556,
              "#d8576b"
             ],
             [
              0.6666666666666666,
              "#ed7953"
             ],
             [
              0.7777777777777778,
              "#fb9f3a"
             ],
             [
              0.8888888888888888,
              "#fdca26"
             ],
             [
              1,
              "#f0f921"
             ]
            ],
            "type": "surface"
           }
          ],
          "table": [
           {
            "cells": {
             "fill": {
              "color": "#EBF0F8"
             },
             "line": {
              "color": "white"
             }
            },
            "header": {
             "fill": {
              "color": "#C8D4E3"
             },
             "line": {
              "color": "white"
             }
            },
            "type": "table"
           }
          ]
         },
         "layout": {
          "annotationdefaults": {
           "arrowcolor": "#2a3f5f",
           "arrowhead": 0,
           "arrowwidth": 1
          },
          "autotypenumbers": "strict",
          "coloraxis": {
           "colorbar": {
            "outlinewidth": 0,
            "ticks": ""
           }
          },
          "colorscale": {
           "diverging": [
            [
             0,
             "#8e0152"
            ],
            [
             0.1,
             "#c51b7d"
            ],
            [
             0.2,
             "#de77ae"
            ],
            [
             0.3,
             "#f1b6da"
            ],
            [
             0.4,
             "#fde0ef"
            ],
            [
             0.5,
             "#f7f7f7"
            ],
            [
             0.6,
             "#e6f5d0"
            ],
            [
             0.7,
             "#b8e186"
            ],
            [
             0.8,
             "#7fbc41"
            ],
            [
             0.9,
             "#4d9221"
            ],
            [
             1,
             "#276419"
            ]
           ],
           "sequential": [
            [
             0,
             "#0d0887"
            ],
            [
             0.1111111111111111,
             "#46039f"
            ],
            [
             0.2222222222222222,
             "#7201a8"
            ],
            [
             0.3333333333333333,
             "#9c179e"
            ],
            [
             0.4444444444444444,
             "#bd3786"
            ],
            [
             0.5555555555555556,
             "#d8576b"
            ],
            [
             0.6666666666666666,
             "#ed7953"
            ],
            [
             0.7777777777777778,
             "#fb9f3a"
            ],
            [
             0.8888888888888888,
             "#fdca26"
            ],
            [
             1,
             "#f0f921"
            ]
           ],
           "sequentialminus": [
            [
             0,
             "#0d0887"
            ],
            [
             0.1111111111111111,
             "#46039f"
            ],
            [
             0.2222222222222222,
             "#7201a8"
            ],
            [
             0.3333333333333333,
             "#9c179e"
            ],
            [
             0.4444444444444444,
             "#bd3786"
            ],
            [
             0.5555555555555556,
             "#d8576b"
            ],
            [
             0.6666666666666666,
             "#ed7953"
            ],
            [
             0.7777777777777778,
             "#fb9f3a"
            ],
            [
             0.8888888888888888,
             "#fdca26"
            ],
            [
             1,
             "#f0f921"
            ]
           ]
          },
          "colorway": [
           "#636efa",
           "#EF553B",
           "#00cc96",
           "#ab63fa",
           "#FFA15A",
           "#19d3f3",
           "#FF6692",
           "#B6E880",
           "#FF97FF",
           "#FECB52"
          ],
          "font": {
           "color": "#2a3f5f"
          },
          "geo": {
           "bgcolor": "white",
           "lakecolor": "white",
           "landcolor": "#E5ECF6",
           "showlakes": true,
           "showland": true,
           "subunitcolor": "white"
          },
          "hoverlabel": {
           "align": "left"
          },
          "hovermode": "closest",
          "mapbox": {
           "style": "light"
          },
          "paper_bgcolor": "white",
          "plot_bgcolor": "#E5ECF6",
          "polar": {
           "angularaxis": {
            "gridcolor": "white",
            "linecolor": "white",
            "ticks": ""
           },
           "bgcolor": "#E5ECF6",
           "radialaxis": {
            "gridcolor": "white",
            "linecolor": "white",
            "ticks": ""
           }
          },
          "scene": {
           "xaxis": {
            "backgroundcolor": "#E5ECF6",
            "gridcolor": "white",
            "gridwidth": 2,
            "linecolor": "white",
            "showbackground": true,
            "ticks": "",
            "zerolinecolor": "white"
           },
           "yaxis": {
            "backgroundcolor": "#E5ECF6",
            "gridcolor": "white",
            "gridwidth": 2,
            "linecolor": "white",
            "showbackground": true,
            "ticks": "",
            "zerolinecolor": "white"
           },
           "zaxis": {
            "backgroundcolor": "#E5ECF6",
            "gridcolor": "white",
            "gridwidth": 2,
            "linecolor": "white",
            "showbackground": true,
            "ticks": "",
            "zerolinecolor": "white"
           }
          },
          "shapedefaults": {
           "line": {
            "color": "#2a3f5f"
           }
          },
          "ternary": {
           "aaxis": {
            "gridcolor": "white",
            "linecolor": "white",
            "ticks": ""
           },
           "baxis": {
            "gridcolor": "white",
            "linecolor": "white",
            "ticks": ""
           },
           "bgcolor": "#E5ECF6",
           "caxis": {
            "gridcolor": "white",
            "linecolor": "white",
            "ticks": ""
           }
          },
          "title": {
           "x": 0.05
          },
          "xaxis": {
           "automargin": true,
           "gridcolor": "white",
           "linecolor": "white",
           "ticks": "",
           "title": {
            "standoff": 15
           },
           "zerolinecolor": "white",
           "zerolinewidth": 2
          },
          "yaxis": {
           "automargin": true,
           "gridcolor": "white",
           "linecolor": "white",
           "ticks": "",
           "title": {
            "standoff": 15
           },
           "zerolinecolor": "white",
           "zerolinewidth": 2
          }
         }
        },
        "xaxis": {
         "anchor": "y",
         "domain": [
          0,
          1
         ],
         "title": {
          "text": "x"
         }
        },
        "yaxis": {
         "anchor": "x",
         "domain": [
          0,
          1
         ],
         "title": {
          "text": "y"
         }
        }
       }
      },
      "text/html": [
       "<div>                            <div id=\"770df595-c219-4149-8e8f-3a86e7197302\" class=\"plotly-graph-div\" style=\"height:525px; width:100%;\"></div>            <script type=\"text/javascript\">                require([\"plotly\"], function(Plotly) {                    window.PLOTLYENV=window.PLOTLYENV || {};                                    if (document.getElementById(\"770df595-c219-4149-8e8f-3a86e7197302\")) {                    Plotly.newPlot(                        \"770df595-c219-4149-8e8f-3a86e7197302\",                        [{\"hovertemplate\":\"x=%{x}\\u003cbr\\u003ey=%{y}\\u003cextra\\u003e\\u003c\\u002fextra\\u003e\",\"legendgroup\":\"\",\"line\":{\"color\":\"#636efa\",\"dash\":\"solid\"},\"marker\":{\"symbol\":\"circle\"},\"mode\":\"lines\",\"name\":\"\",\"orientation\":\"v\",\"showlegend\":false,\"x\":[-0.1,-0.09797979797979799,-0.09595959595959597,-0.09393939393939395,-0.09191919191919193,-0.08989898989898991,-0.08787878787878789,-0.08585858585858586,-0.08383838383838385,-0.08181818181818182,-0.07979797979797981,-0.07777777777777778,-0.07575757575757576,-0.07373737373737374,-0.07171717171717172,-0.0696969696969697,-0.06767676767676768,-0.06565656565656566,-0.06363636363636364,-0.061616161616161624,-0.059595959595959605,-0.05757575757575758,-0.05555555555555556,-0.05353535353535354,-0.05151515151515152,-0.0494949494949495,-0.04747474747474748,-0.04545454545454546,-0.043434343434343436,-0.04141414141414142,-0.0393939393939394,-0.03737373737373738,-0.03535353535353536,-0.03333333333333334,-0.03131313131313132,-0.0292929292929293,-0.027272727272727282,-0.025252525252525262,-0.023232323232323243,-0.021212121212121224,-0.019191919191919204,-0.01717171717171717,-0.015151515151515152,-0.013131313131313133,-0.011111111111111113,-0.009090909090909094,-0.007070707070707075,-0.005050505050505055,-0.003030303030303036,-0.0010101010101010166,0.0010101010101010027,0.003030303030303022,0.005050505050505041,0.007070707070707061,0.00909090909090908,0.0111111111111111,0.013131313131313133,0.015151515151515152,0.01717171717171717,0.01919191919191919,0.02121212121212121,0.02323232323232323,0.02525252525252525,0.027272727272727254,0.029292929292929287,0.03131313131313132,0.033333333333333326,0.03535353535353536,0.037373737373737365,0.0393939393939394,0.0414141414141414,0.043434343434343436,0.04545454545454544,0.047474747474747475,0.04949494949494948,0.051515151515151514,0.05353535353535352,0.05555555555555555,0.05757575757575756,0.05959595959595959,0.0616161616161616,0.06363636363636363,0.06565656565656566,0.06767676767676767,0.0696969696969697,0.07171717171717171,0.07373737373737374,0.07575757575757575,0.07777777777777778,0.07979797979797978,0.08181818181818182,0.08383838383838382,0.08585858585858586,0.08787878787878786,0.0898989898989899,0.0919191919191919,0.09393939393939393,0.09595959595959597,0.09797979797979797,0.1],\"xaxis\":\"x\",\"y\":[-0.0022546864165087386,-0.0022550063936024314,-0.0022583578568000314,-0.0022634933149735226,-0.002264169536912332,-0.0022686004020423508,-0.0022710444810479977,-0.0022736906082841753,-0.002277660007771494,-0.0022817103637238563,-0.002283303637424305,-0.0022870263657853904,-0.002289212951044957,-0.0022953474068117836,-0.002294860114210622,-0.002297004787963661,-0.0023046190826987315,-0.0023069573840272155,-0.0023096254000604757,-0.0023108306373590837,-0.0023175399781923183,-0.0023190711403554367,-0.002320494948678908,-0.0023257813730851065,-0.00232862471972686,-0.0023305688035893304,-0.002334466506285347,-0.002338304080115007,-0.002341242399788512,-0.0023436324173434888,-0.0023465115667120166,-0.002348893119250473,-0.002351408957335091,-0.002354278991732648,-0.0023572933560609115,-0.0023634544733149884,-0.0023645624755947196,-0.002367041218463593,-0.0023703315115259833,-0.0023717213198055035,-0.0023764953907098423,-0.002380332473314376,-0.0023810958016170915,-0.0023851646500333604,-0.00238866029783892,-0.0023938965345099124,-0.0023967283905000783,-0.0023990205584528096,-0.002401108991954821,-0.0024041962485818486,-0.0024055773519678155,-0.0024088561024030626,-0.0024124005923946024,-0.0024168386191818253,-0.00241769610724546,-0.002423170243861812,-0.0024274019720411525,-0.002429605515124473,-0.0024315020662514543,-0.0024362931137566313,-0.0024355223842395563,-0.002439048261541358,-0.0024448502032622106,-0.002446948825699717,-0.002449453151524118,-0.002451318277580016,-0.0024503313438789757,-0.002457445364152594,-0.0024606637784193265,-0.0024645814512588536,-0.002466516401332387,-0.0024677688553678793,-0.002471879648613322,-0.0024744166283493436,-0.0024787465588023785,-0.002481605962988167,-0.0024842400972641034,-0.002488687757636502,-0.002491433872197002,-0.0024941425436274403,-0.00249880401802721,-0.002499592497645783,-0.002501885602782086,-0.002505387666560369,-0.0025073924144130874,-0.0025125582467224435,-0.002516991293406408,-0.0025184263652121624,-0.002520460430839273,-0.0025249318963603933,-0.0025282092852851826,-0.0025335893397029725,-0.0025351133609393746,-0.0025381035979837856,-0.0025393513739810866,-0.002544386262782844,-0.002543581338440025,-0.002547585050233174,-0.0025488010118481395,-0.0025552591691952826],\"yaxis\":\"y\",\"type\":\"scatter\"}],                        {\"template\":{\"data\":{\"histogram2dcontour\":[{\"type\":\"histogram2dcontour\",\"colorbar\":{\"outlinewidth\":0,\"ticks\":\"\"},\"colorscale\":[[0.0,\"#0d0887\"],[0.1111111111111111,\"#46039f\"],[0.2222222222222222,\"#7201a8\"],[0.3333333333333333,\"#9c179e\"],[0.4444444444444444,\"#bd3786\"],[0.5555555555555556,\"#d8576b\"],[0.6666666666666666,\"#ed7953\"],[0.7777777777777778,\"#fb9f3a\"],[0.8888888888888888,\"#fdca26\"],[1.0,\"#f0f921\"]]}],\"choropleth\":[{\"type\":\"choropleth\",\"colorbar\":{\"outlinewidth\":0,\"ticks\":\"\"}}],\"histogram2d\":[{\"type\":\"histogram2d\",\"colorbar\":{\"outlinewidth\":0,\"ticks\":\"\"},\"colorscale\":[[0.0,\"#0d0887\"],[0.1111111111111111,\"#46039f\"],[0.2222222222222222,\"#7201a8\"],[0.3333333333333333,\"#9c179e\"],[0.4444444444444444,\"#bd3786\"],[0.5555555555555556,\"#d8576b\"],[0.6666666666666666,\"#ed7953\"],[0.7777777777777778,\"#fb9f3a\"],[0.8888888888888888,\"#fdca26\"],[1.0,\"#f0f921\"]]}],\"heatmap\":[{\"type\":\"heatmap\",\"colorbar\":{\"outlinewidth\":0,\"ticks\":\"\"},\"colorscale\":[[0.0,\"#0d0887\"],[0.1111111111111111,\"#46039f\"],[0.2222222222222222,\"#7201a8\"],[0.3333333333333333,\"#9c179e\"],[0.4444444444444444,\"#bd3786\"],[0.5555555555555556,\"#d8576b\"],[0.6666666666666666,\"#ed7953\"],[0.7777777777777778,\"#fb9f3a\"],[0.8888888888888888,\"#fdca26\"],[1.0,\"#f0f921\"]]}],\"heatmapgl\":[{\"type\":\"heatmapgl\",\"colorbar\":{\"outlinewidth\":0,\"ticks\":\"\"},\"colorscale\":[[0.0,\"#0d0887\"],[0.1111111111111111,\"#46039f\"],[0.2222222222222222,\"#7201a8\"],[0.3333333333333333,\"#9c179e\"],[0.4444444444444444,\"#bd3786\"],[0.5555555555555556,\"#d8576b\"],[0.6666666666666666,\"#ed7953\"],[0.7777777777777778,\"#fb9f3a\"],[0.8888888888888888,\"#fdca26\"],[1.0,\"#f0f921\"]]}],\"contourcarpet\":[{\"type\":\"contourcarpet\",\"colorbar\":{\"outlinewidth\":0,\"ticks\":\"\"}}],\"contour\":[{\"type\":\"contour\",\"colorbar\":{\"outlinewidth\":0,\"ticks\":\"\"},\"colorscale\":[[0.0,\"#0d0887\"],[0.1111111111111111,\"#46039f\"],[0.2222222222222222,\"#7201a8\"],[0.3333333333333333,\"#9c179e\"],[0.4444444444444444,\"#bd3786\"],[0.5555555555555556,\"#d8576b\"],[0.6666666666666666,\"#ed7953\"],[0.7777777777777778,\"#fb9f3a\"],[0.8888888888888888,\"#fdca26\"],[1.0,\"#f0f921\"]]}],\"surface\":[{\"type\":\"surface\",\"colorbar\":{\"outlinewidth\":0,\"ticks\":\"\"},\"colorscale\":[[0.0,\"#0d0887\"],[0.1111111111111111,\"#46039f\"],[0.2222222222222222,\"#7201a8\"],[0.3333333333333333,\"#9c179e\"],[0.4444444444444444,\"#bd3786\"],[0.5555555555555556,\"#d8576b\"],[0.6666666666666666,\"#ed7953\"],[0.7777777777777778,\"#fb9f3a\"],[0.8888888888888888,\"#fdca26\"],[1.0,\"#f0f921\"]]}],\"mesh3d\":[{\"type\":\"mesh3d\",\"colorbar\":{\"outlinewidth\":0,\"ticks\":\"\"}}],\"scatter\":[{\"fillpattern\":{\"fillmode\":\"overlay\",\"size\":10,\"solidity\":0.2},\"type\":\"scatter\"}],\"parcoords\":[{\"type\":\"parcoords\",\"line\":{\"colorbar\":{\"outlinewidth\":0,\"ticks\":\"\"}}}],\"scatterpolargl\":[{\"type\":\"scatterpolargl\",\"marker\":{\"colorbar\":{\"outlinewidth\":0,\"ticks\":\"\"}}}],\"bar\":[{\"error_x\":{\"color\":\"#2a3f5f\"},\"error_y\":{\"color\":\"#2a3f5f\"},\"marker\":{\"line\":{\"color\":\"#E5ECF6\",\"width\":0.5},\"pattern\":{\"fillmode\":\"overlay\",\"size\":10,\"solidity\":0.2}},\"type\":\"bar\"}],\"scattergeo\":[{\"type\":\"scattergeo\",\"marker\":{\"colorbar\":{\"outlinewidth\":0,\"ticks\":\"\"}}}],\"scatterpolar\":[{\"type\":\"scatterpolar\",\"marker\":{\"colorbar\":{\"outlinewidth\":0,\"ticks\":\"\"}}}],\"histogram\":[{\"marker\":{\"pattern\":{\"fillmode\":\"overlay\",\"size\":10,\"solidity\":0.2}},\"type\":\"histogram\"}],\"scattergl\":[{\"type\":\"scattergl\",\"marker\":{\"colorbar\":{\"outlinewidth\":0,\"ticks\":\"\"}}}],\"scatter3d\":[{\"type\":\"scatter3d\",\"line\":{\"colorbar\":{\"outlinewidth\":0,\"ticks\":\"\"}},\"marker\":{\"colorbar\":{\"outlinewidth\":0,\"ticks\":\"\"}}}],\"scattermapbox\":[{\"type\":\"scattermapbox\",\"marker\":{\"colorbar\":{\"outlinewidth\":0,\"ticks\":\"\"}}}],\"scatterternary\":[{\"type\":\"scatterternary\",\"marker\":{\"colorbar\":{\"outlinewidth\":0,\"ticks\":\"\"}}}],\"scattercarpet\":[{\"type\":\"scattercarpet\",\"marker\":{\"colorbar\":{\"outlinewidth\":0,\"ticks\":\"\"}}}],\"carpet\":[{\"aaxis\":{\"endlinecolor\":\"#2a3f5f\",\"gridcolor\":\"white\",\"linecolor\":\"white\",\"minorgridcolor\":\"white\",\"startlinecolor\":\"#2a3f5f\"},\"baxis\":{\"endlinecolor\":\"#2a3f5f\",\"gridcolor\":\"white\",\"linecolor\":\"white\",\"minorgridcolor\":\"white\",\"startlinecolor\":\"#2a3f5f\"},\"type\":\"carpet\"}],\"table\":[{\"cells\":{\"fill\":{\"color\":\"#EBF0F8\"},\"line\":{\"color\":\"white\"}},\"header\":{\"fill\":{\"color\":\"#C8D4E3\"},\"line\":{\"color\":\"white\"}},\"type\":\"table\"}],\"barpolar\":[{\"marker\":{\"line\":{\"color\":\"#E5ECF6\",\"width\":0.5},\"pattern\":{\"fillmode\":\"overlay\",\"size\":10,\"solidity\":0.2}},\"type\":\"barpolar\"}],\"pie\":[{\"automargin\":true,\"type\":\"pie\"}]},\"layout\":{\"autotypenumbers\":\"strict\",\"colorway\":[\"#636efa\",\"#EF553B\",\"#00cc96\",\"#ab63fa\",\"#FFA15A\",\"#19d3f3\",\"#FF6692\",\"#B6E880\",\"#FF97FF\",\"#FECB52\"],\"font\":{\"color\":\"#2a3f5f\"},\"hovermode\":\"closest\",\"hoverlabel\":{\"align\":\"left\"},\"paper_bgcolor\":\"white\",\"plot_bgcolor\":\"#E5ECF6\",\"polar\":{\"bgcolor\":\"#E5ECF6\",\"angularaxis\":{\"gridcolor\":\"white\",\"linecolor\":\"white\",\"ticks\":\"\"},\"radialaxis\":{\"gridcolor\":\"white\",\"linecolor\":\"white\",\"ticks\":\"\"}},\"ternary\":{\"bgcolor\":\"#E5ECF6\",\"aaxis\":{\"gridcolor\":\"white\",\"linecolor\":\"white\",\"ticks\":\"\"},\"baxis\":{\"gridcolor\":\"white\",\"linecolor\":\"white\",\"ticks\":\"\"},\"caxis\":{\"gridcolor\":\"white\",\"linecolor\":\"white\",\"ticks\":\"\"}},\"coloraxis\":{\"colorbar\":{\"outlinewidth\":0,\"ticks\":\"\"}},\"colorscale\":{\"sequential\":[[0.0,\"#0d0887\"],[0.1111111111111111,\"#46039f\"],[0.2222222222222222,\"#7201a8\"],[0.3333333333333333,\"#9c179e\"],[0.4444444444444444,\"#bd3786\"],[0.5555555555555556,\"#d8576b\"],[0.6666666666666666,\"#ed7953\"],[0.7777777777777778,\"#fb9f3a\"],[0.8888888888888888,\"#fdca26\"],[1.0,\"#f0f921\"]],\"sequentialminus\":[[0.0,\"#0d0887\"],[0.1111111111111111,\"#46039f\"],[0.2222222222222222,\"#7201a8\"],[0.3333333333333333,\"#9c179e\"],[0.4444444444444444,\"#bd3786\"],[0.5555555555555556,\"#d8576b\"],[0.6666666666666666,\"#ed7953\"],[0.7777777777777778,\"#fb9f3a\"],[0.8888888888888888,\"#fdca26\"],[1.0,\"#f0f921\"]],\"diverging\":[[0,\"#8e0152\"],[0.1,\"#c51b7d\"],[0.2,\"#de77ae\"],[0.3,\"#f1b6da\"],[0.4,\"#fde0ef\"],[0.5,\"#f7f7f7\"],[0.6,\"#e6f5d0\"],[0.7,\"#b8e186\"],[0.8,\"#7fbc41\"],[0.9,\"#4d9221\"],[1,\"#276419\"]]},\"xaxis\":{\"gridcolor\":\"white\",\"linecolor\":\"white\",\"ticks\":\"\",\"title\":{\"standoff\":15},\"zerolinecolor\":\"white\",\"automargin\":true,\"zerolinewidth\":2},\"yaxis\":{\"gridcolor\":\"white\",\"linecolor\":\"white\",\"ticks\":\"\",\"title\":{\"standoff\":15},\"zerolinecolor\":\"white\",\"automargin\":true,\"zerolinewidth\":2},\"scene\":{\"xaxis\":{\"backgroundcolor\":\"#E5ECF6\",\"gridcolor\":\"white\",\"linecolor\":\"white\",\"showbackground\":true,\"ticks\":\"\",\"zerolinecolor\":\"white\",\"gridwidth\":2},\"yaxis\":{\"backgroundcolor\":\"#E5ECF6\",\"gridcolor\":\"white\",\"linecolor\":\"white\",\"showbackground\":true,\"ticks\":\"\",\"zerolinecolor\":\"white\",\"gridwidth\":2},\"zaxis\":{\"backgroundcolor\":\"#E5ECF6\",\"gridcolor\":\"white\",\"linecolor\":\"white\",\"showbackground\":true,\"ticks\":\"\",\"zerolinecolor\":\"white\",\"gridwidth\":2}},\"shapedefaults\":{\"line\":{\"color\":\"#2a3f5f\"}},\"annotationdefaults\":{\"arrowcolor\":\"#2a3f5f\",\"arrowhead\":0,\"arrowwidth\":1},\"geo\":{\"bgcolor\":\"white\",\"landcolor\":\"#E5ECF6\",\"subunitcolor\":\"white\",\"showland\":true,\"showlakes\":true,\"lakecolor\":\"white\"},\"title\":{\"x\":0.05},\"mapbox\":{\"style\":\"light\"}}},\"xaxis\":{\"anchor\":\"y\",\"domain\":[0.0,1.0],\"title\":{\"text\":\"x\"}},\"yaxis\":{\"anchor\":\"x\",\"domain\":[0.0,1.0],\"title\":{\"text\":\"y\"}},\"legend\":{\"tracegroupgap\":0},\"margin\":{\"t\":60}},                        {\"responsive\": true}                    ).then(function(){\n",
       "                            \n",
       "var gd = document.getElementById('770df595-c219-4149-8e8f-3a86e7197302');\n",
       "var x = new MutationObserver(function (mutations, observer) {{\n",
       "        var display = window.getComputedStyle(gd).display;\n",
       "        if (!display || display === 'none') {{\n",
       "            console.log([gd, 'removed!']);\n",
       "            Plotly.purge(gd);\n",
       "            observer.disconnect();\n",
       "        }}\n",
       "}});\n",
       "\n",
       "// Listen for the removal of the full notebook cells\n",
       "var notebookContainer = gd.closest('#notebook-container');\n",
       "if (notebookContainer) {{\n",
       "    x.observe(notebookContainer, {childList: true});\n",
       "}}\n",
       "\n",
       "// Listen for the clearing of the current output cell\n",
       "var outputEl = gd.closest('.output');\n",
       "if (outputEl) {{\n",
       "    x.observe(outputEl, {childList: true});\n",
       "}}\n",
       "\n",
       "                        })                };                });            </script>        </div>"
      ]
     },
     "metadata": {},
     "output_type": "display_data"
    }
   ],
   "source": [
    "fig = px.line(x=xs, y=ys)\n",
    "fig"
   ]
  },
  {
   "cell_type": "code",
   "execution_count": null,
   "metadata": {},
   "outputs": [],
   "source": [
    "# # print(current_pose_named[0]['t'], camera.extrinsics.named_params()[0]['t'])\n",
    "# import cv2\n",
    "# from IPython.display import Video\n",
    "\n",
    "# out = cv2.VideoWriter('output_video.avi',cv2.VideoWriter_fourcc(*'DIVX'), 10, (200,200))\n",
    "# imgs = []\n",
    "\n",
    "# # for ep in range(extra_args['epochs']):\n",
    "# for ep in range(200):\n",
    "#     optimizer.zero_grad()\n",
    "#     rays = gen_rays_only(camera)\n",
    "#     rays = rays.reshape((rays.shape[0]**2, -1))\n",
    "    \n",
    "#     # all_rgbs = torch.zeros((len(pipelines), W*H, 3), dtype=float)\n",
    "#     all_rgbs = torch.zeros((len(pipelines), W*H, 3), dtype=float)\n",
    "\n",
    "\n",
    "#     for i, pipeline in enumerate(pipelines):\n",
    "#         # rb = render_pipeline(pipeline, rays, None)\n",
    "#         rb = pipeline(rays)\n",
    "#         # print(rb.rgb.shape)\n",
    "#         all_rgbs[i,:,:] = rb.rgb\n",
    "#     # print(all_rgbs)\n",
    "\n",
    "\n",
    "#     # var = torch.var(all_rgbs, axis = 0)\n",
    "#     # std = torch.sqrt(torch.mean(var, axis = -1))\n",
    "#     # std = torch.mean(var, axis = -1)\n",
    "#     # std.retain_grad()\n",
    "#     # std.register_hook(lambda x : print('std', x.mean()))\n",
    "#     # unc_loss = math.sqrt(3)-torch.mean(torch.sqrt(torch.sum(torch.var(all_rgbs, axis = 0), axis = -1)))\n",
    "\n",
    "#     # dist_loss = torch.mean((current_pose - camera.extrinsics.parameters())**2)\n",
    "#     # flip_loss = \n",
    "\n",
    "\n",
    "#     unc_loss = 1-torch.mean(torch.var(all_rgbs, axis = 0))\n",
    "#     dist_loss = torch.mean((current_pose_named[0]['t'] - camera.extrinsics.t)**2)\n",
    "\n",
    "#     loss = unc_loss \n",
    "#     # print(unc_loss, dist_loss, loss)\n",
    "\n",
    "#     loss.backward()\n",
    "#     optimizer.step()\n",
    "#     # del(all_rgbs)\n",
    "#     del(unc_loss)\n",
    "#     del(dist_loss)\n",
    "\n",
    "#     print(ep, loss.item())\n",
    "#     # print(current_pose, camera.extrinsics.parameters())\n",
    "#     # print(current_pose_named[0]['t'], camera.extrinsics.named_params()[0]['t'])\n",
    "#     # print(camera.intrinsics.named_params())\n",
    "#     img = get_image(camera, pipeline=pipelines[0])[0]\n",
    "#     imgs.append(img)\n",
    "#     # plt.imshow(img)\n",
    "#     # img = (img * 255).astype(np.uint8)\n",
    "#     # img = cv2.cvtColor(img, cv2.COLOR_RGB2BGR)\n",
    "#     # out.write(img)\n",
    "#     # plt.show()\n",
    "\n"
   ]
  },
  {
   "cell_type": "code",
   "execution_count": 19,
   "metadata": {},
   "outputs": [],
   "source": []
  },
  {
   "cell_type": "code",
   "execution_count": null,
   "metadata": {},
   "outputs": [
    {
     "data": {
      "text/plain": [
       "True"
      ]
     },
     "execution_count": 21,
     "metadata": {},
     "output_type": "execute_result"
    }
   ],
   "source": [
    "cv2.imwrite('temp.png', img)"
   ]
  },
  {
   "cell_type": "code",
   "execution_count": null,
   "metadata": {},
   "outputs": [
    {
     "data": {
      "text/plain": [
       "array([[[1., 1., 1.],\n",
       "        [1., 1., 1.],\n",
       "        [1., 1., 1.],\n",
       "        ...,\n",
       "        [1., 1., 1.],\n",
       "        [1., 1., 1.],\n",
       "        [1., 1., 1.]],\n",
       "\n",
       "       [[1., 1., 1.],\n",
       "        [1., 1., 1.],\n",
       "        [1., 1., 1.],\n",
       "        ...,\n",
       "        [1., 1., 1.],\n",
       "        [1., 1., 1.],\n",
       "        [1., 1., 1.]],\n",
       "\n",
       "       [[1., 1., 1.],\n",
       "        [1., 1., 1.],\n",
       "        [1., 1., 1.],\n",
       "        ...,\n",
       "        [1., 1., 1.],\n",
       "        [1., 1., 1.],\n",
       "        [1., 1., 1.]],\n",
       "\n",
       "       ...,\n",
       "\n",
       "       [[1., 1., 1.],\n",
       "        [1., 1., 1.],\n",
       "        [1., 1., 1.],\n",
       "        ...,\n",
       "        [1., 1., 1.],\n",
       "        [1., 1., 1.],\n",
       "        [1., 1., 1.]],\n",
       "\n",
       "       [[1., 1., 1.],\n",
       "        [1., 1., 1.],\n",
       "        [1., 1., 1.],\n",
       "        ...,\n",
       "        [1., 1., 1.],\n",
       "        [1., 1., 1.],\n",
       "        [1., 1., 1.]],\n",
       "\n",
       "       [[1., 1., 1.],\n",
       "        [1., 1., 1.],\n",
       "        [1., 1., 1.],\n",
       "        ...,\n",
       "        [1., 1., 1.],\n",
       "        [1., 1., 1.],\n",
       "        [1., 1., 1.]]], dtype=float32)"
      ]
     },
     "execution_count": 24,
     "metadata": {},
     "output_type": "execute_result"
    }
   ],
   "source": [
    "imgs[0]"
   ]
  },
  {
   "cell_type": "code",
   "execution_count": null,
   "metadata": {},
   "outputs": [
    {
     "ename": "NameError",
     "evalue": "name 'var' is not defined",
     "output_type": "error",
     "traceback": [
      "\u001b[0;31m---------------------------------------------------------------------------\u001b[0m",
      "\u001b[0;31mNameError\u001b[0m                                 Traceback (most recent call last)",
      "Cell \u001b[0;32mIn[23], line 1\u001b[0m\n\u001b[0;32m----> 1\u001b[0m torch\u001b[39m.\u001b[39misnan(var[:,\u001b[39m2\u001b[39m])\n",
      "\u001b[0;31mNameError\u001b[0m: name 'var' is not defined"
     ]
    }
   ],
   "source": [
    "torch.isnan(var[:,2])"
   ]
  },
  {
   "cell_type": "code",
   "execution_count": null,
   "metadata": {},
   "outputs": [
    {
     "data": {
      "text/plain": [
       "tensor(nan, device='cuda:0', grad_fn=<MeanBackward0>)"
      ]
     },
     "execution_count": 20,
     "metadata": {},
     "output_type": "execute_result"
    }
   ],
   "source": [
    "torch.mean((current_pose - camera.extrinsics.parameters())**2)"
   ]
  },
  {
   "cell_type": "code",
   "execution_count": null,
   "metadata": {},
   "outputs": [
    {
     "data": {
      "text/plain": [
       "{'R': tensor([nan, nan, nan, nan, nan, nan], device='cuda:0',\n",
       "        grad_fn=<IndexBackward0>),\n",
       " 't': tensor([nan, nan, nan], device='cuda:0', grad_fn=<IndexBackward0>)}"
      ]
     },
     "execution_count": 21,
     "metadata": {},
     "output_type": "execute_result"
    }
   ],
   "source": [
    "camera.extrinsics.named_params()[0]"
   ]
  },
  {
   "cell_type": "code",
   "execution_count": null,
   "metadata": {},
   "outputs": [
    {
     "data": {
      "text/plain": [
       "[{'x0': 0.0,\n",
       "  'y0': 0.0,\n",
       "  'focal_x': 128.66665649414062,\n",
       "  'focal_y': 128.66665649414062}]"
      ]
     },
     "execution_count": 22,
     "metadata": {},
     "output_type": "execute_result"
    }
   ],
   "source": [
    "camera.intrinsics.named_params()"
   ]
  },
  {
   "cell_type": "code",
   "execution_count": null,
   "metadata": {},
   "outputs": [
    {
     "data": {
      "text/plain": [
       "<matplotlib.image.AxesImage at 0x7fee2d14c970>"
      ]
     },
     "execution_count": 23,
     "metadata": {},
     "output_type": "execute_result"
    },
    {
     "data": {
      "image/png": "[encoded data removed]",
      "text/plain": [
       "<Figure size 640x480 with 1 Axes>"
      ]
     },
     "metadata": {},
     "output_type": "display_data"
    }
   ],
   "source": [
    "plt.imshow(get_image(camera, pipeline=pipelines[0])[0])\n"
   ]
  },
  {
   "cell_type": "code",
   "execution_count": null,
   "metadata": {},
   "outputs": [
    {
     "data": {
      "text/plain": [
       "tensor([[-1.0000e+00, -2.8239e-17,  5.3403e-16,  2.4464e-17],\n",
       "        [ 3.5458e-16, -4.8960e-02,  9.9880e-01,  3.9952e-01],\n",
       "        [-1.0892e-17,  9.9880e-01,  4.8960e-02, -8.5906e-02],\n",
       "        [ 0.0000e+00,  0.0000e+00,  0.0000e+00,  1.0000e+00]])"
      ]
     },
     "execution_count": 24,
     "metadata": {},
     "output_type": "execute_result"
    }
   ],
   "source": [
    "torch.tensor([[-1.0, -2.823936947407328e-17, 5.340285413173258e-16, 2.4463562574074363e-17], [3.5457582038357597e-16, -0.04896000828076464, 0.9988007396819185, 0.3995202958290813], [-1.089239719165523e-17, 0.9988007396819186, 0.04896000828076479, -0.08590599579648245], [0.0, 0.0, 0.0, 1.0]])"
   ]
  },
  {
   "cell_type": "code",
   "execution_count": null,
   "metadata": {},
   "outputs": [
    {
     "data": {
      "text/plain": [
       "Rays(origins=tensor([[[nan, nan, nan],\n",
       "         [nan, nan, nan],\n",
       "         [nan, nan, nan],\n",
       "         ...,\n",
       "         [nan, nan, nan],\n",
       "         [nan, nan, nan],\n",
       "         [nan, nan, nan]],\n",
       "\n",
       "        [[nan, nan, nan],\n",
       "         [nan, nan, nan],\n",
       "         [nan, nan, nan],\n",
       "         ...,\n",
       "         [nan, nan, nan],\n",
       "         [nan, nan, nan],\n",
       "         [nan, nan, nan]],\n",
       "\n",
       "        [[nan, nan, nan],\n",
       "         [nan, nan, nan],\n",
       "         [nan, nan, nan],\n",
       "         ...,\n",
       "         [nan, nan, nan],\n",
       "         [nan, nan, nan],\n",
       "         [nan, nan, nan]],\n",
       "\n",
       "        ...,\n",
       "\n",
       "        [[nan, nan, nan],\n",
       "         [nan, nan, nan],\n",
       "         [nan, nan, nan],\n",
       "         ...,\n",
       "         [nan, nan, nan],\n",
       "         [nan, nan, nan],\n",
       "         [nan, nan, nan]],\n",
       "\n",
       "        [[nan, nan, nan],\n",
       "         [nan, nan, nan],\n",
       "         [nan, nan, nan],\n",
       "         ...,\n",
       "         [nan, nan, nan],\n",
       "         [nan, nan, nan],\n",
       "         [nan, nan, nan]],\n",
       "\n",
       "        [[nan, nan, nan],\n",
       "         [nan, nan, nan],\n",
       "         [nan, nan, nan],\n",
       "         ...,\n",
       "         [nan, nan, nan],\n",
       "         [nan, nan, nan],\n",
       "         [nan, nan, nan]]], device='cuda:0', grad_fn=<StackBackward0>), dirs=tensor([[[nan, nan, nan],\n",
       "         [nan, nan, nan],\n",
       "         [nan, nan, nan],\n",
       "         ...,\n",
       "         [nan, nan, nan],\n",
       "         [nan, nan, nan],\n",
       "         [nan, nan, nan]],\n",
       "\n",
       "        [[nan, nan, nan],\n",
       "         [nan, nan, nan],\n",
       "         [nan, nan, nan],\n",
       "         ...,\n",
       "         [nan, nan, nan],\n",
       "         [nan, nan, nan],\n",
       "         [nan, nan, nan]],\n",
       "\n",
       "        [[nan, nan, nan],\n",
       "         [nan, nan, nan],\n",
       "         [nan, nan, nan],\n",
       "         ...,\n",
       "         [nan, nan, nan],\n",
       "         [nan, nan, nan],\n",
       "         [nan, nan, nan]],\n",
       "\n",
       "        ...,\n",
       "\n",
       "        [[nan, nan, nan],\n",
       "         [nan, nan, nan],\n",
       "         [nan, nan, nan],\n",
       "         ...,\n",
       "         [nan, nan, nan],\n",
       "         [nan, nan, nan],\n",
       "         [nan, nan, nan]],\n",
       "\n",
       "        [[nan, nan, nan],\n",
       "         [nan, nan, nan],\n",
       "         [nan, nan, nan],\n",
       "         ...,\n",
       "         [nan, nan, nan],\n",
       "         [nan, nan, nan],\n",
       "         [nan, nan, nan]],\n",
       "\n",
       "        [[nan, nan, nan],\n",
       "         [nan, nan, nan],\n",
       "         [nan, nan, nan],\n",
       "         ...,\n",
       "         [nan, nan, nan],\n",
       "         [nan, nan, nan],\n",
       "         [nan, nan, nan]]], device='cuda:0', grad_fn=<StackBackward0>), dist_min=0.0, dist_max=10.0)"
      ]
     },
     "execution_count": 25,
     "metadata": {},
     "output_type": "execute_result"
    }
   ],
   "source": [
    "gen_rays_only(camera)"
   ]
  },
  {
   "cell_type": "code",
   "execution_count": null,
   "metadata": {},
   "outputs": [
    {
     "data": {
      "text/plain": [
       "tensor([[[nan, nan, nan, nan],\n",
       "         [nan, nan, nan, nan],\n",
       "         [nan, nan, nan, nan],\n",
       "         [nan, nan, nan, nan]]], device='cuda:0', grad_fn=<BmmBackward0>)"
      ]
     },
     "execution_count": 26,
     "metadata": {},
     "output_type": "execute_result"
    }
   ],
   "source": [
    "camera.view_projection_matrix()"
   ]
  },
  {
   "cell_type": "code",
   "execution_count": null,
   "metadata": {},
   "outputs": [
    {
     "data": {
      "text/plain": [
       "[{'R': tensor([nan, nan, nan, nan, nan, nan], device='cuda:0',\n",
       "         grad_fn=<IndexBackward0>),\n",
       "  't': tensor([nan, nan, nan], device='cuda:0', grad_fn=<IndexBackward0>),\n",
       "  'x0': 0.0,\n",
       "  'y0': 0.0,\n",
       "  'focal_x': 128.66665649414062,\n",
       "  'focal_y': 128.66665649414062}]"
      ]
     },
     "execution_count": 27,
     "metadata": {},
     "output_type": "execute_result"
    }
   ],
   "source": [
    "camera.named_params()"
   ]
  },
  {
   "cell_type": "code",
   "execution_count": null,
   "metadata": {},
   "outputs": [
    {
     "data": {
      "text/plain": [
       "tensor([[-1.0000e+00, -4.6265e-16,  4.7207e-16,  1.4103e-16],\n",
       "        [ 5.3111e-16, -6.9423e-01,  7.1976e-01,  2.3032e+00],\n",
       "        [-1.3052e-16,  7.1976e-01,  6.9423e-01,  1.3776e+00],\n",
       "        [ 0.0000e+00,  0.0000e+00,  0.0000e+00,  1.0000e+00]])"
      ]
     },
     "execution_count": 28,
     "metadata": {},
     "output_type": "execute_result"
    }
   ],
   "source": [
    "initial_pose"
   ]
  },
  {
   "cell_type": "code",
   "execution_count": null,
   "metadata": {},
   "outputs": [
    {
     "ename": "RuntimeError",
     "evalue": "shape '[4, 4]' is invalid for input of size 9",
     "output_type": "error",
     "traceback": [
      "\u001b[0;31m---------------------------------------------------------------------------\u001b[0m",
      "\u001b[0;31mRuntimeError\u001b[0m                              Traceback (most recent call last)",
      "Cell \u001b[0;32mIn[29], line 1\u001b[0m\n\u001b[0;32m----> 1\u001b[0m torch\u001b[39m.\u001b[39minverse(camera\u001b[39m.\u001b[39;49mextrinsics\u001b[39m.\u001b[39;49mparameters()\u001b[39m.\u001b[39;49mreshape((\u001b[39m4\u001b[39;49m,\u001b[39m4\u001b[39;49m)))\n",
      "\u001b[0;31mRuntimeError\u001b[0m: shape '[4, 4]' is invalid for input of size 9"
     ]
    }
   ],
   "source": [
    "torch.inverse(camera.extrinsics.parameters().reshape((4,4)))"
   ]
  },
  {
   "cell_type": "code",
   "execution_count": null,
   "metadata": {},
   "outputs": [],
   "source": [
    "camera.extrinsics.named_params()"
   ]
  },
  {
   "cell_type": "code",
   "execution_count": null,
   "metadata": {},
   "outputs": [],
   "source": [
    "z_near, z_far = extra_args['z_near'], extra_args['z_far']\n",
    "camera = gen_camera(torch.clone(initial_pose).detach(), extra_args['focal'], W, H, z_far, extra_args)\n"
   ]
  },
  {
   "cell_type": "code",
   "execution_count": null,
   "metadata": {},
   "outputs": [
    {
     "data": {
      "text/plain": [
       "tensor([[[-1.1280e-15],\n",
       "         [ 7.5927e-01],\n",
       "         [-3.2677e+00]]], device='cuda:0', grad_fn=<SliceBackward0>)"
      ]
     },
     "execution_count": 22,
     "metadata": {},
     "output_type": "execute_result"
    }
   ],
   "source": [
    "camera.extrinsics.t"
   ]
  },
  {
   "cell_type": "code",
   "execution_count": null,
   "metadata": {},
   "outputs": [],
   "source": []
  },
  {
   "cell_type": "code",
   "execution_count": null,
   "metadata": {},
   "outputs": [],
   "source": []
  }
 ],
 "metadata": {
  "kernelspec": {
   "display_name": "wisp",
   "language": "python",
   "name": "python3"
  },
  "language_info": {
   "codemirror_mode": {
    "name": "ipython",
    "version": 3
   },
   "file_extension": ".py",
   "mimetype": "text/x-python",
   "name": "python",
   "nbconvert_exporter": "python",
   "pygments_lexer": "ipython3",
   "version": "3.9.17"
  },
  "orig_nbformat": 4,
  "vscode": {
   "interpreter": {
    "hash": "29dcd15ca7685a598b2bf589d338f8c00bfe793b3abbc5f992c8ad4ef5d8fa76"
   }
  }
 },
 "nbformat": 4,
 "nbformat_minor": 2
}
