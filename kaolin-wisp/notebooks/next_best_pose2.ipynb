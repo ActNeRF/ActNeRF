{
 "cells": [
  {
   "cell_type": "code",
   "execution_count": 1,
   "metadata": {},
   "outputs": [],
   "source": [
    "import sys\n",
    "import os\n",
    "import copy\n",
    "\n",
    "ROOT_DIR = os.getcwd()\n",
    "sys.path.insert(0, os.path.join(ROOT_DIR, \"..\"))\n",
    "sys.path.insert(0, os.path.join(ROOT_DIR, \"src\"))\n",
    "sys.path.insert(0, os.path.join(ROOT_DIR, \"inerf_utils\"))\n",
    "\n",
    "import json\n",
    "import torch\n",
    "import numpy as np\n",
    "import torchvision.transforms as T\n",
    "import tqdm\n",
    "import imageio\n",
    "import cv2\n",
    "import matplotlib.pyplot as plt\n",
    "import wisp\n",
    "from wisp.core import RenderBuffer, Rays\n"
   ]
  },
  {
   "cell_type": "code",
   "execution_count": 2,
   "metadata": {},
   "outputs": [],
   "source": [
    "from wisp.framework import WispState\n",
    "from kaolin.render.camera import Camera, blender_coords\n",
    "from inerf_utils import *\n",
    "from wisp.ops.raygen import generate_pinhole_rays, generate_centered_pixel_coords\n",
    "from wisp.datasets import SampleRays\n",
    "from wisp.trainers import MultiviewTrainer\n",
    "from wisp.models.pipeline import Pipeline\n",
    "\n",
    "def make_model(args, args_dict, extra_args, train_dataset, validation_dataset):\n",
    "    pipeline = torch.load(args.pretrained)\n",
    "    pipeline.to(extra_args['device'])\n",
    "    scene_state = WispState()\n",
    "    return pipeline\n",
    "    # return pipeline\n",
    "\n",
    "def gen_camera(pose, focal, w, h, far, extra_args):\n",
    "    view_matrix = torch.zeros_like(pose)\n",
    "    view_matrix[:3, :3] = pose[:3, :3].T\n",
    "    view_matrix[:3, -1] = torch.matmul(-view_matrix[:3, :3], pose[:3, -1])\n",
    "    view_matrix[3, 3] = 1.0\n",
    "\n",
    "    x0 = 0.0\n",
    "    y0 = 0.0\n",
    "    print(view_matrix)\n",
    "    camera = Camera.from_args(\n",
    "        view_matrix=view_matrix,\n",
    "        focal_x=focal,\n",
    "        focal_y=focal,\n",
    "        width=w,\n",
    "        height=h,\n",
    "        far=far,\n",
    "        near=0.0,\n",
    "        x0=x0,\n",
    "        y0=y0,\n",
    "        dtype=torch.float32,\n",
    "        device=extra_args['device']\n",
    "    )\n",
    "    camera.change_coordinate_system(blender_coords())\n",
    "    print(camera.extrinsics.parameters().reshape((4,4)))\n",
    "    # mask = camera.extrinsics.gradient_mask('t')\n",
    "    # camera.extrinsics.parameters.register_hook(lambda grad: grad * mask.float())\n",
    "    \n",
    "    return camera\n",
    "\n",
    "def gen_rays_only(camera):\n",
    "    ray_grid = generate_centered_pixel_coords(camera.width, camera.height, camera.width, camera.height, device=extra_args['device'])\n",
    "    rays = generate_pinhole_rays(camera, ray_grid).reshape(camera.height, camera.width, 3)\n",
    "    rays = Rays.stack(rays)\n",
    "    return rays\n",
    "\n",
    "# def gen_rays(pose, focal, w, h, far):\n",
    "#     ray_grid = generate_centered_pixel_coords(camera.width, camera.height, camera.width, camera.height, device=extra_args['device'])\n",
    "#     rays = generate_pinhole_rays(camera, ray_grid).reshape(camera.height, camera.width, 3)\n",
    "#     # rays = Rays.stack(rays).to(dtype=torch.float)\n",
    "    \n",
    "#     return camera, rays"
   ]
  },
  {
   "cell_type": "code",
   "execution_count": 3,
   "metadata": {},
   "outputs": [],
   "source": [
    "render_batch = 40000\n",
    "def render_pipeline(pipeline, rays, lod_idx):\n",
    "    rb = RenderBuffer(xyz=None, hit=None, normal=None, shadow=None, ao=None, dirs=None)\n",
    "    for ray_pack in rays.split(render_batch):\n",
    "        # print(\"haha\")\n",
    "        rb  += pipeline.tracer(pipeline.nef, rays=ray_pack, lod_idx=lod_idx)\n",
    "    return rb"
   ]
  },
  {
   "cell_type": "code",
   "execution_count": null,
   "metadata": {},
   "outputs": [],
   "source": []
  },
  {
   "cell_type": "code",
   "execution_count": 4,
   "metadata": {},
   "outputs": [],
   "source": [
    "W, H = 800, 800\n",
    "fx = (0.5 * H) / np.tan(0.5 * float(1.3213687585295282))\n",
    "extra_args = {\n",
    "  'resume' : True,\n",
    "  'output' : './pose_estimation',\n",
    "  'device' : 'cuda',\n",
    "  'z_near' : 0.0,\n",
    "  'z_far' : 10.0,\n",
    "  'focal' : fx,\n",
    "  'lrate' : 5e-3,\n",
    "  'epochs': 200\n",
    "}\n"
   ]
  },
  {
   "cell_type": "code",
   "execution_count": 5,
   "metadata": {},
   "outputs": [],
   "source": [
    "\n",
    "# def max_unc_sampling(pipelines, rays:Rays, patch_size=5):\n",
    "\n",
    "#     rays = rays.reshape((W, H, -1))\n",
    "#     # sampled_rays = Rays(torch.empty((0,3)), torch.empty((0, 3)), dist_min=extra_args['z_near'], dist_max=extra_args['z_far'])\n",
    "#     total_loss = 0\n",
    "#     for j in range(0, H, patch_size):\n",
    "#         for i in range(0, W, patch_size):\n",
    "#             # with torch.no_grad():\n",
    "            \n",
    "#             patch_rays = rays[i:(i+patch_size), j:(j+patch_size)]\n",
    "#             patch_rays = patch_rays.reshape((patch_size**2, -1))\n",
    "\n",
    "#             all_rgbs = torch.zeros((len(pipelines), patch_size*patch_size, 3), dtype=float)\n",
    "#             for i, pipeline in enumerate(pipelines):\n",
    "#                 rb = render_pipeline(pipeline, patch_rays, None)\n",
    "#                 all_rgbs[i,:,:] = rb.rgb\n",
    "\n",
    "#             unc_loss = 1-torch.mean(torch.var(all_rgbs, axis = 0))\n",
    "#             total_loss += unc_loss\n",
    "#             unc_loss.backward()\n",
    "\n",
    "#             # # print(all_rgbs)\n",
    "#             # # print(unc_loss)\n",
    "#             # # print(torch.max(unc_loss))\n",
    "#             # max_unc = torch.max(unc_loss)\n",
    "#             # ind = torch.argmax(unc_loss)\n",
    "#             # # print(max_unc - torch.mean(unc_loss))\n",
    "#             # max_unc_ray = patch_rays[ind:ind+1]\n",
    "#             # # print(sampled_rays, max_unc_ray.to('cpu'))\n",
    "#             # sampled_rays = Rays.cat([sampled_rays, max_unc_ray.to('cpu')])\n",
    "#             # del(all_rgbs)\n",
    "#     # print(sampled_rays)\n",
    "#     print(total_loss)\n",
    "#     # return sampled_rays\n",
    "            \n",
    "            \n",
    "\n",
    "def batch_backwards(pipelines, rays:Rays, batch_size=4000):\n",
    "\n",
    "    total_loss = 0\n",
    "    \n",
    "    for patch_rays in rays.split(batch_size):\n",
    "            all_rgbs = torch.zeros((len(pipelines), batch_size, 3), dtype=float)\n",
    "            for i, pipeline in enumerate(pipelines):\n",
    "                rb = render_pipeline(pipeline, patch_rays, None)\n",
    "                all_rgbs[i,:,:] = rb.rgb\n",
    "\n",
    "            unc_loss = 1-torch.mean(torch.var(all_rgbs, axis = 0))\n",
    "            total_loss += unc_loss.item()\n",
    "            unc_loss.backward(retain_graph=True)\n",
    "    print(total_loss)\n",
    "    return total_loss\n",
    "            \n",
    "\n",
    "\n",
    "def batch_backwards2(pipelines, camera, batch_size=4000):\n",
    "\n",
    "    total_loss = 0\n",
    "    patch = 0\n",
    "    while True:\n",
    "        rays = gen_rays_only(camera)\n",
    "        rays = rays.reshape((rays.shape[0]**2, -1))\n",
    "        all_patch_rays = rays.split(batch_size)\n",
    "        if len(all_patch_rays) == patch:\n",
    "            break\n",
    "        patch_rays = all_patch_rays[patch]\n",
    "\n",
    "        all_rgbs = torch.zeros((len(pipelines), batch_size, 3), dtype=float)\n",
    "        for i, pipeline in enumerate(pipelines):\n",
    "            rb = render_pipeline(pipeline, patch_rays, None)\n",
    "            all_rgbs[i,:,:] = rb.rgb\n",
    "\n",
    "        unc_loss = -torch.mean(torch.var(all_rgbs, axis = 0))\n",
    "        total_loss += unc_loss.item()\n",
    "        unc_loss.backward()\n",
    "        patch += 1\n",
    "    print(total_loss)\n",
    "    return total_loss\n",
    "            "
   ]
  },
  {
   "cell_type": "code",
   "execution_count": null,
   "metadata": {},
   "outputs": [],
   "source": []
  },
  {
   "cell_type": "code",
   "execution_count": 6,
   "metadata": {},
   "outputs": [],
   "source": [
    "def get_image(cam, pipeline):\n",
    "    cam = copy.deepcopy(cam)\n",
    "\n",
    "    rays = gen_rays_only(cam)\n",
    "    rays = rays.reshape((rays.shape[0]**2, -1))\n",
    "\n",
    "    rb = render_pipeline(pipeline, rays, lod_idx=None)\n",
    "    rgb = rb.rgb.detach().cpu().numpy().reshape((H, W, 3))\n",
    "    alpha = rb.alpha.detach().cpu().numpy().reshape((H, W, 1))\n",
    "    # v = np.concatenate([rgb, alpha], axis=2)\n",
    "\n",
    "    # return v\n",
    "    return rgb, alpha"
   ]
  },
  {
   "cell_type": "code",
   "execution_count": 7,
   "metadata": {},
   "outputs": [],
   "source": [
    "argv_base = [\n",
    "    '--config=../app/nerf/configs/nerf_hash.yaml',\n",
    "    '--pretrained=path_to_model',\n",
    "    '--valid-only'\n",
    "]"
   ]
  },
  {
   "cell_type": "code",
   "execution_count": 8,
   "metadata": {},
   "outputs": [
    {
     "data": {
      "text/plain": [
       "['--config=../app/nerf/configs/nerf_hash.yaml',\n",
       " '--pretrained=path_to_model',\n",
       " '--valid-only']"
      ]
     },
     "execution_count": 8,
     "metadata": {},
     "output_type": "execute_result"
    }
   ],
   "source": [
    "argv_base"
   ]
  },
  {
   "cell_type": "code",
   "execution_count": 9,
   "metadata": {},
   "outputs": [
    {
     "data": {
      "text/plain": [
       "['/home/saptarshi/miniconda3/envs/wisp2/lib/python3.9/site-packages/ipykernel_launcher.py',\n",
       " '--ip=127.0.0.1',\n",
       " '--stdin=9003',\n",
       " '--control=9001',\n",
       " '--hb=9000',\n",
       " '--Session.signature_scheme=\"hmac-sha256\"',\n",
       " '--Session.key=b\"d7cad917-cf7c-4fec-b5db-f0975c82dffb\"',\n",
       " '--shell=9002',\n",
       " '--transport=\"tcp\"',\n",
       " '--iopub=9004',\n",
       " '--f=/home/saptarshi/.local/share/jupyter/runtime/kernel-v2-26970701L5yuXceiWOw.json']"
      ]
     },
     "execution_count": 9,
     "metadata": {},
     "output_type": "execute_result"
    }
   ],
   "source": [
    "sys.argv"
   ]
  },
  {
   "cell_type": "code",
   "execution_count": 10,
   "metadata": {},
   "outputs": [
    {
     "name": "stdout",
     "output_type": "stream",
     "text": [
      "/home/saptarshi/dev/kaolin-wisp/_results_new/cheezit_single_side_env2_nobg_sam_scale10/model_1/20230424-183512/model.pth\n",
      "--pretrained=/home/saptarshi/dev/kaolin-wisp/_results_new/cheezit_single_side_env2_nobg_sam_scale10/model_1/20230424-183512/model.pth\n",
      "/home/saptarshi/dev/kaolin-wisp/_results_new/cheezit_single_side_env2_nobg_sam_scale10/model_2/20230424-183641/model.pth\n",
      "--pretrained=/home/saptarshi/dev/kaolin-wisp/_results_new/cheezit_single_side_env2_nobg_sam_scale10/model_2/20230424-183641/model.pth\n",
      "/home/saptarshi/dev/kaolin-wisp/_results_new/cheezit_single_side_env2_nobg_sam_scale10/model_3/20230424-183800/model.pth\n",
      "--pretrained=/home/saptarshi/dev/kaolin-wisp/_results_new/cheezit_single_side_env2_nobg_sam_scale10/model_3/20230424-183800/model.pth\n",
      "/home/saptarshi/dev/kaolin-wisp/_results_new/cheezit_single_side_env2_nobg_sam_scale10/model_4/20230424-183933/model.pth\n",
      "--pretrained=/home/saptarshi/dev/kaolin-wisp/_results_new/cheezit_single_side_env2_nobg_sam_scale10/model_4/20230424-183933/model.pth\n",
      "/home/saptarshi/dev/kaolin-wisp/_results_new/cheezit_single_side_env2_nobg_sam_scale10/model_5/20230424-184101/model.pth\n",
      "--pretrained=/home/saptarshi/dev/kaolin-wisp/_results_new/cheezit_single_side_env2_nobg_sam_scale10/model_5/20230424-184101/model.pth\n"
     ]
    }
   ],
   "source": [
    "model_name = \"cheezit_single_side_env2_nobg_sam_scale10\"\n",
    "root_dir = '/home/saptarshi/dev/kaolin-wisp/_results_new/' + model_name + '/'\n",
    "\n",
    "pipelines = []\n",
    "for i in range(1,6):\n",
    "    model_dir = os.path.join(root_dir, f\"model_{i}\")\n",
    "    model_path = os.path.join(model_dir, list(sorted(os.listdir(model_dir)))[0], \"model.pth\")\n",
    "    print(model_path)\n",
    "    sys.argv[1:] = argv_base\n",
    "    sys.argv[2] = sys.argv[2].replace(\"path_to_model\", model_path)\n",
    "    print(sys.argv[2])\n",
    "    args, args_dict = parse_args()\n",
    "    pipeline = make_model(\n",
    "        args, args_dict, extra_args, None, None)\n",
    "    pipelines.append(pipeline)"
   ]
  },
  {
   "cell_type": "code",
   "execution_count": 16,
   "metadata": {},
   "outputs": [],
   "source": [
    "initial_pose = torch.tensor( [\n",
    "    [\n",
    "        -0.9995014259114849,\n",
    "        0.008853261731609602,\n",
    "        0.030307084281071314,\n",
    "        0.012122826827879013\n",
    "    ],\n",
    "    [\n",
    "        0.03157371693209943,\n",
    "        0.28025993087038786,\n",
    "        0.9594047485538192,\n",
    "        0.3837618990282312\n",
    "    ],\n",
    "    [\n",
    "        -9.43488636082214e-18,\n",
    "        0.9598833215059198,\n",
    "        -0.280399730910646,\n",
    "        -0.14598789445406454\n",
    "    ],\n",
    "    [\n",
    "        0.0,\n",
    "        0.0,\n",
    "        0.0,\n",
    "        1.0\n",
    "    ]\n",
    "])\n",
    "\n",
    "cur_pose = torch.tensor([\n",
    "    [\n",
    "        -1.0, \n",
    "        -2.823936947407328e-17, \n",
    "        5.340285413173258e-16, \n",
    "        2.4463562574074363e-17\n",
    "    ], \n",
    "    [\n",
    "        3.5457582038357597e-16, \n",
    "        -0.04896000828076464, \n",
    "        0.9988007396819185, \n",
    "        0.3995202958290813\n",
    "    ], \n",
    "    [\n",
    "        -1.089239719165523e-17, \n",
    "        0.9988007396819186, \n",
    "        0.04896000828076479, \n",
    "        -0.08590599579648245\n",
    "    ], \n",
    "    [\n",
    "        0.0, \n",
    "        0.0, \n",
    "        0.0, \n",
    "        1.0\n",
    "    ]\n",
    "])\n",
    "\n",
    "initial_pose[..., :3, 3] *= 10/1.25\n",
    "cur_pose[..., :3, 3] *= 10/1.25\n",
    "\n",
    "# initial_pose = cur_pose"
   ]
  },
  {
   "cell_type": "code",
   "execution_count": 17,
   "metadata": {},
   "outputs": [
    {
     "name": "stdout",
     "output_type": "stream",
     "text": [
      "tensor([[-9.9950e-01,  3.1574e-02, -9.4349e-18, -5.9605e-08],\n",
      "        [ 8.8533e-03,  2.8026e-01,  9.5988e-01,  2.5977e-01],\n",
      "        [ 3.0307e-02,  9.5940e-01, -2.8040e-01, -3.2759e+00],\n",
      "        [ 0.0000e+00,  0.0000e+00,  0.0000e+00,  1.0000e+00]])\n",
      "tensor([[-9.9950e-01, -9.4349e-18, -3.1574e-02, -5.9605e-08],\n",
      "        [ 8.8533e-03,  9.5988e-01, -2.8026e-01,  2.5977e-01],\n",
      "        [ 3.0307e-02, -2.8040e-01, -9.5940e-01, -3.2759e+00],\n",
      "        [ 0.0000e+00,  0.0000e+00,  0.0000e+00,  1.0000e+00]], device='cuda:0')\n",
      "tensor([[-1.0000e+00,  3.5458e-16, -1.0892e-17, -9.4506e-16],\n",
      "        [-2.8239e-17, -4.8960e-02,  9.9880e-01,  8.4291e-01],\n",
      "        [ 5.3403e-16,  9.9880e-01,  4.8960e-02, -3.1587e+00],\n",
      "        [ 0.0000e+00,  0.0000e+00,  0.0000e+00,  1.0000e+00]])\n",
      "tensor([[-1.0000e+00, -1.0892e-17, -3.5458e-16, -9.4506e-16],\n",
      "        [-2.8239e-17,  9.9880e-01,  4.8960e-02,  8.4291e-01],\n",
      "        [ 5.3403e-16,  4.8960e-02, -9.9880e-01, -3.1587e+00],\n",
      "        [ 0.0000e+00,  0.0000e+00,  0.0000e+00,  1.0000e+00]], device='cuda:0')\n"
     ]
    }
   ],
   "source": [
    "z_near, z_far = extra_args['z_near'], extra_args['z_far']\n",
    "camera = gen_camera(torch.clone(initial_pose).detach(), extra_args['focal'], W, H, z_far, extra_args)\n",
    "camera.switch_backend('matrix_6dof_rotation')\n",
    "camera.extrinsics.requires_grad = True\n",
    "\n",
    "cur_cam = gen_camera(torch.clone(cur_pose).detach(), extra_args['focal'], W, H, z_far, extra_args)\n",
    "cur_cam.switch_backend('matrix_6dof_rotation')\n",
    "current_pose = cur_cam.extrinsics.parameters().clone()\n",
    "current_pose_named = cur_cam.extrinsics.named_params()"
   ]
  },
  {
   "cell_type": "code",
   "execution_count": 18,
   "metadata": {},
   "outputs": [
    {
     "data": {
      "text/plain": [
       "tensor([[-1.0000e+00,  5.3477e-16, -2.0595e-18, -1.5149e-15],\n",
       "        [-2.8239e-17, -4.8960e-02,  9.9880e-01,  8.4291e-01],\n",
       "        [ 3.5362e-16,  9.9880e-01,  4.8960e-02, -3.1587e+00],\n",
       "        [-6.6174e-24,  1.8626e-08, -2.3283e-10,  1.0000e+00]])"
      ]
     },
     "execution_count": 18,
     "metadata": {},
     "output_type": "execute_result"
    }
   ],
   "source": [
    "(torch.inverse(cur_pose))"
   ]
  },
  {
   "cell_type": "code",
   "execution_count": 19,
   "metadata": {},
   "outputs": [
    {
     "data": {
      "text/plain": [
       "tensor([[-9.9950e-01, -9.4349e-18, -3.1574e-02,  8.8533e-03,  9.5988e-01,\n",
       "         -2.8026e-01, -5.9605e-08,  2.5977e-01, -3.2759e+00]], device='cuda:0',\n",
       "       requires_grad=True)"
      ]
     },
     "execution_count": 19,
     "metadata": {},
     "output_type": "execute_result"
    }
   ],
   "source": [
    "# camera.extrinsics.requires_grad = False\n",
    "camera.extrinsics._backend.params"
   ]
  },
  {
   "cell_type": "code",
   "execution_count": 20,
   "metadata": {},
   "outputs": [],
   "source": [
    "# optimizer = torch.optim.Adam(params=[camera.extrinsics.parameters()], lr=extra_args['lrate'])\n",
    "optimizer = torch.optim.Adam(params=[camera.extrinsics.parameters()], lr=extra_args['lrate'])\n"
   ]
  },
  {
   "cell_type": "code",
   "execution_count": 21,
   "metadata": {},
   "outputs": [
    {
     "data": {
      "text/plain": [
       "tensor([[-1.0000e+00, -1.0892e-17, -3.5458e-16, -2.8239e-17,  9.9880e-01,\n",
       "          4.8960e-02, -9.4506e-16,  8.4291e-01, -3.1587e+00]], device='cuda:0')"
      ]
     },
     "execution_count": 21,
     "metadata": {},
     "output_type": "execute_result"
    }
   ],
   "source": [
    "current_pose"
   ]
  },
  {
   "cell_type": "code",
   "execution_count": 22,
   "metadata": {},
   "outputs": [
    {
     "data": {
      "text/plain": [
       "tensor([[-9.9950e-01,  8.8533e-03,  3.0307e-02,  9.6983e-02],\n",
       "        [ 3.1574e-02,  2.8026e-01,  9.5940e-01,  3.0701e+00],\n",
       "        [-9.4349e-18,  9.5988e-01, -2.8040e-01, -1.1679e+00],\n",
       "        [ 0.0000e+00,  0.0000e+00,  0.0000e+00,  1.0000e+00]])"
      ]
     },
     "execution_count": 22,
     "metadata": {},
     "output_type": "execute_result"
    }
   ],
   "source": [
    "initial_pose"
   ]
  },
  {
   "cell_type": "code",
   "execution_count": 23,
   "metadata": {},
   "outputs": [
    {
     "name": "stderr",
     "output_type": "stream",
     "text": [
      "/home/saptarshi/miniconda3/envs/wisp2/lib/python3.9/site-packages/torch/functional.py:504: UserWarning: torch.meshgrid: in an upcoming release, it will be required to pass the indexing argument. (Triggered internally at ../aten/src/ATen/native/TensorShape.cpp:3190.)\n",
      "  return _VF.meshgrid(tensors, **kwargs)  # type: ignore[attr-defined]\n"
     ]
    },
    {
     "data": {
      "image/png": "[encoded data removed]",
      "text/plain": [
       "<Figure size 640x480 with 1 Axes>"
      ]
     },
     "metadata": {},
     "output_type": "display_data"
    }
   ],
   "source": [
    "plt.imshow(get_image(camera, pipeline=pipelines[0])[0])\n",
    "plt.show()"
   ]
  },
  {
   "cell_type": "code",
   "execution_count": 24,
   "metadata": {},
   "outputs": [
    {
     "name": "stdout",
     "output_type": "stream",
     "text": [
      "tensor([-9.4506e-16,  8.4291e-01, -3.1587e+00], device='cuda:0') tensor([-5.9605e-08,  2.5977e-01, -3.2759e+00], device='cuda:0',\n",
      "       grad_fn=<IndexBackward0>)\n",
      "15.99692412657007\n",
      "15.99675604884497\n",
      "15.996599633079141\n",
      "15.996382190553007\n",
      "15.996213938383358\n",
      "15.996009226595705\n",
      "15.99582489909097\n",
      "15.995658947652473\n",
      "15.995461315673062\n",
      "15.995277933312419\n",
      "15.99511526491234\n",
      "15.994931904970839\n",
      "15.994773654049354\n",
      "15.994649807355113\n",
      "15.994491137749092\n",
      "15.994370958580733\n",
      "15.994251170541514\n",
      "15.994185297700438\n",
      "15.99407377156294\n",
      "15.994024155299417\n",
      "15.993998183757812\n",
      "15.993919128625972\n",
      "15.99393894839785\n",
      "15.993959486333413\n",
      "15.993951089000905\n",
      "15.993973624489191\n",
      "15.993969547570098\n",
      "15.994009887328021\n",
      "15.994043919484655\n",
      "15.994083027477577\n",
      "15.994173231224988\n",
      "15.994183802161988\n",
      "15.994258106786287\n",
      "15.994257175190583\n",
      "15.994310686852302\n",
      "15.994301860927411\n",
      "15.994337784622495\n",
      "15.994326648645664\n",
      "15.994312131943\n",
      "15.994249728870875\n",
      "15.99423267799696\n",
      "15.994145555137617\n",
      "15.994044714228888\n",
      "15.99395369501066\n",
      "15.993812934970945\n",
      "15.993640290939531\n",
      "15.99344556996737\n",
      "15.993168846814568\n",
      "15.992852176986428\n",
      "15.992421002258352\n",
      "15.991944044902931\n",
      "15.991336884996725\n",
      "15.990583104626957\n",
      "15.989769985576219\n",
      "15.988805398318808\n",
      "15.987712927552309\n",
      "15.986558636526777\n",
      "15.985296249733139\n",
      "15.983882310981112\n",
      "15.98224577201968\n",
      "15.980491414321412\n",
      "15.978567907320873\n",
      "15.976654691074838\n",
      "15.974815990152758\n",
      "15.973251378265287\n",
      "15.97198605508724\n",
      "15.970923092123083\n",
      "15.970286821676211\n",
      "15.969955924664387\n",
      "15.969871791453892\n",
      "15.96995118168213\n",
      "15.969973382971462\n",
      "15.969926957596076\n",
      "15.969790341852564\n",
      "15.969571297971703\n",
      "15.969300526933747\n",
      "15.969012658072394\n",
      "15.968682149046046\n",
      "15.968534958523643\n",
      "15.968436436357573\n",
      "15.96844794747207\n",
      "15.968520303608836\n",
      "15.96862160774466\n",
      "15.968715247308472\n",
      "15.968803957382676\n",
      "15.968810574174348\n",
      "15.96877458517262\n",
      "15.96864733174724\n",
      "15.968566547394964\n",
      "15.96842373151432\n",
      "15.96821586325695\n",
      "15.96806886746609\n",
      "15.967870693349226\n",
      "15.967701220513216\n",
      "15.967559323250697\n",
      "15.967470136554399\n",
      "15.967363874142423\n",
      "15.96728991811973\n",
      "15.967234329869234\n",
      "15.96718231628574\n",
      "15.967136447349096\n",
      "15.967096168463335\n",
      "15.967029994906264\n",
      "15.967004653814397\n",
      "15.966944350241125\n",
      "15.966993977286252\n",
      "15.966971963761747\n",
      "15.966971377315355\n",
      "15.96694925265068\n",
      "15.966908677409698\n",
      "15.96685985291341\n",
      "15.966757682271455\n",
      "15.966736578972569\n",
      "15.966570335659124\n",
      "15.966520745433444\n",
      "15.96648829589072\n",
      "15.966313761688056\n",
      "15.966241527766936\n",
      "15.966098434273064\n",
      "15.966005651400534\n",
      "15.965916872848565\n",
      "15.96574998929884\n",
      "15.965617530950212\n",
      "15.965592540840927\n",
      "15.965424248992619\n",
      "15.965335993704755\n",
      "15.965163261166845\n",
      "15.965149037571424\n",
      "15.964979335894835\n",
      "15.964892991796484\n",
      "15.964777316162152\n",
      "15.964621638002294\n",
      "15.964574340619036\n",
      "15.964435113299979\n",
      "15.964287599675462\n",
      "15.964157320906219\n",
      "15.964055293298548\n",
      "15.96387070499879\n",
      "15.963741585805021\n",
      "15.963577751692615\n",
      "15.963405271978793\n",
      "15.96332052589543\n",
      "15.963161607276685\n",
      "15.963038153963987\n",
      "15.962835243835977\n",
      "15.962703150954837\n",
      "15.96252389588742\n",
      "15.96234169905892\n",
      "15.962215648326193\n",
      "15.962064855769665\n",
      "15.96189047592863\n",
      "15.96171504752783\n",
      "15.961557091691601\n",
      "15.961370688381104\n",
      "15.961269191881378\n",
      "15.961100109836162\n",
      "15.960882841413147\n",
      "15.960741821661383\n",
      "15.960572047612581\n",
      "15.96041307588642\n",
      "15.960199218965789\n",
      "15.95993049599474\n",
      "15.95979702891868\n",
      "15.959572563766951\n",
      "15.959359271414323\n",
      "15.959236944912066\n",
      "15.958945759895657\n",
      "15.958741691889042\n",
      "15.958562436584888\n",
      "15.958310751101898\n",
      "15.958060705626012\n",
      "15.957868582438186\n",
      "15.957662559477148\n",
      "15.957423152082203\n",
      "15.957220660569039\n",
      "15.956910201440033\n",
      "15.956667376167564\n",
      "15.95643192403762\n",
      "15.95617207861364\n",
      "15.955912142424546\n",
      "15.955653304013895\n",
      "15.955364383019331\n",
      "15.955133695069948\n",
      "15.954807048068284\n",
      "15.954532296593463\n",
      "15.95428334395206\n",
      "15.95399305642519\n",
      "15.953707119224742\n",
      "15.953437008166574\n",
      "15.953133836494048\n",
      "15.952869021994381\n",
      "15.9525564675724\n",
      "15.952331753848245\n",
      "15.952043591082127\n",
      "15.951778436030704\n",
      "15.951596760985531\n",
      "15.95134112242539\n",
      "15.95106919854022\n",
      "15.95091877253172\n",
      "15.950687243556741\n"
     ]
    }
   ],
   "source": [
    "import cv2\n",
    "from IPython.display import Video\n",
    "imgs = []\n",
    "# min_loss = 100\n",
    "# min_params = None\n",
    "print(current_pose_named[0]['t'], camera.extrinsics.named_params()[0]['t'])\n",
    "for ep in range(extra_args['epochs']):\n",
    "    optimizer.zero_grad()\n",
    "    rays = gen_rays_only(camera)\n",
    "    rays = rays.reshape((rays.shape[0]**2, -1))\n",
    "    cur_loss = batch_backwards(pipelines, rays, 40000)\n",
    "    # cur_loss = batch_backwards2(pipelines, camera, 40000)\n",
    "    # if cur_loss < min_loss:\n",
    "    #     min_loss = cur_loss\n",
    "    #     min_params = camera.extrinsics._backend.params\n",
    "\n",
    "    optimizer.step()\n",
    "    img = get_image(camera, pipeline=pipelines[0])[0]\n",
    "    imgs.append(img)\n",
    "#     # del(all_rgbs)\n",
    "#     del(unc_loss)\n",
    "#     del(dist_loss)\n",
    "    # print(current_pose, camera.extrinsics.parameters())\n",
    "    # print(current_pose_named[0]['t'], camera.extrinsics.named_params()[0]['t'])\n",
    "    # print(camera.intrinsics.named_params())\n",
    "    # plt.imshow(get_image(camera, pipeline=pipelines[0])[0])\n",
    "    # plt.show()\n",
    "\n",
    "\n"
   ]
  },
  {
   "cell_type": "code",
   "execution_count": 22,
   "metadata": {},
   "outputs": [
    {
     "name": "stdout",
     "output_type": "stream",
     "text": [
      "tensor([[-0.7817,  0.2179, -0.2123, -0.2192,  0.5088,  0.8930, -0.1709,  0.7563,\n",
      "         -2.8435]], device='cuda:0')\n",
      "tensor([[-0.9319,  0.2598, -0.2530, -0.1709],\n",
      "        [-0.1112,  0.4594,  0.8812,  0.7563],\n",
      "        [ 0.3452,  0.8494, -0.3992, -2.8435],\n",
      "        [ 0.0000,  0.0000,  0.0000,  1.0000]], device='cuda:0')\n"
     ]
    }
   ],
   "source": [
    "camera.extrinsics.requires_grad = False\n",
    "print(camera.extrinsics.parameters())\n",
    "camera.extrinsics.switch_backend(\"matrix_se3\")\n",
    "print(camera.extrinsics.parameters().reshape((4, 4)))\n",
    "camera.extrinsics.switch_backend(\"matrix_6dof_rotation\")\n",
    "# plt.imshow(get_image(camera, pipeline=pipelines[0])[0])\n",
    "# plt.show()"
   ]
  },
  {
   "cell_type": "code",
   "execution_count": 23,
   "metadata": {},
   "outputs": [],
   "source": [
    "def batch_loss(rays, pipelines, batch_size):\n",
    "    total_loss = 0\n",
    "    for patch_rays in rays.split(batch_size):\n",
    "            all_rgbs = torch.zeros((len(pipelines), batch_size, 3), dtype=float)\n",
    "            for i, pipeline in enumerate(pipelines):\n",
    "                rb = render_pipeline(pipeline, patch_rays, None)\n",
    "                all_rgbs[i,:,:] = rb.rgb\n",
    "\n",
    "            unc_loss = -torch.mean(torch.var(all_rgbs, axis = 0))\n",
    "            total_loss += unc_loss.item()\n",
    "    print(total_loss)\n",
    "    return total_loss\n",
    "            \n",
    "\n"
   ]
  },
  {
   "cell_type": "code",
   "execution_count": null,
   "metadata": {},
   "outputs": [],
   "source": []
  },
  {
   "cell_type": "code",
   "execution_count": 27,
   "metadata": {},
   "outputs": [],
   "source": [
    "import copy\n",
    "def loss_off(camera, off_x, off_y, off_z):\n",
    "    cam2 = copy.deepcopy(camera)\n",
    "    # print(cam2.extrinsics._backend.params)\n",
    "    cam2.extrinsics._backend.params[0,6] += off_x\n",
    "    cam2.extrinsics._backend.params[0,7] += off_y\n",
    "    cam2.extrinsics._backend.params[0,8] += off_z\n",
    "    # print(cam2.extrinsics._backend.params)\n",
    "    # plt.imshow(get_image(cam2, pipeline=pipelines[0])[0])\n",
    "    # plt.show()\n",
    "    rays = gen_rays_only(cam2)\n",
    "    rays = rays.reshape((rays.shape[0]**2, -1))\n",
    "    return batch_loss(rays, pipelines, 640000)\n",
    "    "
   ]
  },
  {
   "cell_type": "code",
   "execution_count": 28,
   "metadata": {},
   "outputs": [
    {
     "name": "stdout",
     "output_type": "stream",
     "text": [
      "0.0\n",
      "0.0\n",
      "0.0\n",
      "0.0\n",
      "0.0\n",
      "0.0\n",
      "0.0\n",
      "0.0\n",
      "0.0\n",
      "0.0\n",
      "0.0\n",
      "0.0\n",
      "0.0\n",
      "0.0\n",
      "0.0\n",
      "0.0\n",
      "0.0\n",
      "0.0\n",
      "0.0\n",
      "0.0\n",
      "0.0\n",
      "0.0\n",
      "0.0\n",
      "0.0\n",
      "0.0\n",
      "0.0\n",
      "0.0\n",
      "0.0\n",
      "0.0\n",
      "0.0\n",
      "0.0\n"
     ]
    }
   ],
   "source": [
    "import plotly.express as px\n",
    "xs = torch.linspace(-10, 10, 100)\n",
    "ys = [loss_off(camera, x, 0, 0) for x in xs]"
   ]
  },
  {
   "cell_type": "code",
   "execution_count": 74,
   "metadata": {},
   "outputs": [
    {
     "data": {
      "application/vnd.plotly.v1+json": {
       "config": {
        "plotlyServerURL": "https://plot.ly"
       },
       "data": [
        {
         "hovertemplate": "x=%{x}<br>y=%{y}<extra></extra>",
         "legendgroup": "",
         "line": {
          "color": "#636efa",
          "dash": "solid"
         },
         "marker": {
          "symbol": "circle"
         },
         "mode": "lines",
         "name": "",
         "orientation": "v",
         "showlegend": false,
         "type": "scatter",
         "x": [
          -0.10000000149011612,
          -0.09797979891300201,
          -0.09595959633588791,
          -0.0939393937587738,
          -0.0919191911816597,
          -0.0898989886045456,
          -0.08787878602743149,
          -0.08585858345031738,
          -0.08383838832378387,
          -0.08181818574666977,
          -0.07979798316955566,
          -0.07777778059244156,
          -0.07575757801532745,
          -0.07373737543821335,
          -0.07171717286109924,
          -0.06969697773456573,
          -0.06767676770687103,
          -0.06565656512975693,
          -0.06363636255264282,
          -0.06161615997552872,
          -0.05959595739841461,
          -0.05757575482130051,
          -0.0555555559694767,
          -0.053535353392362595,
          -0.05151515081524849,
          -0.049494948238134384,
          -0.04747474566102028,
          -0.045454543083906174,
          -0.04343434423208237,
          -0.04141414165496826,
          -0.039393939077854156,
          -0.03737373650074005,
          -0.035353533923625946,
          -0.03333333134651184,
          -0.031313128769397736,
          -0.02929292805492878,
          -0.027272725477814674,
          -0.02525252290070057,
          -0.023232322186231613,
          -0.021212119609117508,
          -0.019191917032003403,
          -0.017171714454889297,
          -0.015151512809097767,
          -0.013131311163306236,
          -0.011111108586192131,
          -0.009090906009078026,
          -0.007070704363286495,
          -0.005050502717494965,
          -0.0030303001403808594,
          -0.0010100980289280415,
          0.0010101040825247765,
          0.0030303061939775944,
          0.005050508305430412,
          0.0070707108825445175,
          0.009090912528336048,
          0.011111114174127579,
          0.013131311163306236,
          0.015151513740420341,
          0.017171714454889297,
          0.019191917032003403,
          0.021212119609117508,
          0.023232322186231613,
          0.02525252476334572,
          0.027272725477814674,
          0.02929292805492878,
          0.031313128769397736,
          0.03333333134651184,
          0.035353533923625946,
          0.03737373650074005,
          0.039393939077854156,
          0.04141414165496826,
          0.04343434423208237,
          0.045454543083906174,
          0.04747474566102028,
          0.049494948238134384,
          0.05151515081524849,
          0.053535349667072296,
          0.0555555522441864,
          0.05757575482130051,
          0.05959595739841461,
          0.06161615997552872,
          0.06363636255264282,
          0.06565656512975693,
          0.06767676770687103,
          0.06969697028398514,
          0.07171717286109924,
          0.07373737543821335,
          0.07575757801532745,
          0.07777778059244156,
          0.07979798316955566,
          0.08181818574666977,
          0.08383838832378387,
          0.08585859090089798,
          0.08787879347801208,
          0.08989899605512619,
          0.0919191986322403,
          0.0939393937587738,
          0.09595959633588791,
          0.09797979891300201,
          0.10000000149011612
         ],
         "xaxis": "x",
         "y": [
          -0.002396541812838739,
          -0.0023987326083749552,
          -0.002396707519386863,
          -0.0024003841439231796,
          -0.002399038217348771,
          -0.002401422790369024,
          -0.002397879126194301,
          -0.0024002057905946686,
          -0.002398688681586875,
          -0.0023976895766187464,
          -0.002398017293161577,
          -0.0023998788555525392,
          -0.0023965550271827993,
          -0.0023998651384545353,
          -0.0023997016687948595,
          -0.002400359450738743,
          -0.0023977288098444207,
          -0.0023963021202761245,
          -0.0023969201438733,
          -0.00239808549271459,
          -0.002401187713710918,
          -0.0023977810512650424,
          -0.002397275741712906,
          -0.0023994895825820966,
          -0.0023986370486748635,
          -0.0023983701937082677,
          -0.0024007016485846754,
          -0.0023980036510915506,
          -0.0023998400575452176,
          -0.0023975138824014228,
          -0.0024009448954745356,
          -0.00239898048658763,
          -0.00240000879990049,
          -0.0023977048784909237,
          -0.0023983389783074666,
          -0.0023992285027402745,
          -0.002400232750120556,
          -0.002396908390873482,
          -0.0023986117787404286,
          -0.002398294770615088,
          -0.002401822978715998,
          -0.002395987049609707,
          -0.0024001375833820446,
          -0.0023982051427082663,
          -0.002398216704274037,
          -0.0023998829569800437,
          -0.002396045241027847,
          -0.002398657822690866,
          -0.0024007779472571835,
          -0.002396864055786355,
          -0.002396986840786144,
          -0.002399480641233706,
          -0.0023976963583886754,
          -0.0023996957355549068,
          -0.0023967488708675003,
          -0.002397274983840716,
          -0.0023996316622417646,
          -0.00239626099922482,
          -0.0023976324530713034,
          -0.002398623308020492,
          -0.002397223656114293,
          -0.00239572051136039,
          -0.0023989275135863552,
          -0.0023984454943725654,
          -0.002400118253981861,
          -0.0023992473070263,
          -0.0023971913829312504,
          -0.002399354758635262,
          -0.002397712486267844,
          -0.002401820217181516,
          -0.002397251700594159,
          -0.0023985298053494737,
          -0.0023981670647389127,
          -0.0023989061104910826,
          -0.0023988231728319805,
          -0.002398280223387078,
          -0.00239839193432115,
          -0.0023999462638359522,
          -0.0023985588682492284,
          -0.0023976200376393106,
          -0.002399028903230705,
          -0.00239917953320003,
          -0.0023987954485365326,
          -0.002399284907734158,
          -0.002399136564387357,
          -0.0023975743744055695,
          -0.0023979765278654068,
          -0.002397897052318629,
          -0.0023978179993052284,
          -0.002399234851532817,
          -0.0024024021058585495,
          -0.0023949492687388367,
          -0.0023988219022777597,
          -0.002399268500446476,
          -0.0023978013491286316,
          -0.0023974844441700715,
          -0.002396911366207007,
          -0.0024000914514711535,
          -0.0023993898510379316,
          -0.0023991051045842795
         ],
         "yaxis": "y"
        }
       ],
       "layout": {
        "legend": {
         "tracegroupgap": 0
        },
        "margin": {
         "t": 60
        },
        "template": {
         "data": {
          "bar": [
           {
            "error_x": {
             "color": "#2a3f5f"
            },
            "error_y": {
             "color": "#2a3f5f"
            },
            "marker": {
             "line": {
              "color": "#E5ECF6",
              "width": 0.5
             },
             "pattern": {
              "fillmode": "overlay",
              "size": 10,
              "solidity": 0.2
             }
            },
            "type": "bar"
           }
          ],
          "barpolar": [
           {
            "marker": {
             "line": {
              "color": "#E5ECF6",
              "width": 0.5
             },
             "pattern": {
              "fillmode": "overlay",
              "size": 10,
              "solidity": 0.2
             }
            },
            "type": "barpolar"
           }
          ],
          "carpet": [
           {
            "aaxis": {
             "endlinecolor": "#2a3f5f",
             "gridcolor": "white",
             "linecolor": "white",
             "minorgridcolor": "white",
             "startlinecolor": "#2a3f5f"
            },
            "baxis": {
             "endlinecolor": "#2a3f5f",
             "gridcolor": "white",
             "linecolor": "white",
             "minorgridcolor": "white",
             "startlinecolor": "#2a3f5f"
            },
            "type": "carpet"
           }
          ],
          "choropleth": [
           {
            "colorbar": {
             "outlinewidth": 0,
             "ticks": ""
            },
            "type": "choropleth"
           }
          ],
          "contour": [
           {
            "colorbar": {
             "outlinewidth": 0,
             "ticks": ""
            },
            "colorscale": [
             [
              0,
              "#0d0887"
             ],
             [
              0.1111111111111111,
              "#46039f"
             ],
             [
              0.2222222222222222,
              "#7201a8"
             ],
             [
              0.3333333333333333,
              "#9c179e"
             ],
             [
              0.4444444444444444,
              "#bd3786"
             ],
             [
              0.5555555555555556,
              "#d8576b"
             ],
             [
              0.6666666666666666,
              "#ed7953"
             ],
             [
              0.7777777777777778,
              "#fb9f3a"
             ],
             [
              0.8888888888888888,
              "#fdca26"
             ],
             [
              1,
              "#f0f921"
             ]
            ],
            "type": "contour"
           }
          ],
          "contourcarpet": [
           {
            "colorbar": {
             "outlinewidth": 0,
             "ticks": ""
            },
            "type": "contourcarpet"
           }
          ],
          "heatmap": [
           {
            "colorbar": {
             "outlinewidth": 0,
             "ticks": ""
            },
            "colorscale": [
             [
              0,
              "#0d0887"
             ],
             [
              0.1111111111111111,
              "#46039f"
             ],
             [
              0.2222222222222222,
              "#7201a8"
             ],
             [
              0.3333333333333333,
              "#9c179e"
             ],
             [
              0.4444444444444444,
              "#bd3786"
             ],
             [
              0.5555555555555556,
              "#d8576b"
             ],
             [
              0.6666666666666666,
              "#ed7953"
             ],
             [
              0.7777777777777778,
              "#fb9f3a"
             ],
             [
              0.8888888888888888,
              "#fdca26"
             ],
             [
              1,
              "#f0f921"
             ]
            ],
            "type": "heatmap"
           }
          ],
          "heatmapgl": [
           {
            "colorbar": {
             "outlinewidth": 0,
             "ticks": ""
            },
            "colorscale": [
             [
              0,
              "#0d0887"
             ],
             [
              0.1111111111111111,
              "#46039f"
             ],
             [
              0.2222222222222222,
              "#7201a8"
             ],
             [
              0.3333333333333333,
              "#9c179e"
             ],
             [
              0.4444444444444444,
              "#bd3786"
             ],
             [
              0.5555555555555556,
              "#d8576b"
             ],
             [
              0.6666666666666666,
              "#ed7953"
             ],
             [
              0.7777777777777778,
              "#fb9f3a"
             ],
             [
              0.8888888888888888,
              "#fdca26"
             ],
             [
              1,
              "#f0f921"
             ]
            ],
            "type": "heatmapgl"
           }
          ],
          "histogram": [
           {
            "marker": {
             "pattern": {
              "fillmode": "overlay",
              "size": 10,
              "solidity": 0.2
             }
            },
            "type": "histogram"
           }
          ],
          "histogram2d": [
           {
            "colorbar": {
             "outlinewidth": 0,
             "ticks": ""
            },
            "colorscale": [
             [
              0,
              "#0d0887"
             ],
             [
              0.1111111111111111,
              "#46039f"
             ],
             [
              0.2222222222222222,
              "#7201a8"
             ],
             [
              0.3333333333333333,
              "#9c179e"
             ],
             [
              0.4444444444444444,
              "#bd3786"
             ],
             [
              0.5555555555555556,
              "#d8576b"
             ],
             [
              0.6666666666666666,
              "#ed7953"
             ],
             [
              0.7777777777777778,
              "#fb9f3a"
             ],
             [
              0.8888888888888888,
              "#fdca26"
             ],
             [
              1,
              "#f0f921"
             ]
            ],
            "type": "histogram2d"
           }
          ],
          "histogram2dcontour": [
           {
            "colorbar": {
             "outlinewidth": 0,
             "ticks": ""
            },
            "colorscale": [
             [
              0,
              "#0d0887"
             ],
             [
              0.1111111111111111,
              "#46039f"
             ],
             [
              0.2222222222222222,
              "#7201a8"
             ],
             [
              0.3333333333333333,
              "#9c179e"
             ],
             [
              0.4444444444444444,
              "#bd3786"
             ],
             [
              0.5555555555555556,
              "#d8576b"
             ],
             [
              0.6666666666666666,
              "#ed7953"
             ],
             [
              0.7777777777777778,
              "#fb9f3a"
             ],
             [
              0.8888888888888888,
              "#fdca26"
             ],
             [
              1,
              "#f0f921"
             ]
            ],
            "type": "histogram2dcontour"
           }
          ],
          "mesh3d": [
           {
            "colorbar": {
             "outlinewidth": 0,
             "ticks": ""
            },
            "type": "mesh3d"
           }
          ],
          "parcoords": [
           {
            "line": {
             "colorbar": {
              "outlinewidth": 0,
              "ticks": ""
             }
            },
            "type": "parcoords"
           }
          ],
          "pie": [
           {
            "automargin": true,
            "type": "pie"
           }
          ],
          "scatter": [
           {
            "fillpattern": {
             "fillmode": "overlay",
             "size": 10,
             "solidity": 0.2
            },
            "type": "scatter"
           }
          ],
          "scatter3d": [
           {
            "line": {
             "colorbar": {
              "outlinewidth": 0,
              "ticks": ""
             }
            },
            "marker": {
             "colorbar": {
              "outlinewidth": 0,
              "ticks": ""
             }
            },
            "type": "scatter3d"
           }
          ],
          "scattercarpet": [
           {
            "marker": {
             "colorbar": {
              "outlinewidth": 0,
              "ticks": ""
             }
            },
            "type": "scattercarpet"
           }
          ],
          "scattergeo": [
           {
            "marker": {
             "colorbar": {
              "outlinewidth": 0,
              "ticks": ""
             }
            },
            "type": "scattergeo"
           }
          ],
          "scattergl": [
           {
            "marker": {
             "colorbar": {
              "outlinewidth": 0,
              "ticks": ""
             }
            },
            "type": "scattergl"
           }
          ],
          "scattermapbox": [
           {
            "marker": {
             "colorbar": {
              "outlinewidth": 0,
              "ticks": ""
             }
            },
            "type": "scattermapbox"
           }
          ],
          "scatterpolar": [
           {
            "marker": {
             "colorbar": {
              "outlinewidth": 0,
              "ticks": ""
             }
            },
            "type": "scatterpolar"
           }
          ],
          "scatterpolargl": [
           {
            "marker": {
             "colorbar": {
              "outlinewidth": 0,
              "ticks": ""
             }
            },
            "type": "scatterpolargl"
           }
          ],
          "scatterternary": [
           {
            "marker": {
             "colorbar": {
              "outlinewidth": 0,
              "ticks": ""
             }
            },
            "type": "scatterternary"
           }
          ],
          "surface": [
           {
            "colorbar": {
             "outlinewidth": 0,
             "ticks": ""
            },
            "colorscale": [
             [
              0,
              "#0d0887"
             ],
             [
              0.1111111111111111,
              "#46039f"
             ],
             [
              0.2222222222222222,
              "#7201a8"
             ],
             [
              0.3333333333333333,
              "#9c179e"
             ],
             [
              0.4444444444444444,
              "#bd3786"
             ],
             [
              0.5555555555555556,
              "#d8576b"
             ],
             [
              0.6666666666666666,
              "#ed7953"
             ],
             [
              0.7777777777777778,
              "#fb9f3a"
             ],
             [
              0.8888888888888888,
              "#fdca26"
             ],
             [
              1,
              "#f0f921"
             ]
            ],
            "type": "surface"
           }
          ],
          "table": [
           {
            "cells": {
             "fill": {
              "color": "#EBF0F8"
             },
             "line": {
              "color": "white"
             }
            },
            "header": {
             "fill": {
              "color": "#C8D4E3"
             },
             "line": {
              "color": "white"
             }
            },
            "type": "table"
           }
          ]
         },
         "layout": {
          "annotationdefaults": {
           "arrowcolor": "#2a3f5f",
           "arrowhead": 0,
           "arrowwidth": 1
          },
          "autotypenumbers": "strict",
          "coloraxis": {
           "colorbar": {
            "outlinewidth": 0,
            "ticks": ""
           }
          },
          "colorscale": {
           "diverging": [
            [
             0,
             "#8e0152"
            ],
            [
             0.1,
             "#c51b7d"
            ],
            [
             0.2,
             "#de77ae"
            ],
            [
             0.3,
             "#f1b6da"
            ],
            [
             0.4,
             "#fde0ef"
            ],
            [
             0.5,
             "#f7f7f7"
            ],
            [
             0.6,
             "#e6f5d0"
            ],
            [
             0.7,
             "#b8e186"
            ],
            [
             0.8,
             "#7fbc41"
            ],
            [
             0.9,
             "#4d9221"
            ],
            [
             1,
             "#276419"
            ]
           ],
           "sequential": [
            [
             0,
             "#0d0887"
            ],
            [
             0.1111111111111111,
             "#46039f"
            ],
            [
             0.2222222222222222,
             "#7201a8"
            ],
            [
             0.3333333333333333,
             "#9c179e"
            ],
            [
             0.4444444444444444,
             "#bd3786"
            ],
            [
             0.5555555555555556,
             "#d8576b"
            ],
            [
             0.6666666666666666,
             "#ed7953"
            ],
            [
             0.7777777777777778,
             "#fb9f3a"
            ],
            [
             0.8888888888888888,
             "#fdca26"
            ],
            [
             1,
             "#f0f921"
            ]
           ],
           "sequentialminus": [
            [
             0,
             "#0d0887"
            ],
            [
             0.1111111111111111,
             "#46039f"
            ],
            [
             0.2222222222222222,
             "#7201a8"
            ],
            [
             0.3333333333333333,
             "#9c179e"
            ],
            [
             0.4444444444444444,
             "#bd3786"
            ],
            [
             0.5555555555555556,
             "#d8576b"
            ],
            [
             0.6666666666666666,
             "#ed7953"
            ],
            [
             0.7777777777777778,
             "#fb9f3a"
            ],
            [
             0.8888888888888888,
             "#fdca26"
            ],
            [
             1,
             "#f0f921"
            ]
           ]
          },
          "colorway": [
           "#636efa",
           "#EF553B",
           "#00cc96",
           "#ab63fa",
           "#FFA15A",
           "#19d3f3",
           "#FF6692",
           "#B6E880",
           "#FF97FF",
           "#FECB52"
          ],
          "font": {
           "color": "#2a3f5f"
          },
          "geo": {
           "bgcolor": "white",
           "lakecolor": "white",
           "landcolor": "#E5ECF6",
           "showlakes": true,
           "showland": true,
           "subunitcolor": "white"
          },
          "hoverlabel": {
           "align": "left"
          },
          "hovermode": "closest",
          "mapbox": {
           "style": "light"
          },
          "paper_bgcolor": "white",
          "plot_bgcolor": "#E5ECF6",
          "polar": {
           "angularaxis": {
            "gridcolor": "white",
            "linecolor": "white",
            "ticks": ""
           },
           "bgcolor": "#E5ECF6",
           "radialaxis": {
            "gridcolor": "white",
            "linecolor": "white",
            "ticks": ""
           }
          },
          "scene": {
           "xaxis": {
            "backgroundcolor": "#E5ECF6",
            "gridcolor": "white",
            "gridwidth": 2,
            "linecolor": "white",
            "showbackground": true,
            "ticks": "",
            "zerolinecolor": "white"
           },
           "yaxis": {
            "backgroundcolor": "#E5ECF6",
            "gridcolor": "white",
            "gridwidth": 2,
            "linecolor": "white",
            "showbackground": true,
            "ticks": "",
            "zerolinecolor": "white"
           },
           "zaxis": {
            "backgroundcolor": "#E5ECF6",
            "gridcolor": "white",
            "gridwidth": 2,
            "linecolor": "white",
            "showbackground": true,
            "ticks": "",
            "zerolinecolor": "white"
           }
          },
          "shapedefaults": {
           "line": {
            "color": "#2a3f5f"
           }
          },
          "ternary": {
           "aaxis": {
            "gridcolor": "white",
            "linecolor": "white",
            "ticks": ""
           },
           "baxis": {
            "gridcolor": "white",
            "linecolor": "white",
            "ticks": ""
           },
           "bgcolor": "#E5ECF6",
           "caxis": {
            "gridcolor": "white",
            "linecolor": "white",
            "ticks": ""
           }
          },
          "title": {
           "x": 0.05
          },
          "xaxis": {
           "automargin": true,
           "gridcolor": "white",
           "linecolor": "white",
           "ticks": "",
           "title": {
            "standoff": 15
           },
           "zerolinecolor": "white",
           "zerolinewidth": 2
          },
          "yaxis": {
           "automargin": true,
           "gridcolor": "white",
           "linecolor": "white",
           "ticks": "",
           "title": {
            "standoff": 15
           },
           "zerolinecolor": "white",
           "zerolinewidth": 2
          }
         }
        },
        "xaxis": {
         "anchor": "y",
         "domain": [
          0,
          1
         ],
         "title": {
          "text": "x"
         }
        },
        "yaxis": {
         "anchor": "x",
         "domain": [
          0,
          1
         ],
         "title": {
          "text": "y"
         }
        }
       }
      },
      "text/html": [
       "<div>                            <div id=\"9e1d5d04-f471-4a61-835e-94ffea8112f2\" class=\"plotly-graph-div\" style=\"height:525px; width:100%;\"></div>            <script type=\"text/javascript\">                require([\"plotly\"], function(Plotly) {                    window.PLOTLYENV=window.PLOTLYENV || {};                                    if (document.getElementById(\"9e1d5d04-f471-4a61-835e-94ffea8112f2\")) {                    Plotly.newPlot(                        \"9e1d5d04-f471-4a61-835e-94ffea8112f2\",                        [{\"hovertemplate\":\"x=%{x}\\u003cbr\\u003ey=%{y}\\u003cextra\\u003e\\u003c\\u002fextra\\u003e\",\"legendgroup\":\"\",\"line\":{\"color\":\"#636efa\",\"dash\":\"solid\"},\"marker\":{\"symbol\":\"circle\"},\"mode\":\"lines\",\"name\":\"\",\"orientation\":\"v\",\"showlegend\":false,\"x\":[-0.10000000149011612,-0.09797979891300201,-0.09595959633588791,-0.0939393937587738,-0.0919191911816597,-0.0898989886045456,-0.08787878602743149,-0.08585858345031738,-0.08383838832378387,-0.08181818574666977,-0.07979798316955566,-0.07777778059244156,-0.07575757801532745,-0.07373737543821335,-0.07171717286109924,-0.06969697773456573,-0.06767676770687103,-0.06565656512975693,-0.06363636255264282,-0.06161615997552872,-0.05959595739841461,-0.05757575482130051,-0.0555555559694767,-0.053535353392362595,-0.05151515081524849,-0.049494948238134384,-0.04747474566102028,-0.045454543083906174,-0.04343434423208237,-0.04141414165496826,-0.039393939077854156,-0.03737373650074005,-0.035353533923625946,-0.03333333134651184,-0.031313128769397736,-0.02929292805492878,-0.027272725477814674,-0.02525252290070057,-0.023232322186231613,-0.021212119609117508,-0.019191917032003403,-0.017171714454889297,-0.015151512809097767,-0.013131311163306236,-0.011111108586192131,-0.009090906009078026,-0.007070704363286495,-0.005050502717494965,-0.0030303001403808594,-0.0010100980289280415,0.0010101040825247765,0.0030303061939775944,0.005050508305430412,0.0070707108825445175,0.009090912528336048,0.011111114174127579,0.013131311163306236,0.015151513740420341,0.017171714454889297,0.019191917032003403,0.021212119609117508,0.023232322186231613,0.02525252476334572,0.027272725477814674,0.02929292805492878,0.031313128769397736,0.03333333134651184,0.035353533923625946,0.03737373650074005,0.039393939077854156,0.04141414165496826,0.04343434423208237,0.045454543083906174,0.04747474566102028,0.049494948238134384,0.05151515081524849,0.053535349667072296,0.0555555522441864,0.05757575482130051,0.05959595739841461,0.06161615997552872,0.06363636255264282,0.06565656512975693,0.06767676770687103,0.06969697028398514,0.07171717286109924,0.07373737543821335,0.07575757801532745,0.07777778059244156,0.07979798316955566,0.08181818574666977,0.08383838832378387,0.08585859090089798,0.08787879347801208,0.08989899605512619,0.0919191986322403,0.0939393937587738,0.09595959633588791,0.09797979891300201,0.10000000149011612],\"xaxis\":\"x\",\"y\":[-0.002396541812838739,-0.0023987326083749552,-0.002396707519386863,-0.0024003841439231796,-0.002399038217348771,-0.002401422790369024,-0.002397879126194301,-0.0024002057905946686,-0.002398688681586875,-0.0023976895766187464,-0.002398017293161577,-0.0023998788555525392,-0.0023965550271827993,-0.0023998651384545353,-0.0023997016687948595,-0.002400359450738743,-0.0023977288098444207,-0.0023963021202761245,-0.0023969201438733,-0.00239808549271459,-0.002401187713710918,-0.0023977810512650424,-0.002397275741712906,-0.0023994895825820966,-0.0023986370486748635,-0.0023983701937082677,-0.0024007016485846754,-0.0023980036510915506,-0.0023998400575452176,-0.0023975138824014228,-0.0024009448954745356,-0.00239898048658763,-0.00240000879990049,-0.0023977048784909237,-0.0023983389783074666,-0.0023992285027402745,-0.002400232750120556,-0.002396908390873482,-0.0023986117787404286,-0.002398294770615088,-0.002401822978715998,-0.002395987049609707,-0.0024001375833820446,-0.0023982051427082663,-0.002398216704274037,-0.0023998829569800437,-0.002396045241027847,-0.002398657822690866,-0.0024007779472571835,-0.002396864055786355,-0.002396986840786144,-0.002399480641233706,-0.0023976963583886754,-0.0023996957355549068,-0.0023967488708675003,-0.002397274983840716,-0.0023996316622417646,-0.00239626099922482,-0.0023976324530713034,-0.002398623308020492,-0.002397223656114293,-0.00239572051136039,-0.0023989275135863552,-0.0023984454943725654,-0.002400118253981861,-0.0023992473070263,-0.0023971913829312504,-0.002399354758635262,-0.002397712486267844,-0.002401820217181516,-0.002397251700594159,-0.0023985298053494737,-0.0023981670647389127,-0.0023989061104910826,-0.0023988231728319805,-0.002398280223387078,-0.00239839193432115,-0.0023999462638359522,-0.0023985588682492284,-0.0023976200376393106,-0.002399028903230705,-0.00239917953320003,-0.0023987954485365326,-0.002399284907734158,-0.002399136564387357,-0.0023975743744055695,-0.0023979765278654068,-0.002397897052318629,-0.0023978179993052284,-0.002399234851532817,-0.0024024021058585495,-0.0023949492687388367,-0.0023988219022777597,-0.002399268500446476,-0.0023978013491286316,-0.0023974844441700715,-0.002396911366207007,-0.0024000914514711535,-0.0023993898510379316,-0.0023991051045842795],\"yaxis\":\"y\",\"type\":\"scatter\"}],                        {\"template\":{\"data\":{\"histogram2dcontour\":[{\"type\":\"histogram2dcontour\",\"colorbar\":{\"outlinewidth\":0,\"ticks\":\"\"},\"colorscale\":[[0.0,\"#0d0887\"],[0.1111111111111111,\"#46039f\"],[0.2222222222222222,\"#7201a8\"],[0.3333333333333333,\"#9c179e\"],[0.4444444444444444,\"#bd3786\"],[0.5555555555555556,\"#d8576b\"],[0.6666666666666666,\"#ed7953\"],[0.7777777777777778,\"#fb9f3a\"],[0.8888888888888888,\"#fdca26\"],[1.0,\"#f0f921\"]]}],\"choropleth\":[{\"type\":\"choropleth\",\"colorbar\":{\"outlinewidth\":0,\"ticks\":\"\"}}],\"histogram2d\":[{\"type\":\"histogram2d\",\"colorbar\":{\"outlinewidth\":0,\"ticks\":\"\"},\"colorscale\":[[0.0,\"#0d0887\"],[0.1111111111111111,\"#46039f\"],[0.2222222222222222,\"#7201a8\"],[0.3333333333333333,\"#9c179e\"],[0.4444444444444444,\"#bd3786\"],[0.5555555555555556,\"#d8576b\"],[0.6666666666666666,\"#ed7953\"],[0.7777777777777778,\"#fb9f3a\"],[0.8888888888888888,\"#fdca26\"],[1.0,\"#f0f921\"]]}],\"heatmap\":[{\"type\":\"heatmap\",\"colorbar\":{\"outlinewidth\":0,\"ticks\":\"\"},\"colorscale\":[[0.0,\"#0d0887\"],[0.1111111111111111,\"#46039f\"],[0.2222222222222222,\"#7201a8\"],[0.3333333333333333,\"#9c179e\"],[0.4444444444444444,\"#bd3786\"],[0.5555555555555556,\"#d8576b\"],[0.6666666666666666,\"#ed7953\"],[0.7777777777777778,\"#fb9f3a\"],[0.8888888888888888,\"#fdca26\"],[1.0,\"#f0f921\"]]}],\"heatmapgl\":[{\"type\":\"heatmapgl\",\"colorbar\":{\"outlinewidth\":0,\"ticks\":\"\"},\"colorscale\":[[0.0,\"#0d0887\"],[0.1111111111111111,\"#46039f\"],[0.2222222222222222,\"#7201a8\"],[0.3333333333333333,\"#9c179e\"],[0.4444444444444444,\"#bd3786\"],[0.5555555555555556,\"#d8576b\"],[0.6666666666666666,\"#ed7953\"],[0.7777777777777778,\"#fb9f3a\"],[0.8888888888888888,\"#fdca26\"],[1.0,\"#f0f921\"]]}],\"contourcarpet\":[{\"type\":\"contourcarpet\",\"colorbar\":{\"outlinewidth\":0,\"ticks\":\"\"}}],\"contour\":[{\"type\":\"contour\",\"colorbar\":{\"outlinewidth\":0,\"ticks\":\"\"},\"colorscale\":[[0.0,\"#0d0887\"],[0.1111111111111111,\"#46039f\"],[0.2222222222222222,\"#7201a8\"],[0.3333333333333333,\"#9c179e\"],[0.4444444444444444,\"#bd3786\"],[0.5555555555555556,\"#d8576b\"],[0.6666666666666666,\"#ed7953\"],[0.7777777777777778,\"#fb9f3a\"],[0.8888888888888888,\"#fdca26\"],[1.0,\"#f0f921\"]]}],\"surface\":[{\"type\":\"surface\",\"colorbar\":{\"outlinewidth\":0,\"ticks\":\"\"},\"colorscale\":[[0.0,\"#0d0887\"],[0.1111111111111111,\"#46039f\"],[0.2222222222222222,\"#7201a8\"],[0.3333333333333333,\"#9c179e\"],[0.4444444444444444,\"#bd3786\"],[0.5555555555555556,\"#d8576b\"],[0.6666666666666666,\"#ed7953\"],[0.7777777777777778,\"#fb9f3a\"],[0.8888888888888888,\"#fdca26\"],[1.0,\"#f0f921\"]]}],\"mesh3d\":[{\"type\":\"mesh3d\",\"colorbar\":{\"outlinewidth\":0,\"ticks\":\"\"}}],\"scatter\":[{\"fillpattern\":{\"fillmode\":\"overlay\",\"size\":10,\"solidity\":0.2},\"type\":\"scatter\"}],\"parcoords\":[{\"type\":\"parcoords\",\"line\":{\"colorbar\":{\"outlinewidth\":0,\"ticks\":\"\"}}}],\"scatterpolargl\":[{\"type\":\"scatterpolargl\",\"marker\":{\"colorbar\":{\"outlinewidth\":0,\"ticks\":\"\"}}}],\"bar\":[{\"error_x\":{\"color\":\"#2a3f5f\"},\"error_y\":{\"color\":\"#2a3f5f\"},\"marker\":{\"line\":{\"color\":\"#E5ECF6\",\"width\":0.5},\"pattern\":{\"fillmode\":\"overlay\",\"size\":10,\"solidity\":0.2}},\"type\":\"bar\"}],\"scattergeo\":[{\"type\":\"scattergeo\",\"marker\":{\"colorbar\":{\"outlinewidth\":0,\"ticks\":\"\"}}}],\"scatterpolar\":[{\"type\":\"scatterpolar\",\"marker\":{\"colorbar\":{\"outlinewidth\":0,\"ticks\":\"\"}}}],\"histogram\":[{\"marker\":{\"pattern\":{\"fillmode\":\"overlay\",\"size\":10,\"solidity\":0.2}},\"type\":\"histogram\"}],\"scattergl\":[{\"type\":\"scattergl\",\"marker\":{\"colorbar\":{\"outlinewidth\":0,\"ticks\":\"\"}}}],\"scatter3d\":[{\"type\":\"scatter3d\",\"line\":{\"colorbar\":{\"outlinewidth\":0,\"ticks\":\"\"}},\"marker\":{\"colorbar\":{\"outlinewidth\":0,\"ticks\":\"\"}}}],\"scattermapbox\":[{\"type\":\"scattermapbox\",\"marker\":{\"colorbar\":{\"outlinewidth\":0,\"ticks\":\"\"}}}],\"scatterternary\":[{\"type\":\"scatterternary\",\"marker\":{\"colorbar\":{\"outlinewidth\":0,\"ticks\":\"\"}}}],\"scattercarpet\":[{\"type\":\"scattercarpet\",\"marker\":{\"colorbar\":{\"outlinewidth\":0,\"ticks\":\"\"}}}],\"carpet\":[{\"aaxis\":{\"endlinecolor\":\"#2a3f5f\",\"gridcolor\":\"white\",\"linecolor\":\"white\",\"minorgridcolor\":\"white\",\"startlinecolor\":\"#2a3f5f\"},\"baxis\":{\"endlinecolor\":\"#2a3f5f\",\"gridcolor\":\"white\",\"linecolor\":\"white\",\"minorgridcolor\":\"white\",\"startlinecolor\":\"#2a3f5f\"},\"type\":\"carpet\"}],\"table\":[{\"cells\":{\"fill\":{\"color\":\"#EBF0F8\"},\"line\":{\"color\":\"white\"}},\"header\":{\"fill\":{\"color\":\"#C8D4E3\"},\"line\":{\"color\":\"white\"}},\"type\":\"table\"}],\"barpolar\":[{\"marker\":{\"line\":{\"color\":\"#E5ECF6\",\"width\":0.5},\"pattern\":{\"fillmode\":\"overlay\",\"size\":10,\"solidity\":0.2}},\"type\":\"barpolar\"}],\"pie\":[{\"automargin\":true,\"type\":\"pie\"}]},\"layout\":{\"autotypenumbers\":\"strict\",\"colorway\":[\"#636efa\",\"#EF553B\",\"#00cc96\",\"#ab63fa\",\"#FFA15A\",\"#19d3f3\",\"#FF6692\",\"#B6E880\",\"#FF97FF\",\"#FECB52\"],\"font\":{\"color\":\"#2a3f5f\"},\"hovermode\":\"closest\",\"hoverlabel\":{\"align\":\"left\"},\"paper_bgcolor\":\"white\",\"plot_bgcolor\":\"#E5ECF6\",\"polar\":{\"bgcolor\":\"#E5ECF6\",\"angularaxis\":{\"gridcolor\":\"white\",\"linecolor\":\"white\",\"ticks\":\"\"},\"radialaxis\":{\"gridcolor\":\"white\",\"linecolor\":\"white\",\"ticks\":\"\"}},\"ternary\":{\"bgcolor\":\"#E5ECF6\",\"aaxis\":{\"gridcolor\":\"white\",\"linecolor\":\"white\",\"ticks\":\"\"},\"baxis\":{\"gridcolor\":\"white\",\"linecolor\":\"white\",\"ticks\":\"\"},\"caxis\":{\"gridcolor\":\"white\",\"linecolor\":\"white\",\"ticks\":\"\"}},\"coloraxis\":{\"colorbar\":{\"outlinewidth\":0,\"ticks\":\"\"}},\"colorscale\":{\"sequential\":[[0.0,\"#0d0887\"],[0.1111111111111111,\"#46039f\"],[0.2222222222222222,\"#7201a8\"],[0.3333333333333333,\"#9c179e\"],[0.4444444444444444,\"#bd3786\"],[0.5555555555555556,\"#d8576b\"],[0.6666666666666666,\"#ed7953\"],[0.7777777777777778,\"#fb9f3a\"],[0.8888888888888888,\"#fdca26\"],[1.0,\"#f0f921\"]],\"sequentialminus\":[[0.0,\"#0d0887\"],[0.1111111111111111,\"#46039f\"],[0.2222222222222222,\"#7201a8\"],[0.3333333333333333,\"#9c179e\"],[0.4444444444444444,\"#bd3786\"],[0.5555555555555556,\"#d8576b\"],[0.6666666666666666,\"#ed7953\"],[0.7777777777777778,\"#fb9f3a\"],[0.8888888888888888,\"#fdca26\"],[1.0,\"#f0f921\"]],\"diverging\":[[0,\"#8e0152\"],[0.1,\"#c51b7d\"],[0.2,\"#de77ae\"],[0.3,\"#f1b6da\"],[0.4,\"#fde0ef\"],[0.5,\"#f7f7f7\"],[0.6,\"#e6f5d0\"],[0.7,\"#b8e186\"],[0.8,\"#7fbc41\"],[0.9,\"#4d9221\"],[1,\"#276419\"]]},\"xaxis\":{\"gridcolor\":\"white\",\"linecolor\":\"white\",\"ticks\":\"\",\"title\":{\"standoff\":15},\"zerolinecolor\":\"white\",\"automargin\":true,\"zerolinewidth\":2},\"yaxis\":{\"gridcolor\":\"white\",\"linecolor\":\"white\",\"ticks\":\"\",\"title\":{\"standoff\":15},\"zerolinecolor\":\"white\",\"automargin\":true,\"zerolinewidth\":2},\"scene\":{\"xaxis\":{\"backgroundcolor\":\"#E5ECF6\",\"gridcolor\":\"white\",\"linecolor\":\"white\",\"showbackground\":true,\"ticks\":\"\",\"zerolinecolor\":\"white\",\"gridwidth\":2},\"yaxis\":{\"backgroundcolor\":\"#E5ECF6\",\"gridcolor\":\"white\",\"linecolor\":\"white\",\"showbackground\":true,\"ticks\":\"\",\"zerolinecolor\":\"white\",\"gridwidth\":2},\"zaxis\":{\"backgroundcolor\":\"#E5ECF6\",\"gridcolor\":\"white\",\"linecolor\":\"white\",\"showbackground\":true,\"ticks\":\"\",\"zerolinecolor\":\"white\",\"gridwidth\":2}},\"shapedefaults\":{\"line\":{\"color\":\"#2a3f5f\"}},\"annotationdefaults\":{\"arrowcolor\":\"#2a3f5f\",\"arrowhead\":0,\"arrowwidth\":1},\"geo\":{\"bgcolor\":\"white\",\"landcolor\":\"#E5ECF6\",\"subunitcolor\":\"white\",\"showland\":true,\"showlakes\":true,\"lakecolor\":\"white\"},\"title\":{\"x\":0.05},\"mapbox\":{\"style\":\"light\"}}},\"xaxis\":{\"anchor\":\"y\",\"domain\":[0.0,1.0],\"title\":{\"text\":\"x\"}},\"yaxis\":{\"anchor\":\"x\",\"domain\":[0.0,1.0],\"title\":{\"text\":\"y\"}},\"legend\":{\"tracegroupgap\":0},\"margin\":{\"t\":60}},                        {\"responsive\": true}                    ).then(function(){\n",
       "                            \n",
       "var gd = document.getElementById('9e1d5d04-f471-4a61-835e-94ffea8112f2');\n",
       "var x = new MutationObserver(function (mutations, observer) {{\n",
       "        var display = window.getComputedStyle(gd).display;\n",
       "        if (!display || display === 'none') {{\n",
       "            console.log([gd, 'removed!']);\n",
       "            Plotly.purge(gd);\n",
       "            observer.disconnect();\n",
       "        }}\n",
       "}});\n",
       "\n",
       "// Listen for the removal of the full notebook cells\n",
       "var notebookContainer = gd.closest('#notebook-container');\n",
       "if (notebookContainer) {{\n",
       "    x.observe(notebookContainer, {childList: true});\n",
       "}}\n",
       "\n",
       "// Listen for the clearing of the current output cell\n",
       "var outputEl = gd.closest('.output');\n",
       "if (outputEl) {{\n",
       "    x.observe(outputEl, {childList: true});\n",
       "}}\n",
       "\n",
       "                        })                };                });            </script>        </div>"
      ]
     },
     "metadata": {},
     "output_type": "display_data"
    }
   ],
   "source": [
    "fig = px.line(x=xs, y=ys)\n",
    "fig"
   ]
  },
  {
   "cell_type": "code",
   "execution_count": null,
   "metadata": {},
   "outputs": [
    {
     "data": {
      "application/vnd.plotly.v1+json": {
       "config": {
        "plotlyServerURL": "https://plot.ly"
       },
       "data": [
        {
         "hovertemplate": "x=%{x}<br>y=%{y}<extra></extra>",
         "legendgroup": "",
         "line": {
          "color": "#636efa",
          "dash": "solid"
         },
         "marker": {
          "symbol": "circle"
         },
         "mode": "lines",
         "name": "",
         "orientation": "v",
         "showlegend": false,
         "type": "scatter",
         "x": [
          -0.10000000149011612,
          -0.09797979891300201,
          -0.09595959633588791,
          -0.0939393937587738,
          -0.0919191911816597,
          -0.0898989886045456,
          -0.08787878602743149,
          -0.08585858345031738,
          -0.08383838832378387,
          -0.08181818574666977,
          -0.07979798316955566,
          -0.07777778059244156,
          -0.07575757801532745,
          -0.07373737543821335,
          -0.07171717286109924,
          -0.06969697773456573,
          -0.06767676770687103,
          -0.06565656512975693,
          -0.06363636255264282,
          -0.06161615997552872,
          -0.05959595739841461,
          -0.05757575482130051,
          -0.0555555559694767,
          -0.053535353392362595,
          -0.05151515081524849,
          -0.049494948238134384,
          -0.04747474566102028,
          -0.045454543083906174,
          -0.04343434423208237,
          -0.04141414165496826,
          -0.039393939077854156,
          -0.03737373650074005,
          -0.035353533923625946,
          -0.03333333134651184,
          -0.031313128769397736,
          -0.02929292805492878,
          -0.027272725477814674,
          -0.02525252290070057,
          -0.023232322186231613,
          -0.021212119609117508,
          -0.019191917032003403,
          -0.017171714454889297,
          -0.015151512809097767,
          -0.013131311163306236,
          -0.011111108586192131,
          -0.009090906009078026,
          -0.007070704363286495,
          -0.005050502717494965,
          -0.0030303001403808594,
          -0.0010100980289280415,
          0.0010101040825247765,
          0.0030303061939775944,
          0.005050508305430412,
          0.0070707108825445175,
          0.009090912528336048,
          0.011111114174127579,
          0.013131311163306236,
          0.015151513740420341,
          0.017171714454889297,
          0.019191917032003403,
          0.021212119609117508,
          0.023232322186231613,
          0.02525252476334572,
          0.027272725477814674,
          0.02929292805492878,
          0.031313128769397736,
          0.03333333134651184,
          0.035353533923625946,
          0.03737373650074005,
          0.039393939077854156,
          0.04141414165496826,
          0.04343434423208237,
          0.045454543083906174,
          0.04747474566102028,
          0.049494948238134384,
          0.05151515081524849,
          0.053535349667072296,
          0.0555555522441864,
          0.05757575482130051,
          0.05959595739841461,
          0.06161615997552872,
          0.06363636255264282,
          0.06565656512975693,
          0.06767676770687103,
          0.06969697028398514,
          0.07171717286109924,
          0.07373737543821335,
          0.07575757801532745,
          0.07777778059244156,
          0.07979798316955566,
          0.08181818574666977,
          0.08383838832378387,
          0.08585859090089798,
          0.08787879347801208,
          0.08989899605512619,
          0.0919191986322403,
          0.0939393937587738,
          0.09595959633588791,
          0.09797979891300201,
          0.10000000149011612
         ],
         "xaxis": "x",
         "y": [
          -0.002396541812838739,
          -0.0023987326083749552,
          -0.002396707519386863,
          -0.0024003841439231796,
          -0.002399038217348771,
          -0.002401422790369024,
          -0.002397879126194301,
          -0.0024002057905946686,
          -0.002398688681586875,
          -0.0023976895766187464,
          -0.002398017293161577,
          -0.0023998788555525392,
          -0.0023965550271827993,
          -0.0023998651384545353,
          -0.0023997016687948595,
          -0.002400359450738743,
          -0.0023977288098444207,
          -0.0023963021202761245,
          -0.0023969201438733,
          -0.00239808549271459,
          -0.002401187713710918,
          -0.0023977810512650424,
          -0.002397275741712906,
          -0.0023994895825820966,
          -0.0023986370486748635,
          -0.0023983701937082677,
          -0.0024007016485846754,
          -0.0023980036510915506,
          -0.0023998400575452176,
          -0.0023975138824014228,
          -0.0024009448954745356,
          -0.00239898048658763,
          -0.00240000879990049,
          -0.0023977048784909237,
          -0.0023983389783074666,
          -0.0023992285027402745,
          -0.002400232750120556,
          -0.002396908390873482,
          -0.0023986117787404286,
          -0.002398294770615088,
          -0.002401822978715998,
          -0.002395987049609707,
          -0.0024001375833820446,
          -0.0023982051427082663,
          -0.002398216704274037,
          -0.0023998829569800437,
          -0.002396045241027847,
          -0.002398657822690866,
          -0.0024007779472571835,
          -0.002396864055786355,
          -0.002396986840786144,
          -0.002399480641233706,
          -0.0023976963583886754,
          -0.0023996957355549068,
          -0.0023967488708675003,
          -0.002397274983840716,
          -0.0023996316622417646,
          -0.00239626099922482,
          -0.0023976324530713034,
          -0.002398623308020492,
          -0.002397223656114293,
          -0.00239572051136039,
          -0.0023989275135863552,
          -0.0023984454943725654,
          -0.002400118253981861,
          -0.0023992473070263,
          -0.0023971913829312504,
          -0.002399354758635262,
          -0.002397712486267844,
          -0.002401820217181516,
          -0.002397251700594159,
          -0.0023985298053494737,
          -0.0023981670647389127,
          -0.0023989061104910826,
          -0.0023988231728319805,
          -0.002398280223387078,
          -0.00239839193432115,
          -0.0023999462638359522,
          -0.0023985588682492284,
          -0.0023976200376393106,
          -0.002399028903230705,
          -0.00239917953320003,
          -0.0023987954485365326,
          -0.002399284907734158,
          -0.002399136564387357,
          -0.0023975743744055695,
          -0.0023979765278654068,
          -0.002397897052318629,
          -0.0023978179993052284,
          -0.002399234851532817,
          -0.0024024021058585495,
          -0.0023949492687388367,
          -0.0023988219022777597,
          -0.002399268500446476,
          -0.0023978013491286316,
          -0.0023974844441700715,
          -0.002396911366207007,
          -0.0024000914514711535,
          -0.0023993898510379316,
          -0.0023991051045842795
         ],
         "yaxis": "y"
        }
       ],
       "layout": {
        "legend": {
         "tracegroupgap": 0
        },
        "margin": {
         "t": 60
        },
        "template": {
         "data": {
          "bar": [
           {
            "error_x": {
             "color": "#2a3f5f"
            },
            "error_y": {
             "color": "#2a3f5f"
            },
            "marker": {
             "line": {
              "color": "#E5ECF6",
              "width": 0.5
             },
             "pattern": {
              "fillmode": "overlay",
              "size": 10,
              "solidity": 0.2
             }
            },
            "type": "bar"
           }
          ],
          "barpolar": [
           {
            "marker": {
             "line": {
              "color": "#E5ECF6",
              "width": 0.5
             },
             "pattern": {
              "fillmode": "overlay",
              "size": 10,
              "solidity": 0.2
             }
            },
            "type": "barpolar"
           }
          ],
          "carpet": [
           {
            "aaxis": {
             "endlinecolor": "#2a3f5f",
             "gridcolor": "white",
             "linecolor": "white",
             "minorgridcolor": "white",
             "startlinecolor": "#2a3f5f"
            },
            "baxis": {
             "endlinecolor": "#2a3f5f",
             "gridcolor": "white",
             "linecolor": "white",
             "minorgridcolor": "white",
             "startlinecolor": "#2a3f5f"
            },
            "type": "carpet"
           }
          ],
          "choropleth": [
           {
            "colorbar": {
             "outlinewidth": 0,
             "ticks": ""
            },
            "type": "choropleth"
           }
          ],
          "contour": [
           {
            "colorbar": {
             "outlinewidth": 0,
             "ticks": ""
            },
            "colorscale": [
             [
              0,
              "#0d0887"
             ],
             [
              0.1111111111111111,
              "#46039f"
             ],
             [
              0.2222222222222222,
              "#7201a8"
             ],
             [
              0.3333333333333333,
              "#9c179e"
             ],
             [
              0.4444444444444444,
              "#bd3786"
             ],
             [
              0.5555555555555556,
              "#d8576b"
             ],
             [
              0.6666666666666666,
              "#ed7953"
             ],
             [
              0.7777777777777778,
              "#fb9f3a"
             ],
             [
              0.8888888888888888,
              "#fdca26"
             ],
             [
              1,
              "#f0f921"
             ]
            ],
            "type": "contour"
           }
          ],
          "contourcarpet": [
           {
            "colorbar": {
             "outlinewidth": 0,
             "ticks": ""
            },
            "type": "contourcarpet"
           }
          ],
          "heatmap": [
           {
            "colorbar": {
             "outlinewidth": 0,
             "ticks": ""
            },
            "colorscale": [
             [
              0,
              "#0d0887"
             ],
             [
              0.1111111111111111,
              "#46039f"
             ],
             [
              0.2222222222222222,
              "#7201a8"
             ],
             [
              0.3333333333333333,
              "#9c179e"
             ],
             [
              0.4444444444444444,
              "#bd3786"
             ],
             [
              0.5555555555555556,
              "#d8576b"
             ],
             [
              0.6666666666666666,
              "#ed7953"
             ],
             [
              0.7777777777777778,
              "#fb9f3a"
             ],
             [
              0.8888888888888888,
              "#fdca26"
             ],
             [
              1,
              "#f0f921"
             ]
            ],
            "type": "heatmap"
           }
          ],
          "heatmapgl": [
           {
            "colorbar": {
             "outlinewidth": 0,
             "ticks": ""
            },
            "colorscale": [
             [
              0,
              "#0d0887"
             ],
             [
              0.1111111111111111,
              "#46039f"
             ],
             [
              0.2222222222222222,
              "#7201a8"
             ],
             [
              0.3333333333333333,
              "#9c179e"
             ],
             [
              0.4444444444444444,
              "#bd3786"
             ],
             [
              0.5555555555555556,
              "#d8576b"
             ],
             [
              0.6666666666666666,
              "#ed7953"
             ],
             [
              0.7777777777777778,
              "#fb9f3a"
             ],
             [
              0.8888888888888888,
              "#fdca26"
             ],
             [
              1,
              "#f0f921"
             ]
            ],
            "type": "heatmapgl"
           }
          ],
          "histogram": [
           {
            "marker": {
             "pattern": {
              "fillmode": "overlay",
              "size": 10,
              "solidity": 0.2
             }
            },
            "type": "histogram"
           }
          ],
          "histogram2d": [
           {
            "colorbar": {
             "outlinewidth": 0,
             "ticks": ""
            },
            "colorscale": [
             [
              0,
              "#0d0887"
             ],
             [
              0.1111111111111111,
              "#46039f"
             ],
             [
              0.2222222222222222,
              "#7201a8"
             ],
             [
              0.3333333333333333,
              "#9c179e"
             ],
             [
              0.4444444444444444,
              "#bd3786"
             ],
             [
              0.5555555555555556,
              "#d8576b"
             ],
             [
              0.6666666666666666,
              "#ed7953"
             ],
             [
              0.7777777777777778,
              "#fb9f3a"
             ],
             [
              0.8888888888888888,
              "#fdca26"
             ],
             [
              1,
              "#f0f921"
             ]
            ],
            "type": "histogram2d"
           }
          ],
          "histogram2dcontour": [
           {
            "colorbar": {
             "outlinewidth": 0,
             "ticks": ""
            },
            "colorscale": [
             [
              0,
              "#0d0887"
             ],
             [
              0.1111111111111111,
              "#46039f"
             ],
             [
              0.2222222222222222,
              "#7201a8"
             ],
             [
              0.3333333333333333,
              "#9c179e"
             ],
             [
              0.4444444444444444,
              "#bd3786"
             ],
             [
              0.5555555555555556,
              "#d8576b"
             ],
             [
              0.6666666666666666,
              "#ed7953"
             ],
             [
              0.7777777777777778,
              "#fb9f3a"
             ],
             [
              0.8888888888888888,
              "#fdca26"
             ],
             [
              1,
              "#f0f921"
             ]
            ],
            "type": "histogram2dcontour"
           }
          ],
          "mesh3d": [
           {
            "colorbar": {
             "outlinewidth": 0,
             "ticks": ""
            },
            "type": "mesh3d"
           }
          ],
          "parcoords": [
           {
            "line": {
             "colorbar": {
              "outlinewidth": 0,
              "ticks": ""
             }
            },
            "type": "parcoords"
           }
          ],
          "pie": [
           {
            "automargin": true,
            "type": "pie"
           }
          ],
          "scatter": [
           {
            "fillpattern": {
             "fillmode": "overlay",
             "size": 10,
             "solidity": 0.2
            },
            "type": "scatter"
           }
          ],
          "scatter3d": [
           {
            "line": {
             "colorbar": {
              "outlinewidth": 0,
              "ticks": ""
             }
            },
            "marker": {
             "colorbar": {
              "outlinewidth": 0,
              "ticks": ""
             }
            },
            "type": "scatter3d"
           }
          ],
          "scattercarpet": [
           {
            "marker": {
             "colorbar": {
              "outlinewidth": 0,
              "ticks": ""
             }
            },
            "type": "scattercarpet"
           }
          ],
          "scattergeo": [
           {
            "marker": {
             "colorbar": {
              "outlinewidth": 0,
              "ticks": ""
             }
            },
            "type": "scattergeo"
           }
          ],
          "scattergl": [
           {
            "marker": {
             "colorbar": {
              "outlinewidth": 0,
              "ticks": ""
             }
            },
            "type": "scattergl"
           }
          ],
          "scattermapbox": [
           {
            "marker": {
             "colorbar": {
              "outlinewidth": 0,
              "ticks": ""
             }
            },
            "type": "scattermapbox"
           }
          ],
          "scatterpolar": [
           {
            "marker": {
             "colorbar": {
              "outlinewidth": 0,
              "ticks": ""
             }
            },
            "type": "scatterpolar"
           }
          ],
          "scatterpolargl": [
           {
            "marker": {
             "colorbar": {
              "outlinewidth": 0,
              "ticks": ""
             }
            },
            "type": "scatterpolargl"
           }
          ],
          "scatterternary": [
           {
            "marker": {
             "colorbar": {
              "outlinewidth": 0,
              "ticks": ""
             }
            },
            "type": "scatterternary"
           }
          ],
          "surface": [
           {
            "colorbar": {
             "outlinewidth": 0,
             "ticks": ""
            },
            "colorscale": [
             [
              0,
              "#0d0887"
             ],
             [
              0.1111111111111111,
              "#46039f"
             ],
             [
              0.2222222222222222,
              "#7201a8"
             ],
             [
              0.3333333333333333,
              "#9c179e"
             ],
             [
              0.4444444444444444,
              "#bd3786"
             ],
             [
              0.5555555555555556,
              "#d8576b"
             ],
             [
              0.6666666666666666,
              "#ed7953"
             ],
             [
              0.7777777777777778,
              "#fb9f3a"
             ],
             [
              0.8888888888888888,
              "#fdca26"
             ],
             [
              1,
              "#f0f921"
             ]
            ],
            "type": "surface"
           }
          ],
          "table": [
           {
            "cells": {
             "fill": {
              "color": "#EBF0F8"
             },
             "line": {
              "color": "white"
             }
            },
            "header": {
             "fill": {
              "color": "#C8D4E3"
             },
             "line": {
              "color": "white"
             }
            },
            "type": "table"
           }
          ]
         },
         "layout": {
          "annotationdefaults": {
           "arrowcolor": "#2a3f5f",
           "arrowhead": 0,
           "arrowwidth": 1
          },
          "autotypenumbers": "strict",
          "coloraxis": {
           "colorbar": {
            "outlinewidth": 0,
            "ticks": ""
           }
          },
          "colorscale": {
           "diverging": [
            [
             0,
             "#8e0152"
            ],
            [
             0.1,
             "#c51b7d"
            ],
            [
             0.2,
             "#de77ae"
            ],
            [
             0.3,
             "#f1b6da"
            ],
            [
             0.4,
             "#fde0ef"
            ],
            [
             0.5,
             "#f7f7f7"
            ],
            [
             0.6,
             "#e6f5d0"
            ],
            [
             0.7,
             "#b8e186"
            ],
            [
             0.8,
             "#7fbc41"
            ],
            [
             0.9,
             "#4d9221"
            ],
            [
             1,
             "#276419"
            ]
           ],
           "sequential": [
            [
             0,
             "#0d0887"
            ],
            [
             0.1111111111111111,
             "#46039f"
            ],
            [
             0.2222222222222222,
             "#7201a8"
            ],
            [
             0.3333333333333333,
             "#9c179e"
            ],
            [
             0.4444444444444444,
             "#bd3786"
            ],
            [
             0.5555555555555556,
             "#d8576b"
            ],
            [
             0.6666666666666666,
             "#ed7953"
            ],
            [
             0.7777777777777778,
             "#fb9f3a"
            ],
            [
             0.8888888888888888,
             "#fdca26"
            ],
            [
             1,
             "#f0f921"
            ]
           ],
           "sequentialminus": [
            [
             0,
             "#0d0887"
            ],
            [
             0.1111111111111111,
             "#46039f"
            ],
            [
             0.2222222222222222,
             "#7201a8"
            ],
            [
             0.3333333333333333,
             "#9c179e"
            ],
            [
             0.4444444444444444,
             "#bd3786"
            ],
            [
             0.5555555555555556,
             "#d8576b"
            ],
            [
             0.6666666666666666,
             "#ed7953"
            ],
            [
             0.7777777777777778,
             "#fb9f3a"
            ],
            [
             0.8888888888888888,
             "#fdca26"
            ],
            [
             1,
             "#f0f921"
            ]
           ]
          },
          "colorway": [
           "#636efa",
           "#EF553B",
           "#00cc96",
           "#ab63fa",
           "#FFA15A",
           "#19d3f3",
           "#FF6692",
           "#B6E880",
           "#FF97FF",
           "#FECB52"
          ],
          "font": {
           "color": "#2a3f5f"
          },
          "geo": {
           "bgcolor": "white",
           "lakecolor": "white",
           "landcolor": "#E5ECF6",
           "showlakes": true,
           "showland": true,
           "subunitcolor": "white"
          },
          "hoverlabel": {
           "align": "left"
          },
          "hovermode": "closest",
          "mapbox": {
           "style": "light"
          },
          "paper_bgcolor": "white",
          "plot_bgcolor": "#E5ECF6",
          "polar": {
           "angularaxis": {
            "gridcolor": "white",
            "linecolor": "white",
            "ticks": ""
           },
           "bgcolor": "#E5ECF6",
           "radialaxis": {
            "gridcolor": "white",
            "linecolor": "white",
            "ticks": ""
           }
          },
          "scene": {
           "xaxis": {
            "backgroundcolor": "#E5ECF6",
            "gridcolor": "white",
            "gridwidth": 2,
            "linecolor": "white",
            "showbackground": true,
            "ticks": "",
            "zerolinecolor": "white"
           },
           "yaxis": {
            "backgroundcolor": "#E5ECF6",
            "gridcolor": "white",
            "gridwidth": 2,
            "linecolor": "white",
            "showbackground": true,
            "ticks": "",
            "zerolinecolor": "white"
           },
           "zaxis": {
            "backgroundcolor": "#E5ECF6",
            "gridcolor": "white",
            "gridwidth": 2,
            "linecolor": "white",
            "showbackground": true,
            "ticks": "",
            "zerolinecolor": "white"
           }
          },
          "shapedefaults": {
           "line": {
            "color": "#2a3f5f"
           }
          },
          "ternary": {
           "aaxis": {
            "gridcolor": "white",
            "linecolor": "white",
            "ticks": ""
           },
           "baxis": {
            "gridcolor": "white",
            "linecolor": "white",
            "ticks": ""
           },
           "bgcolor": "#E5ECF6",
           "caxis": {
            "gridcolor": "white",
            "linecolor": "white",
            "ticks": ""
           }
          },
          "title": {
           "x": 0.05
          },
          "xaxis": {
           "automargin": true,
           "gridcolor": "white",
           "linecolor": "white",
           "ticks": "",
           "title": {
            "standoff": 15
           },
           "zerolinecolor": "white",
           "zerolinewidth": 2
          },
          "yaxis": {
           "automargin": true,
           "gridcolor": "white",
           "linecolor": "white",
           "ticks": "",
           "title": {
            "standoff": 15
           },
           "zerolinecolor": "white",
           "zerolinewidth": 2
          }
         }
        },
        "xaxis": {
         "anchor": "y",
         "domain": [
          0,
          1
         ],
         "title": {
          "text": "x"
         }
        },
        "yaxis": {
         "anchor": "x",
         "domain": [
          0,
          1
         ],
         "title": {
          "text": "y"
         }
        }
       }
      },
      "text/html": [
       "<div>                            <div id=\"9e1d5d04-f471-4a61-835e-94ffea8112f2\" class=\"plotly-graph-div\" style=\"height:525px; width:100%;\"></div>            <script type=\"text/javascript\">                require([\"plotly\"], function(Plotly) {                    window.PLOTLYENV=window.PLOTLYENV || {};                                    if (document.getElementById(\"9e1d5d04-f471-4a61-835e-94ffea8112f2\")) {                    Plotly.newPlot(                        \"9e1d5d04-f471-4a61-835e-94ffea8112f2\",                        [{\"hovertemplate\":\"x=%{x}\\u003cbr\\u003ey=%{y}\\u003cextra\\u003e\\u003c\\u002fextra\\u003e\",\"legendgroup\":\"\",\"line\":{\"color\":\"#636efa\",\"dash\":\"solid\"},\"marker\":{\"symbol\":\"circle\"},\"mode\":\"lines\",\"name\":\"\",\"orientation\":\"v\",\"showlegend\":false,\"x\":[-0.10000000149011612,-0.09797979891300201,-0.09595959633588791,-0.0939393937587738,-0.0919191911816597,-0.0898989886045456,-0.08787878602743149,-0.08585858345031738,-0.08383838832378387,-0.08181818574666977,-0.07979798316955566,-0.07777778059244156,-0.07575757801532745,-0.07373737543821335,-0.07171717286109924,-0.06969697773456573,-0.06767676770687103,-0.06565656512975693,-0.06363636255264282,-0.06161615997552872,-0.05959595739841461,-0.05757575482130051,-0.0555555559694767,-0.053535353392362595,-0.05151515081524849,-0.049494948238134384,-0.04747474566102028,-0.045454543083906174,-0.04343434423208237,-0.04141414165496826,-0.039393939077854156,-0.03737373650074005,-0.035353533923625946,-0.03333333134651184,-0.031313128769397736,-0.02929292805492878,-0.027272725477814674,-0.02525252290070057,-0.023232322186231613,-0.021212119609117508,-0.019191917032003403,-0.017171714454889297,-0.015151512809097767,-0.013131311163306236,-0.011111108586192131,-0.009090906009078026,-0.007070704363286495,-0.005050502717494965,-0.0030303001403808594,-0.0010100980289280415,0.0010101040825247765,0.0030303061939775944,0.005050508305430412,0.0070707108825445175,0.009090912528336048,0.011111114174127579,0.013131311163306236,0.015151513740420341,0.017171714454889297,0.019191917032003403,0.021212119609117508,0.023232322186231613,0.02525252476334572,0.027272725477814674,0.02929292805492878,0.031313128769397736,0.03333333134651184,0.035353533923625946,0.03737373650074005,0.039393939077854156,0.04141414165496826,0.04343434423208237,0.045454543083906174,0.04747474566102028,0.049494948238134384,0.05151515081524849,0.053535349667072296,0.0555555522441864,0.05757575482130051,0.05959595739841461,0.06161615997552872,0.06363636255264282,0.06565656512975693,0.06767676770687103,0.06969697028398514,0.07171717286109924,0.07373737543821335,0.07575757801532745,0.07777778059244156,0.07979798316955566,0.08181818574666977,0.08383838832378387,0.08585859090089798,0.08787879347801208,0.08989899605512619,0.0919191986322403,0.0939393937587738,0.09595959633588791,0.09797979891300201,0.10000000149011612],\"xaxis\":\"x\",\"y\":[-0.002396541812838739,-0.0023987326083749552,-0.002396707519386863,-0.0024003841439231796,-0.002399038217348771,-0.002401422790369024,-0.002397879126194301,-0.0024002057905946686,-0.002398688681586875,-0.0023976895766187464,-0.002398017293161577,-0.0023998788555525392,-0.0023965550271827993,-0.0023998651384545353,-0.0023997016687948595,-0.002400359450738743,-0.0023977288098444207,-0.0023963021202761245,-0.0023969201438733,-0.00239808549271459,-0.002401187713710918,-0.0023977810512650424,-0.002397275741712906,-0.0023994895825820966,-0.0023986370486748635,-0.0023983701937082677,-0.0024007016485846754,-0.0023980036510915506,-0.0023998400575452176,-0.0023975138824014228,-0.0024009448954745356,-0.00239898048658763,-0.00240000879990049,-0.0023977048784909237,-0.0023983389783074666,-0.0023992285027402745,-0.002400232750120556,-0.002396908390873482,-0.0023986117787404286,-0.002398294770615088,-0.002401822978715998,-0.002395987049609707,-0.0024001375833820446,-0.0023982051427082663,-0.002398216704274037,-0.0023998829569800437,-0.002396045241027847,-0.002398657822690866,-0.0024007779472571835,-0.002396864055786355,-0.002396986840786144,-0.002399480641233706,-0.0023976963583886754,-0.0023996957355549068,-0.0023967488708675003,-0.002397274983840716,-0.0023996316622417646,-0.00239626099922482,-0.0023976324530713034,-0.002398623308020492,-0.002397223656114293,-0.00239572051136039,-0.0023989275135863552,-0.0023984454943725654,-0.002400118253981861,-0.0023992473070263,-0.0023971913829312504,-0.002399354758635262,-0.002397712486267844,-0.002401820217181516,-0.002397251700594159,-0.0023985298053494737,-0.0023981670647389127,-0.0023989061104910826,-0.0023988231728319805,-0.002398280223387078,-0.00239839193432115,-0.0023999462638359522,-0.0023985588682492284,-0.0023976200376393106,-0.002399028903230705,-0.00239917953320003,-0.0023987954485365326,-0.002399284907734158,-0.002399136564387357,-0.0023975743744055695,-0.0023979765278654068,-0.002397897052318629,-0.0023978179993052284,-0.002399234851532817,-0.0024024021058585495,-0.0023949492687388367,-0.0023988219022777597,-0.002399268500446476,-0.0023978013491286316,-0.0023974844441700715,-0.002396911366207007,-0.0024000914514711535,-0.0023993898510379316,-0.0023991051045842795],\"yaxis\":\"y\",\"type\":\"scatter\"}],                        {\"template\":{\"data\":{\"histogram2dcontour\":[{\"type\":\"histogram2dcontour\",\"colorbar\":{\"outlinewidth\":0,\"ticks\":\"\"},\"colorscale\":[[0.0,\"#0d0887\"],[0.1111111111111111,\"#46039f\"],[0.2222222222222222,\"#7201a8\"],[0.3333333333333333,\"#9c179e\"],[0.4444444444444444,\"#bd3786\"],[0.5555555555555556,\"#d8576b\"],[0.6666666666666666,\"#ed7953\"],[0.7777777777777778,\"#fb9f3a\"],[0.8888888888888888,\"#fdca26\"],[1.0,\"#f0f921\"]]}],\"choropleth\":[{\"type\":\"choropleth\",\"colorbar\":{\"outlinewidth\":0,\"ticks\":\"\"}}],\"histogram2d\":[{\"type\":\"histogram2d\",\"colorbar\":{\"outlinewidth\":0,\"ticks\":\"\"},\"colorscale\":[[0.0,\"#0d0887\"],[0.1111111111111111,\"#46039f\"],[0.2222222222222222,\"#7201a8\"],[0.3333333333333333,\"#9c179e\"],[0.4444444444444444,\"#bd3786\"],[0.5555555555555556,\"#d8576b\"],[0.6666666666666666,\"#ed7953\"],[0.7777777777777778,\"#fb9f3a\"],[0.8888888888888888,\"#fdca26\"],[1.0,\"#f0f921\"]]}],\"heatmap\":[{\"type\":\"heatmap\",\"colorbar\":{\"outlinewidth\":0,\"ticks\":\"\"},\"colorscale\":[[0.0,\"#0d0887\"],[0.1111111111111111,\"#46039f\"],[0.2222222222222222,\"#7201a8\"],[0.3333333333333333,\"#9c179e\"],[0.4444444444444444,\"#bd3786\"],[0.5555555555555556,\"#d8576b\"],[0.6666666666666666,\"#ed7953\"],[0.7777777777777778,\"#fb9f3a\"],[0.8888888888888888,\"#fdca26\"],[1.0,\"#f0f921\"]]}],\"heatmapgl\":[{\"type\":\"heatmapgl\",\"colorbar\":{\"outlinewidth\":0,\"ticks\":\"\"},\"colorscale\":[[0.0,\"#0d0887\"],[0.1111111111111111,\"#46039f\"],[0.2222222222222222,\"#7201a8\"],[0.3333333333333333,\"#9c179e\"],[0.4444444444444444,\"#bd3786\"],[0.5555555555555556,\"#d8576b\"],[0.6666666666666666,\"#ed7953\"],[0.7777777777777778,\"#fb9f3a\"],[0.8888888888888888,\"#fdca26\"],[1.0,\"#f0f921\"]]}],\"contourcarpet\":[{\"type\":\"contourcarpet\",\"colorbar\":{\"outlinewidth\":0,\"ticks\":\"\"}}],\"contour\":[{\"type\":\"contour\",\"colorbar\":{\"outlinewidth\":0,\"ticks\":\"\"},\"colorscale\":[[0.0,\"#0d0887\"],[0.1111111111111111,\"#46039f\"],[0.2222222222222222,\"#7201a8\"],[0.3333333333333333,\"#9c179e\"],[0.4444444444444444,\"#bd3786\"],[0.5555555555555556,\"#d8576b\"],[0.6666666666666666,\"#ed7953\"],[0.7777777777777778,\"#fb9f3a\"],[0.8888888888888888,\"#fdca26\"],[1.0,\"#f0f921\"]]}],\"surface\":[{\"type\":\"surface\",\"colorbar\":{\"outlinewidth\":0,\"ticks\":\"\"},\"colorscale\":[[0.0,\"#0d0887\"],[0.1111111111111111,\"#46039f\"],[0.2222222222222222,\"#7201a8\"],[0.3333333333333333,\"#9c179e\"],[0.4444444444444444,\"#bd3786\"],[0.5555555555555556,\"#d8576b\"],[0.6666666666666666,\"#ed7953\"],[0.7777777777777778,\"#fb9f3a\"],[0.8888888888888888,\"#fdca26\"],[1.0,\"#f0f921\"]]}],\"mesh3d\":[{\"type\":\"mesh3d\",\"colorbar\":{\"outlinewidth\":0,\"ticks\":\"\"}}],\"scatter\":[{\"fillpattern\":{\"fillmode\":\"overlay\",\"size\":10,\"solidity\":0.2},\"type\":\"scatter\"}],\"parcoords\":[{\"type\":\"parcoords\",\"line\":{\"colorbar\":{\"outlinewidth\":0,\"ticks\":\"\"}}}],\"scatterpolargl\":[{\"type\":\"scatterpolargl\",\"marker\":{\"colorbar\":{\"outlinewidth\":0,\"ticks\":\"\"}}}],\"bar\":[{\"error_x\":{\"color\":\"#2a3f5f\"},\"error_y\":{\"color\":\"#2a3f5f\"},\"marker\":{\"line\":{\"color\":\"#E5ECF6\",\"width\":0.5},\"pattern\":{\"fillmode\":\"overlay\",\"size\":10,\"solidity\":0.2}},\"type\":\"bar\"}],\"scattergeo\":[{\"type\":\"scattergeo\",\"marker\":{\"colorbar\":{\"outlinewidth\":0,\"ticks\":\"\"}}}],\"scatterpolar\":[{\"type\":\"scatterpolar\",\"marker\":{\"colorbar\":{\"outlinewidth\":0,\"ticks\":\"\"}}}],\"histogram\":[{\"marker\":{\"pattern\":{\"fillmode\":\"overlay\",\"size\":10,\"solidity\":0.2}},\"type\":\"histogram\"}],\"scattergl\":[{\"type\":\"scattergl\",\"marker\":{\"colorbar\":{\"outlinewidth\":0,\"ticks\":\"\"}}}],\"scatter3d\":[{\"type\":\"scatter3d\",\"line\":{\"colorbar\":{\"outlinewidth\":0,\"ticks\":\"\"}},\"marker\":{\"colorbar\":{\"outlinewidth\":0,\"ticks\":\"\"}}}],\"scattermapbox\":[{\"type\":\"scattermapbox\",\"marker\":{\"colorbar\":{\"outlinewidth\":0,\"ticks\":\"\"}}}],\"scatterternary\":[{\"type\":\"scatterternary\",\"marker\":{\"colorbar\":{\"outlinewidth\":0,\"ticks\":\"\"}}}],\"scattercarpet\":[{\"type\":\"scattercarpet\",\"marker\":{\"colorbar\":{\"outlinewidth\":0,\"ticks\":\"\"}}}],\"carpet\":[{\"aaxis\":{\"endlinecolor\":\"#2a3f5f\",\"gridcolor\":\"white\",\"linecolor\":\"white\",\"minorgridcolor\":\"white\",\"startlinecolor\":\"#2a3f5f\"},\"baxis\":{\"endlinecolor\":\"#2a3f5f\",\"gridcolor\":\"white\",\"linecolor\":\"white\",\"minorgridcolor\":\"white\",\"startlinecolor\":\"#2a3f5f\"},\"type\":\"carpet\"}],\"table\":[{\"cells\":{\"fill\":{\"color\":\"#EBF0F8\"},\"line\":{\"color\":\"white\"}},\"header\":{\"fill\":{\"color\":\"#C8D4E3\"},\"line\":{\"color\":\"white\"}},\"type\":\"table\"}],\"barpolar\":[{\"marker\":{\"line\":{\"color\":\"#E5ECF6\",\"width\":0.5},\"pattern\":{\"fillmode\":\"overlay\",\"size\":10,\"solidity\":0.2}},\"type\":\"barpolar\"}],\"pie\":[{\"automargin\":true,\"type\":\"pie\"}]},\"layout\":{\"autotypenumbers\":\"strict\",\"colorway\":[\"#636efa\",\"#EF553B\",\"#00cc96\",\"#ab63fa\",\"#FFA15A\",\"#19d3f3\",\"#FF6692\",\"#B6E880\",\"#FF97FF\",\"#FECB52\"],\"font\":{\"color\":\"#2a3f5f\"},\"hovermode\":\"closest\",\"hoverlabel\":{\"align\":\"left\"},\"paper_bgcolor\":\"white\",\"plot_bgcolor\":\"#E5ECF6\",\"polar\":{\"bgcolor\":\"#E5ECF6\",\"angularaxis\":{\"gridcolor\":\"white\",\"linecolor\":\"white\",\"ticks\":\"\"},\"radialaxis\":{\"gridcolor\":\"white\",\"linecolor\":\"white\",\"ticks\":\"\"}},\"ternary\":{\"bgcolor\":\"#E5ECF6\",\"aaxis\":{\"gridcolor\":\"white\",\"linecolor\":\"white\",\"ticks\":\"\"},\"baxis\":{\"gridcolor\":\"white\",\"linecolor\":\"white\",\"ticks\":\"\"},\"caxis\":{\"gridcolor\":\"white\",\"linecolor\":\"white\",\"ticks\":\"\"}},\"coloraxis\":{\"colorbar\":{\"outlinewidth\":0,\"ticks\":\"\"}},\"colorscale\":{\"sequential\":[[0.0,\"#0d0887\"],[0.1111111111111111,\"#46039f\"],[0.2222222222222222,\"#7201a8\"],[0.3333333333333333,\"#9c179e\"],[0.4444444444444444,\"#bd3786\"],[0.5555555555555556,\"#d8576b\"],[0.6666666666666666,\"#ed7953\"],[0.7777777777777778,\"#fb9f3a\"],[0.8888888888888888,\"#fdca26\"],[1.0,\"#f0f921\"]],\"sequentialminus\":[[0.0,\"#0d0887\"],[0.1111111111111111,\"#46039f\"],[0.2222222222222222,\"#7201a8\"],[0.3333333333333333,\"#9c179e\"],[0.4444444444444444,\"#bd3786\"],[0.5555555555555556,\"#d8576b\"],[0.6666666666666666,\"#ed7953\"],[0.7777777777777778,\"#fb9f3a\"],[0.8888888888888888,\"#fdca26\"],[1.0,\"#f0f921\"]],\"diverging\":[[0,\"#8e0152\"],[0.1,\"#c51b7d\"],[0.2,\"#de77ae\"],[0.3,\"#f1b6da\"],[0.4,\"#fde0ef\"],[0.5,\"#f7f7f7\"],[0.6,\"#e6f5d0\"],[0.7,\"#b8e186\"],[0.8,\"#7fbc41\"],[0.9,\"#4d9221\"],[1,\"#276419\"]]},\"xaxis\":{\"gridcolor\":\"white\",\"linecolor\":\"white\",\"ticks\":\"\",\"title\":{\"standoff\":15},\"zerolinecolor\":\"white\",\"automargin\":true,\"zerolinewidth\":2},\"yaxis\":{\"gridcolor\":\"white\",\"linecolor\":\"white\",\"ticks\":\"\",\"title\":{\"standoff\":15},\"zerolinecolor\":\"white\",\"automargin\":true,\"zerolinewidth\":2},\"scene\":{\"xaxis\":{\"backgroundcolor\":\"#E5ECF6\",\"gridcolor\":\"white\",\"linecolor\":\"white\",\"showbackground\":true,\"ticks\":\"\",\"zerolinecolor\":\"white\",\"gridwidth\":2},\"yaxis\":{\"backgroundcolor\":\"#E5ECF6\",\"gridcolor\":\"white\",\"linecolor\":\"white\",\"showbackground\":true,\"ticks\":\"\",\"zerolinecolor\":\"white\",\"gridwidth\":2},\"zaxis\":{\"backgroundcolor\":\"#E5ECF6\",\"gridcolor\":\"white\",\"linecolor\":\"white\",\"showbackground\":true,\"ticks\":\"\",\"zerolinecolor\":\"white\",\"gridwidth\":2}},\"shapedefaults\":{\"line\":{\"color\":\"#2a3f5f\"}},\"annotationdefaults\":{\"arrowcolor\":\"#2a3f5f\",\"arrowhead\":0,\"arrowwidth\":1},\"geo\":{\"bgcolor\":\"white\",\"landcolor\":\"#E5ECF6\",\"subunitcolor\":\"white\",\"showland\":true,\"showlakes\":true,\"lakecolor\":\"white\"},\"title\":{\"x\":0.05},\"mapbox\":{\"style\":\"light\"}}},\"xaxis\":{\"anchor\":\"y\",\"domain\":[0.0,1.0],\"title\":{\"text\":\"x\"}},\"yaxis\":{\"anchor\":\"x\",\"domain\":[0.0,1.0],\"title\":{\"text\":\"y\"}},\"legend\":{\"tracegroupgap\":0},\"margin\":{\"t\":60}},                        {\"responsive\": true}                    ).then(function(){\n",
       "                            \n",
       "var gd = document.getElementById('9e1d5d04-f471-4a61-835e-94ffea8112f2');\n",
       "var x = new MutationObserver(function (mutations, observer) {{\n",
       "        var display = window.getComputedStyle(gd).display;\n",
       "        if (!display || display === 'none') {{\n",
       "            console.log([gd, 'removed!']);\n",
       "            Plotly.purge(gd);\n",
       "            observer.disconnect();\n",
       "        }}\n",
       "}});\n",
       "\n",
       "// Listen for the removal of the full notebook cells\n",
       "var notebookContainer = gd.closest('#notebook-container');\n",
       "if (notebookContainer) {{\n",
       "    x.observe(notebookContainer, {childList: true});\n",
       "}}\n",
       "\n",
       "// Listen for the clearing of the current output cell\n",
       "var outputEl = gd.closest('.output');\n",
       "if (outputEl) {{\n",
       "    x.observe(outputEl, {childList: true});\n",
       "}}\n",
       "\n",
       "                        })                };                });            </script>        </div>"
      ]
     },
     "metadata": {},
     "output_type": "display_data"
    }
   ],
   "source": [
    "fig = px.line(x=xs, y=ys)\n",
    "fig"
   ]
  },
  {
   "cell_type": "code",
   "execution_count": null,
   "metadata": {},
   "outputs": [
    {
     "data": {
      "application/vnd.plotly.v1+json": {
       "config": {
        "plotlyServerURL": "https://plot.ly"
       },
       "data": [
        {
         "hovertemplate": "x=%{x}<br>y=%{y}<extra></extra>",
         "legendgroup": "",
         "line": {
          "color": "#636efa",
          "dash": "solid"
         },
         "marker": {
          "symbol": "circle"
         },
         "mode": "lines",
         "name": "",
         "orientation": "v",
         "showlegend": false,
         "type": "scatter",
         "x": [
          -0.10000000149011612,
          -0.09797979891300201,
          -0.09595959633588791,
          -0.0939393937587738,
          -0.0919191911816597,
          -0.0898989886045456,
          -0.08787878602743149,
          -0.08585858345031738,
          -0.08383838832378387,
          -0.08181818574666977,
          -0.07979798316955566,
          -0.07777778059244156,
          -0.07575757801532745,
          -0.07373737543821335,
          -0.07171717286109924,
          -0.06969697773456573,
          -0.06767676770687103,
          -0.06565656512975693,
          -0.06363636255264282,
          -0.06161615997552872,
          -0.05959595739841461,
          -0.05757575482130051,
          -0.0555555559694767,
          -0.053535353392362595,
          -0.05151515081524849,
          -0.049494948238134384,
          -0.04747474566102028,
          -0.045454543083906174,
          -0.04343434423208237,
          -0.04141414165496826,
          -0.039393939077854156,
          -0.03737373650074005,
          -0.035353533923625946,
          -0.03333333134651184,
          -0.031313128769397736,
          -0.02929292805492878,
          -0.027272725477814674,
          -0.02525252290070057,
          -0.023232322186231613,
          -0.021212119609117508,
          -0.019191917032003403,
          -0.017171714454889297,
          -0.015151512809097767,
          -0.013131311163306236,
          -0.011111108586192131,
          -0.009090906009078026,
          -0.007070704363286495,
          -0.005050502717494965,
          -0.0030303001403808594,
          -0.0010100980289280415,
          0.0010101040825247765,
          0.0030303061939775944,
          0.005050508305430412,
          0.0070707108825445175,
          0.009090912528336048,
          0.011111114174127579,
          0.013131311163306236,
          0.015151513740420341,
          0.017171714454889297,
          0.019191917032003403,
          0.021212119609117508,
          0.023232322186231613,
          0.02525252476334572,
          0.027272725477814674,
          0.02929292805492878,
          0.031313128769397736,
          0.03333333134651184,
          0.035353533923625946,
          0.03737373650074005,
          0.039393939077854156,
          0.04141414165496826,
          0.04343434423208237,
          0.045454543083906174,
          0.04747474566102028,
          0.049494948238134384,
          0.05151515081524849,
          0.053535349667072296,
          0.0555555522441864,
          0.05757575482130051,
          0.05959595739841461,
          0.06161615997552872,
          0.06363636255264282,
          0.06565656512975693,
          0.06767676770687103,
          0.06969697028398514,
          0.07171717286109924,
          0.07373737543821335,
          0.07575757801532745,
          0.07777778059244156,
          0.07979798316955566,
          0.08181818574666977,
          0.08383838832378387,
          0.08585859090089798,
          0.08787879347801208,
          0.08989899605512619,
          0.0919191986322403,
          0.0939393937587738,
          0.09595959633588791,
          0.09797979891300201,
          0.10000000149011612
         ],
         "xaxis": "x",
         "y": [
          -0.002396541812838739,
          -0.0023987326083749552,
          -0.002396707519386863,
          -0.0024003841439231796,
          -0.002399038217348771,
          -0.002401422790369024,
          -0.002397879126194301,
          -0.0024002057905946686,
          -0.002398688681586875,
          -0.0023976895766187464,
          -0.002398017293161577,
          -0.0023998788555525392,
          -0.0023965550271827993,
          -0.0023998651384545353,
          -0.0023997016687948595,
          -0.002400359450738743,
          -0.0023977288098444207,
          -0.0023963021202761245,
          -0.0023969201438733,
          -0.00239808549271459,
          -0.002401187713710918,
          -0.0023977810512650424,
          -0.002397275741712906,
          -0.0023994895825820966,
          -0.0023986370486748635,
          -0.0023983701937082677,
          -0.0024007016485846754,
          -0.0023980036510915506,
          -0.0023998400575452176,
          -0.0023975138824014228,
          -0.0024009448954745356,
          -0.00239898048658763,
          -0.00240000879990049,
          -0.0023977048784909237,
          -0.0023983389783074666,
          -0.0023992285027402745,
          -0.002400232750120556,
          -0.002396908390873482,
          -0.0023986117787404286,
          -0.002398294770615088,
          -0.002401822978715998,
          -0.002395987049609707,
          -0.0024001375833820446,
          -0.0023982051427082663,
          -0.002398216704274037,
          -0.0023998829569800437,
          -0.002396045241027847,
          -0.002398657822690866,
          -0.0024007779472571835,
          -0.002396864055786355,
          -0.002396986840786144,
          -0.002399480641233706,
          -0.0023976963583886754,
          -0.0023996957355549068,
          -0.0023967488708675003,
          -0.002397274983840716,
          -0.0023996316622417646,
          -0.00239626099922482,
          -0.0023976324530713034,
          -0.002398623308020492,
          -0.002397223656114293,
          -0.00239572051136039,
          -0.0023989275135863552,
          -0.0023984454943725654,
          -0.002400118253981861,
          -0.0023992473070263,
          -0.0023971913829312504,
          -0.002399354758635262,
          -0.002397712486267844,
          -0.002401820217181516,
          -0.002397251700594159,
          -0.0023985298053494737,
          -0.0023981670647389127,
          -0.0023989061104910826,
          -0.0023988231728319805,
          -0.002398280223387078,
          -0.00239839193432115,
          -0.0023999462638359522,
          -0.0023985588682492284,
          -0.0023976200376393106,
          -0.002399028903230705,
          -0.00239917953320003,
          -0.0023987954485365326,
          -0.002399284907734158,
          -0.002399136564387357,
          -0.0023975743744055695,
          -0.0023979765278654068,
          -0.002397897052318629,
          -0.0023978179993052284,
          -0.002399234851532817,
          -0.0024024021058585495,
          -0.0023949492687388367,
          -0.0023988219022777597,
          -0.002399268500446476,
          -0.0023978013491286316,
          -0.0023974844441700715,
          -0.002396911366207007,
          -0.0024000914514711535,
          -0.0023993898510379316,
          -0.0023991051045842795
         ],
         "yaxis": "y"
        }
       ],
       "layout": {
        "legend": {
         "tracegroupgap": 0
        },
        "margin": {
         "t": 60
        },
        "template": {
         "data": {
          "bar": [
           {
            "error_x": {
             "color": "#2a3f5f"
            },
            "error_y": {
             "color": "#2a3f5f"
            },
            "marker": {
             "line": {
              "color": "#E5ECF6",
              "width": 0.5
             },
             "pattern": {
              "fillmode": "overlay",
              "size": 10,
              "solidity": 0.2
             }
            },
            "type": "bar"
           }
          ],
          "barpolar": [
           {
            "marker": {
             "line": {
              "color": "#E5ECF6",
              "width": 0.5
             },
             "pattern": {
              "fillmode": "overlay",
              "size": 10,
              "solidity": 0.2
             }
            },
            "type": "barpolar"
           }
          ],
          "carpet": [
           {
            "aaxis": {
             "endlinecolor": "#2a3f5f",
             "gridcolor": "white",
             "linecolor": "white",
             "minorgridcolor": "white",
             "startlinecolor": "#2a3f5f"
            },
            "baxis": {
             "endlinecolor": "#2a3f5f",
             "gridcolor": "white",
             "linecolor": "white",
             "minorgridcolor": "white",
             "startlinecolor": "#2a3f5f"
            },
            "type": "carpet"
           }
          ],
          "choropleth": [
           {
            "colorbar": {
             "outlinewidth": 0,
             "ticks": ""
            },
            "type": "choropleth"
           }
          ],
          "contour": [
           {
            "colorbar": {
             "outlinewidth": 0,
             "ticks": ""
            },
            "colorscale": [
             [
              0,
              "#0d0887"
             ],
             [
              0.1111111111111111,
              "#46039f"
             ],
             [
              0.2222222222222222,
              "#7201a8"
             ],
             [
              0.3333333333333333,
              "#9c179e"
             ],
             [
              0.4444444444444444,
              "#bd3786"
             ],
             [
              0.5555555555555556,
              "#d8576b"
             ],
             [
              0.6666666666666666,
              "#ed7953"
             ],
             [
              0.7777777777777778,
              "#fb9f3a"
             ],
             [
              0.8888888888888888,
              "#fdca26"
             ],
             [
              1,
              "#f0f921"
             ]
            ],
            "type": "contour"
           }
          ],
          "contourcarpet": [
           {
            "colorbar": {
             "outlinewidth": 0,
             "ticks": ""
            },
            "type": "contourcarpet"
           }
          ],
          "heatmap": [
           {
            "colorbar": {
             "outlinewidth": 0,
             "ticks": ""
            },
            "colorscale": [
             [
              0,
              "#0d0887"
             ],
             [
              0.1111111111111111,
              "#46039f"
             ],
             [
              0.2222222222222222,
              "#7201a8"
             ],
             [
              0.3333333333333333,
              "#9c179e"
             ],
             [
              0.4444444444444444,
              "#bd3786"
             ],
             [
              0.5555555555555556,
              "#d8576b"
             ],
             [
              0.6666666666666666,
              "#ed7953"
             ],
             [
              0.7777777777777778,
              "#fb9f3a"
             ],
             [
              0.8888888888888888,
              "#fdca26"
             ],
             [
              1,
              "#f0f921"
             ]
            ],
            "type": "heatmap"
           }
          ],
          "heatmapgl": [
           {
            "colorbar": {
             "outlinewidth": 0,
             "ticks": ""
            },
            "colorscale": [
             [
              0,
              "#0d0887"
             ],
             [
              0.1111111111111111,
              "#46039f"
             ],
             [
              0.2222222222222222,
              "#7201a8"
             ],
             [
              0.3333333333333333,
              "#9c179e"
             ],
             [
              0.4444444444444444,
              "#bd3786"
             ],
             [
              0.5555555555555556,
              "#d8576b"
             ],
             [
              0.6666666666666666,
              "#ed7953"
             ],
             [
              0.7777777777777778,
              "#fb9f3a"
             ],
             [
              0.8888888888888888,
              "#fdca26"
             ],
             [
              1,
              "#f0f921"
             ]
            ],
            "type": "heatmapgl"
           }
          ],
          "histogram": [
           {
            "marker": {
             "pattern": {
              "fillmode": "overlay",
              "size": 10,
              "solidity": 0.2
             }
            },
            "type": "histogram"
           }
          ],
          "histogram2d": [
           {
            "colorbar": {
             "outlinewidth": 0,
             "ticks": ""
            },
            "colorscale": [
             [
              0,
              "#0d0887"
             ],
             [
              0.1111111111111111,
              "#46039f"
             ],
             [
              0.2222222222222222,
              "#7201a8"
             ],
             [
              0.3333333333333333,
              "#9c179e"
             ],
             [
              0.4444444444444444,
              "#bd3786"
             ],
             [
              0.5555555555555556,
              "#d8576b"
             ],
             [
              0.6666666666666666,
              "#ed7953"
             ],
             [
              0.7777777777777778,
              "#fb9f3a"
             ],
             [
              0.8888888888888888,
              "#fdca26"
             ],
             [
              1,
              "#f0f921"
             ]
            ],
            "type": "histogram2d"
           }
          ],
          "histogram2dcontour": [
           {
            "colorbar": {
             "outlinewidth": 0,
             "ticks": ""
            },
            "colorscale": [
             [
              0,
              "#0d0887"
             ],
             [
              0.1111111111111111,
              "#46039f"
             ],
             [
              0.2222222222222222,
              "#7201a8"
             ],
             [
              0.3333333333333333,
              "#9c179e"
             ],
             [
              0.4444444444444444,
              "#bd3786"
             ],
             [
              0.5555555555555556,
              "#d8576b"
             ],
             [
              0.6666666666666666,
              "#ed7953"
             ],
             [
              0.7777777777777778,
              "#fb9f3a"
             ],
             [
              0.8888888888888888,
              "#fdca26"
             ],
             [
              1,
              "#f0f921"
             ]
            ],
            "type": "histogram2dcontour"
           }
          ],
          "mesh3d": [
           {
            "colorbar": {
             "outlinewidth": 0,
             "ticks": ""
            },
            "type": "mesh3d"
           }
          ],
          "parcoords": [
           {
            "line": {
             "colorbar": {
              "outlinewidth": 0,
              "ticks": ""
             }
            },
            "type": "parcoords"
           }
          ],
          "pie": [
           {
            "automargin": true,
            "type": "pie"
           }
          ],
          "scatter": [
           {
            "fillpattern": {
             "fillmode": "overlay",
             "size": 10,
             "solidity": 0.2
            },
            "type": "scatter"
           }
          ],
          "scatter3d": [
           {
            "line": {
             "colorbar": {
              "outlinewidth": 0,
              "ticks": ""
             }
            },
            "marker": {
             "colorbar": {
              "outlinewidth": 0,
              "ticks": ""
             }
            },
            "type": "scatter3d"
           }
          ],
          "scattercarpet": [
           {
            "marker": {
             "colorbar": {
              "outlinewidth": 0,
              "ticks": ""
             }
            },
            "type": "scattercarpet"
           }
          ],
          "scattergeo": [
           {
            "marker": {
             "colorbar": {
              "outlinewidth": 0,
              "ticks": ""
             }
            },
            "type": "scattergeo"
           }
          ],
          "scattergl": [
           {
            "marker": {
             "colorbar": {
              "outlinewidth": 0,
              "ticks": ""
             }
            },
            "type": "scattergl"
           }
          ],
          "scattermapbox": [
           {
            "marker": {
             "colorbar": {
              "outlinewidth": 0,
              "ticks": ""
             }
            },
            "type": "scattermapbox"
           }
          ],
          "scatterpolar": [
           {
            "marker": {
             "colorbar": {
              "outlinewidth": 0,
              "ticks": ""
             }
            },
            "type": "scatterpolar"
           }
          ],
          "scatterpolargl": [
           {
            "marker": {
             "colorbar": {
              "outlinewidth": 0,
              "ticks": ""
             }
            },
            "type": "scatterpolargl"
           }
          ],
          "scatterternary": [
           {
            "marker": {
             "colorbar": {
              "outlinewidth": 0,
              "ticks": ""
             }
            },
            "type": "scatterternary"
           }
          ],
          "surface": [
           {
            "colorbar": {
             "outlinewidth": 0,
             "ticks": ""
            },
            "colorscale": [
             [
              0,
              "#0d0887"
             ],
             [
              0.1111111111111111,
              "#46039f"
             ],
             [
              0.2222222222222222,
              "#7201a8"
             ],
             [
              0.3333333333333333,
              "#9c179e"
             ],
             [
              0.4444444444444444,
              "#bd3786"
             ],
             [
              0.5555555555555556,
              "#d8576b"
             ],
             [
              0.6666666666666666,
              "#ed7953"
             ],
             [
              0.7777777777777778,
              "#fb9f3a"
             ],
             [
              0.8888888888888888,
              "#fdca26"
             ],
             [
              1,
              "#f0f921"
             ]
            ],
            "type": "surface"
           }
          ],
          "table": [
           {
            "cells": {
             "fill": {
              "color": "#EBF0F8"
             },
             "line": {
              "color": "white"
             }
            },
            "header": {
             "fill": {
              "color": "#C8D4E3"
             },
             "line": {
              "color": "white"
             }
            },
            "type": "table"
           }
          ]
         },
         "layout": {
          "annotationdefaults": {
           "arrowcolor": "#2a3f5f",
           "arrowhead": 0,
           "arrowwidth": 1
          },
          "autotypenumbers": "strict",
          "coloraxis": {
           "colorbar": {
            "outlinewidth": 0,
            "ticks": ""
           }
          },
          "colorscale": {
           "diverging": [
            [
             0,
             "#8e0152"
            ],
            [
             0.1,
             "#c51b7d"
            ],
            [
             0.2,
             "#de77ae"
            ],
            [
             0.3,
             "#f1b6da"
            ],
            [
             0.4,
             "#fde0ef"
            ],
            [
             0.5,
             "#f7f7f7"
            ],
            [
             0.6,
             "#e6f5d0"
            ],
            [
             0.7,
             "#b8e186"
            ],
            [
             0.8,
             "#7fbc41"
            ],
            [
             0.9,
             "#4d9221"
            ],
            [
             1,
             "#276419"
            ]
           ],
           "sequential": [
            [
             0,
             "#0d0887"
            ],
            [
             0.1111111111111111,
             "#46039f"
            ],
            [
             0.2222222222222222,
             "#7201a8"
            ],
            [
             0.3333333333333333,
             "#9c179e"
            ],
            [
             0.4444444444444444,
             "#bd3786"
            ],
            [
             0.5555555555555556,
             "#d8576b"
            ],
            [
             0.6666666666666666,
             "#ed7953"
            ],
            [
             0.7777777777777778,
             "#fb9f3a"
            ],
            [
             0.8888888888888888,
             "#fdca26"
            ],
            [
             1,
             "#f0f921"
            ]
           ],
           "sequentialminus": [
            [
             0,
             "#0d0887"
            ],
            [
             0.1111111111111111,
             "#46039f"
            ],
            [
             0.2222222222222222,
             "#7201a8"
            ],
            [
             0.3333333333333333,
             "#9c179e"
            ],
            [
             0.4444444444444444,
             "#bd3786"
            ],
            [
             0.5555555555555556,
             "#d8576b"
            ],
            [
             0.6666666666666666,
             "#ed7953"
            ],
            [
             0.7777777777777778,
             "#fb9f3a"
            ],
            [
             0.8888888888888888,
             "#fdca26"
            ],
            [
             1,
             "#f0f921"
            ]
           ]
          },
          "colorway": [
           "#636efa",
           "#EF553B",
           "#00cc96",
           "#ab63fa",
           "#FFA15A",
           "#19d3f3",
           "#FF6692",
           "#B6E880",
           "#FF97FF",
           "#FECB52"
          ],
          "font": {
           "color": "#2a3f5f"
          },
          "geo": {
           "bgcolor": "white",
           "lakecolor": "white",
           "landcolor": "#E5ECF6",
           "showlakes": true,
           "showland": true,
           "subunitcolor": "white"
          },
          "hoverlabel": {
           "align": "left"
          },
          "hovermode": "closest",
          "mapbox": {
           "style": "light"
          },
          "paper_bgcolor": "white",
          "plot_bgcolor": "#E5ECF6",
          "polar": {
           "angularaxis": {
            "gridcolor": "white",
            "linecolor": "white",
            "ticks": ""
           },
           "bgcolor": "#E5ECF6",
           "radialaxis": {
            "gridcolor": "white",
            "linecolor": "white",
            "ticks": ""
           }
          },
          "scene": {
           "xaxis": {
            "backgroundcolor": "#E5ECF6",
            "gridcolor": "white",
            "gridwidth": 2,
            "linecolor": "white",
            "showbackground": true,
            "ticks": "",
            "zerolinecolor": "white"
           },
           "yaxis": {
            "backgroundcolor": "#E5ECF6",
            "gridcolor": "white",
            "gridwidth": 2,
            "linecolor": "white",
            "showbackground": true,
            "ticks": "",
            "zerolinecolor": "white"
           },
           "zaxis": {
            "backgroundcolor": "#E5ECF6",
            "gridcolor": "white",
            "gridwidth": 2,
            "linecolor": "white",
            "showbackground": true,
            "ticks": "",
            "zerolinecolor": "white"
           }
          },
          "shapedefaults": {
           "line": {
            "color": "#2a3f5f"
           }
          },
          "ternary": {
           "aaxis": {
            "gridcolor": "white",
            "linecolor": "white",
            "ticks": ""
           },
           "baxis": {
            "gridcolor": "white",
            "linecolor": "white",
            "ticks": ""
           },
           "bgcolor": "#E5ECF6",
           "caxis": {
            "gridcolor": "white",
            "linecolor": "white",
            "ticks": ""
           }
          },
          "title": {
           "x": 0.05
          },
          "xaxis": {
           "automargin": true,
           "gridcolor": "white",
           "linecolor": "white",
           "ticks": "",
           "title": {
            "standoff": 15
           },
           "zerolinecolor": "white",
           "zerolinewidth": 2
          },
          "yaxis": {
           "automargin": true,
           "gridcolor": "white",
           "linecolor": "white",
           "ticks": "",
           "title": {
            "standoff": 15
           },
           "zerolinecolor": "white",
           "zerolinewidth": 2
          }
         }
        },
        "xaxis": {
         "anchor": "y",
         "domain": [
          0,
          1
         ],
         "title": {
          "text": "x"
         }
        },
        "yaxis": {
         "anchor": "x",
         "domain": [
          0,
          1
         ],
         "title": {
          "text": "y"
         }
        }
       }
      },
      "text/html": [
       "<div>                            <div id=\"9e1d5d04-f471-4a61-835e-94ffea8112f2\" class=\"plotly-graph-div\" style=\"height:525px; width:100%;\"></div>            <script type=\"text/javascript\">                require([\"plotly\"], function(Plotly) {                    window.PLOTLYENV=window.PLOTLYENV || {};                                    if (document.getElementById(\"9e1d5d04-f471-4a61-835e-94ffea8112f2\")) {                    Plotly.newPlot(                        \"9e1d5d04-f471-4a61-835e-94ffea8112f2\",                        [{\"hovertemplate\":\"x=%{x}\\u003cbr\\u003ey=%{y}\\u003cextra\\u003e\\u003c\\u002fextra\\u003e\",\"legendgroup\":\"\",\"line\":{\"color\":\"#636efa\",\"dash\":\"solid\"},\"marker\":{\"symbol\":\"circle\"},\"mode\":\"lines\",\"name\":\"\",\"orientation\":\"v\",\"showlegend\":false,\"x\":[-0.10000000149011612,-0.09797979891300201,-0.09595959633588791,-0.0939393937587738,-0.0919191911816597,-0.0898989886045456,-0.08787878602743149,-0.08585858345031738,-0.08383838832378387,-0.08181818574666977,-0.07979798316955566,-0.07777778059244156,-0.07575757801532745,-0.07373737543821335,-0.07171717286109924,-0.06969697773456573,-0.06767676770687103,-0.06565656512975693,-0.06363636255264282,-0.06161615997552872,-0.05959595739841461,-0.05757575482130051,-0.0555555559694767,-0.053535353392362595,-0.05151515081524849,-0.049494948238134384,-0.04747474566102028,-0.045454543083906174,-0.04343434423208237,-0.04141414165496826,-0.039393939077854156,-0.03737373650074005,-0.035353533923625946,-0.03333333134651184,-0.031313128769397736,-0.02929292805492878,-0.027272725477814674,-0.02525252290070057,-0.023232322186231613,-0.021212119609117508,-0.019191917032003403,-0.017171714454889297,-0.015151512809097767,-0.013131311163306236,-0.011111108586192131,-0.009090906009078026,-0.007070704363286495,-0.005050502717494965,-0.0030303001403808594,-0.0010100980289280415,0.0010101040825247765,0.0030303061939775944,0.005050508305430412,0.0070707108825445175,0.009090912528336048,0.011111114174127579,0.013131311163306236,0.015151513740420341,0.017171714454889297,0.019191917032003403,0.021212119609117508,0.023232322186231613,0.02525252476334572,0.027272725477814674,0.02929292805492878,0.031313128769397736,0.03333333134651184,0.035353533923625946,0.03737373650074005,0.039393939077854156,0.04141414165496826,0.04343434423208237,0.045454543083906174,0.04747474566102028,0.049494948238134384,0.05151515081524849,0.053535349667072296,0.0555555522441864,0.05757575482130051,0.05959595739841461,0.06161615997552872,0.06363636255264282,0.06565656512975693,0.06767676770687103,0.06969697028398514,0.07171717286109924,0.07373737543821335,0.07575757801532745,0.07777778059244156,0.07979798316955566,0.08181818574666977,0.08383838832378387,0.08585859090089798,0.08787879347801208,0.08989899605512619,0.0919191986322403,0.0939393937587738,0.09595959633588791,0.09797979891300201,0.10000000149011612],\"xaxis\":\"x\",\"y\":[-0.002396541812838739,-0.0023987326083749552,-0.002396707519386863,-0.0024003841439231796,-0.002399038217348771,-0.002401422790369024,-0.002397879126194301,-0.0024002057905946686,-0.002398688681586875,-0.0023976895766187464,-0.002398017293161577,-0.0023998788555525392,-0.0023965550271827993,-0.0023998651384545353,-0.0023997016687948595,-0.002400359450738743,-0.0023977288098444207,-0.0023963021202761245,-0.0023969201438733,-0.00239808549271459,-0.002401187713710918,-0.0023977810512650424,-0.002397275741712906,-0.0023994895825820966,-0.0023986370486748635,-0.0023983701937082677,-0.0024007016485846754,-0.0023980036510915506,-0.0023998400575452176,-0.0023975138824014228,-0.0024009448954745356,-0.00239898048658763,-0.00240000879990049,-0.0023977048784909237,-0.0023983389783074666,-0.0023992285027402745,-0.002400232750120556,-0.002396908390873482,-0.0023986117787404286,-0.002398294770615088,-0.002401822978715998,-0.002395987049609707,-0.0024001375833820446,-0.0023982051427082663,-0.002398216704274037,-0.0023998829569800437,-0.002396045241027847,-0.002398657822690866,-0.0024007779472571835,-0.002396864055786355,-0.002396986840786144,-0.002399480641233706,-0.0023976963583886754,-0.0023996957355549068,-0.0023967488708675003,-0.002397274983840716,-0.0023996316622417646,-0.00239626099922482,-0.0023976324530713034,-0.002398623308020492,-0.002397223656114293,-0.00239572051136039,-0.0023989275135863552,-0.0023984454943725654,-0.002400118253981861,-0.0023992473070263,-0.0023971913829312504,-0.002399354758635262,-0.002397712486267844,-0.002401820217181516,-0.002397251700594159,-0.0023985298053494737,-0.0023981670647389127,-0.0023989061104910826,-0.0023988231728319805,-0.002398280223387078,-0.00239839193432115,-0.0023999462638359522,-0.0023985588682492284,-0.0023976200376393106,-0.002399028903230705,-0.00239917953320003,-0.0023987954485365326,-0.002399284907734158,-0.002399136564387357,-0.0023975743744055695,-0.0023979765278654068,-0.002397897052318629,-0.0023978179993052284,-0.002399234851532817,-0.0024024021058585495,-0.0023949492687388367,-0.0023988219022777597,-0.002399268500446476,-0.0023978013491286316,-0.0023974844441700715,-0.002396911366207007,-0.0024000914514711535,-0.0023993898510379316,-0.0023991051045842795],\"yaxis\":\"y\",\"type\":\"scatter\"}],                        {\"template\":{\"data\":{\"histogram2dcontour\":[{\"type\":\"histogram2dcontour\",\"colorbar\":{\"outlinewidth\":0,\"ticks\":\"\"},\"colorscale\":[[0.0,\"#0d0887\"],[0.1111111111111111,\"#46039f\"],[0.2222222222222222,\"#7201a8\"],[0.3333333333333333,\"#9c179e\"],[0.4444444444444444,\"#bd3786\"],[0.5555555555555556,\"#d8576b\"],[0.6666666666666666,\"#ed7953\"],[0.7777777777777778,\"#fb9f3a\"],[0.8888888888888888,\"#fdca26\"],[1.0,\"#f0f921\"]]}],\"choropleth\":[{\"type\":\"choropleth\",\"colorbar\":{\"outlinewidth\":0,\"ticks\":\"\"}}],\"histogram2d\":[{\"type\":\"histogram2d\",\"colorbar\":{\"outlinewidth\":0,\"ticks\":\"\"},\"colorscale\":[[0.0,\"#0d0887\"],[0.1111111111111111,\"#46039f\"],[0.2222222222222222,\"#7201a8\"],[0.3333333333333333,\"#9c179e\"],[0.4444444444444444,\"#bd3786\"],[0.5555555555555556,\"#d8576b\"],[0.6666666666666666,\"#ed7953\"],[0.7777777777777778,\"#fb9f3a\"],[0.8888888888888888,\"#fdca26\"],[1.0,\"#f0f921\"]]}],\"heatmap\":[{\"type\":\"heatmap\",\"colorbar\":{\"outlinewidth\":0,\"ticks\":\"\"},\"colorscale\":[[0.0,\"#0d0887\"],[0.1111111111111111,\"#46039f\"],[0.2222222222222222,\"#7201a8\"],[0.3333333333333333,\"#9c179e\"],[0.4444444444444444,\"#bd3786\"],[0.5555555555555556,\"#d8576b\"],[0.6666666666666666,\"#ed7953\"],[0.7777777777777778,\"#fb9f3a\"],[0.8888888888888888,\"#fdca26\"],[1.0,\"#f0f921\"]]}],\"heatmapgl\":[{\"type\":\"heatmapgl\",\"colorbar\":{\"outlinewidth\":0,\"ticks\":\"\"},\"colorscale\":[[0.0,\"#0d0887\"],[0.1111111111111111,\"#46039f\"],[0.2222222222222222,\"#7201a8\"],[0.3333333333333333,\"#9c179e\"],[0.4444444444444444,\"#bd3786\"],[0.5555555555555556,\"#d8576b\"],[0.6666666666666666,\"#ed7953\"],[0.7777777777777778,\"#fb9f3a\"],[0.8888888888888888,\"#fdca26\"],[1.0,\"#f0f921\"]]}],\"contourcarpet\":[{\"type\":\"contourcarpet\",\"colorbar\":{\"outlinewidth\":0,\"ticks\":\"\"}}],\"contour\":[{\"type\":\"contour\",\"colorbar\":{\"outlinewidth\":0,\"ticks\":\"\"},\"colorscale\":[[0.0,\"#0d0887\"],[0.1111111111111111,\"#46039f\"],[0.2222222222222222,\"#7201a8\"],[0.3333333333333333,\"#9c179e\"],[0.4444444444444444,\"#bd3786\"],[0.5555555555555556,\"#d8576b\"],[0.6666666666666666,\"#ed7953\"],[0.7777777777777778,\"#fb9f3a\"],[0.8888888888888888,\"#fdca26\"],[1.0,\"#f0f921\"]]}],\"surface\":[{\"type\":\"surface\",\"colorbar\":{\"outlinewidth\":0,\"ticks\":\"\"},\"colorscale\":[[0.0,\"#0d0887\"],[0.1111111111111111,\"#46039f\"],[0.2222222222222222,\"#7201a8\"],[0.3333333333333333,\"#9c179e\"],[0.4444444444444444,\"#bd3786\"],[0.5555555555555556,\"#d8576b\"],[0.6666666666666666,\"#ed7953\"],[0.7777777777777778,\"#fb9f3a\"],[0.8888888888888888,\"#fdca26\"],[1.0,\"#f0f921\"]]}],\"mesh3d\":[{\"type\":\"mesh3d\",\"colorbar\":{\"outlinewidth\":0,\"ticks\":\"\"}}],\"scatter\":[{\"fillpattern\":{\"fillmode\":\"overlay\",\"size\":10,\"solidity\":0.2},\"type\":\"scatter\"}],\"parcoords\":[{\"type\":\"parcoords\",\"line\":{\"colorbar\":{\"outlinewidth\":0,\"ticks\":\"\"}}}],\"scatterpolargl\":[{\"type\":\"scatterpolargl\",\"marker\":{\"colorbar\":{\"outlinewidth\":0,\"ticks\":\"\"}}}],\"bar\":[{\"error_x\":{\"color\":\"#2a3f5f\"},\"error_y\":{\"color\":\"#2a3f5f\"},\"marker\":{\"line\":{\"color\":\"#E5ECF6\",\"width\":0.5},\"pattern\":{\"fillmode\":\"overlay\",\"size\":10,\"solidity\":0.2}},\"type\":\"bar\"}],\"scattergeo\":[{\"type\":\"scattergeo\",\"marker\":{\"colorbar\":{\"outlinewidth\":0,\"ticks\":\"\"}}}],\"scatterpolar\":[{\"type\":\"scatterpolar\",\"marker\":{\"colorbar\":{\"outlinewidth\":0,\"ticks\":\"\"}}}],\"histogram\":[{\"marker\":{\"pattern\":{\"fillmode\":\"overlay\",\"size\":10,\"solidity\":0.2}},\"type\":\"histogram\"}],\"scattergl\":[{\"type\":\"scattergl\",\"marker\":{\"colorbar\":{\"outlinewidth\":0,\"ticks\":\"\"}}}],\"scatter3d\":[{\"type\":\"scatter3d\",\"line\":{\"colorbar\":{\"outlinewidth\":0,\"ticks\":\"\"}},\"marker\":{\"colorbar\":{\"outlinewidth\":0,\"ticks\":\"\"}}}],\"scattermapbox\":[{\"type\":\"scattermapbox\",\"marker\":{\"colorbar\":{\"outlinewidth\":0,\"ticks\":\"\"}}}],\"scatterternary\":[{\"type\":\"scatterternary\",\"marker\":{\"colorbar\":{\"outlinewidth\":0,\"ticks\":\"\"}}}],\"scattercarpet\":[{\"type\":\"scattercarpet\",\"marker\":{\"colorbar\":{\"outlinewidth\":0,\"ticks\":\"\"}}}],\"carpet\":[{\"aaxis\":{\"endlinecolor\":\"#2a3f5f\",\"gridcolor\":\"white\",\"linecolor\":\"white\",\"minorgridcolor\":\"white\",\"startlinecolor\":\"#2a3f5f\"},\"baxis\":{\"endlinecolor\":\"#2a3f5f\",\"gridcolor\":\"white\",\"linecolor\":\"white\",\"minorgridcolor\":\"white\",\"startlinecolor\":\"#2a3f5f\"},\"type\":\"carpet\"}],\"table\":[{\"cells\":{\"fill\":{\"color\":\"#EBF0F8\"},\"line\":{\"color\":\"white\"}},\"header\":{\"fill\":{\"color\":\"#C8D4E3\"},\"line\":{\"color\":\"white\"}},\"type\":\"table\"}],\"barpolar\":[{\"marker\":{\"line\":{\"color\":\"#E5ECF6\",\"width\":0.5},\"pattern\":{\"fillmode\":\"overlay\",\"size\":10,\"solidity\":0.2}},\"type\":\"barpolar\"}],\"pie\":[{\"automargin\":true,\"type\":\"pie\"}]},\"layout\":{\"autotypenumbers\":\"strict\",\"colorway\":[\"#636efa\",\"#EF553B\",\"#00cc96\",\"#ab63fa\",\"#FFA15A\",\"#19d3f3\",\"#FF6692\",\"#B6E880\",\"#FF97FF\",\"#FECB52\"],\"font\":{\"color\":\"#2a3f5f\"},\"hovermode\":\"closest\",\"hoverlabel\":{\"align\":\"left\"},\"paper_bgcolor\":\"white\",\"plot_bgcolor\":\"#E5ECF6\",\"polar\":{\"bgcolor\":\"#E5ECF6\",\"angularaxis\":{\"gridcolor\":\"white\",\"linecolor\":\"white\",\"ticks\":\"\"},\"radialaxis\":{\"gridcolor\":\"white\",\"linecolor\":\"white\",\"ticks\":\"\"}},\"ternary\":{\"bgcolor\":\"#E5ECF6\",\"aaxis\":{\"gridcolor\":\"white\",\"linecolor\":\"white\",\"ticks\":\"\"},\"baxis\":{\"gridcolor\":\"white\",\"linecolor\":\"white\",\"ticks\":\"\"},\"caxis\":{\"gridcolor\":\"white\",\"linecolor\":\"white\",\"ticks\":\"\"}},\"coloraxis\":{\"colorbar\":{\"outlinewidth\":0,\"ticks\":\"\"}},\"colorscale\":{\"sequential\":[[0.0,\"#0d0887\"],[0.1111111111111111,\"#46039f\"],[0.2222222222222222,\"#7201a8\"],[0.3333333333333333,\"#9c179e\"],[0.4444444444444444,\"#bd3786\"],[0.5555555555555556,\"#d8576b\"],[0.6666666666666666,\"#ed7953\"],[0.7777777777777778,\"#fb9f3a\"],[0.8888888888888888,\"#fdca26\"],[1.0,\"#f0f921\"]],\"sequentialminus\":[[0.0,\"#0d0887\"],[0.1111111111111111,\"#46039f\"],[0.2222222222222222,\"#7201a8\"],[0.3333333333333333,\"#9c179e\"],[0.4444444444444444,\"#bd3786\"],[0.5555555555555556,\"#d8576b\"],[0.6666666666666666,\"#ed7953\"],[0.7777777777777778,\"#fb9f3a\"],[0.8888888888888888,\"#fdca26\"],[1.0,\"#f0f921\"]],\"diverging\":[[0,\"#8e0152\"],[0.1,\"#c51b7d\"],[0.2,\"#de77ae\"],[0.3,\"#f1b6da\"],[0.4,\"#fde0ef\"],[0.5,\"#f7f7f7\"],[0.6,\"#e6f5d0\"],[0.7,\"#b8e186\"],[0.8,\"#7fbc41\"],[0.9,\"#4d9221\"],[1,\"#276419\"]]},\"xaxis\":{\"gridcolor\":\"white\",\"linecolor\":\"white\",\"ticks\":\"\",\"title\":{\"standoff\":15},\"zerolinecolor\":\"white\",\"automargin\":true,\"zerolinewidth\":2},\"yaxis\":{\"gridcolor\":\"white\",\"linecolor\":\"white\",\"ticks\":\"\",\"title\":{\"standoff\":15},\"zerolinecolor\":\"white\",\"automargin\":true,\"zerolinewidth\":2},\"scene\":{\"xaxis\":{\"backgroundcolor\":\"#E5ECF6\",\"gridcolor\":\"white\",\"linecolor\":\"white\",\"showbackground\":true,\"ticks\":\"\",\"zerolinecolor\":\"white\",\"gridwidth\":2},\"yaxis\":{\"backgroundcolor\":\"#E5ECF6\",\"gridcolor\":\"white\",\"linecolor\":\"white\",\"showbackground\":true,\"ticks\":\"\",\"zerolinecolor\":\"white\",\"gridwidth\":2},\"zaxis\":{\"backgroundcolor\":\"#E5ECF6\",\"gridcolor\":\"white\",\"linecolor\":\"white\",\"showbackground\":true,\"ticks\":\"\",\"zerolinecolor\":\"white\",\"gridwidth\":2}},\"shapedefaults\":{\"line\":{\"color\":\"#2a3f5f\"}},\"annotationdefaults\":{\"arrowcolor\":\"#2a3f5f\",\"arrowhead\":0,\"arrowwidth\":1},\"geo\":{\"bgcolor\":\"white\",\"landcolor\":\"#E5ECF6\",\"subunitcolor\":\"white\",\"showland\":true,\"showlakes\":true,\"lakecolor\":\"white\"},\"title\":{\"x\":0.05},\"mapbox\":{\"style\":\"light\"}}},\"xaxis\":{\"anchor\":\"y\",\"domain\":[0.0,1.0],\"title\":{\"text\":\"x\"}},\"yaxis\":{\"anchor\":\"x\",\"domain\":[0.0,1.0],\"title\":{\"text\":\"y\"}},\"legend\":{\"tracegroupgap\":0},\"margin\":{\"t\":60}},                        {\"responsive\": true}                    ).then(function(){\n",
       "                            \n",
       "var gd = document.getElementById('9e1d5d04-f471-4a61-835e-94ffea8112f2');\n",
       "var x = new MutationObserver(function (mutations, observer) {{\n",
       "        var display = window.getComputedStyle(gd).display;\n",
       "        if (!display || display === 'none') {{\n",
       "            console.log([gd, 'removed!']);\n",
       "            Plotly.purge(gd);\n",
       "            observer.disconnect();\n",
       "        }}\n",
       "}});\n",
       "\n",
       "// Listen for the removal of the full notebook cells\n",
       "var notebookContainer = gd.closest('#notebook-container');\n",
       "if (notebookContainer) {{\n",
       "    x.observe(notebookContainer, {childList: true});\n",
       "}}\n",
       "\n",
       "// Listen for the clearing of the current output cell\n",
       "var outputEl = gd.closest('.output');\n",
       "if (outputEl) {{\n",
       "    x.observe(outputEl, {childList: true});\n",
       "}}\n",
       "\n",
       "                        })                };                });            </script>        </div>"
      ]
     },
     "metadata": {},
     "output_type": "display_data"
    }
   ],
   "source": [
    "fig = px.line(x=xs, y=ys)\n",
    "fig"
   ]
  },
  {
   "cell_type": "code",
   "execution_count": null,
   "metadata": {},
   "outputs": [],
   "source": [
    "# # print(current_pose_named[0]['t'], camera.extrinsics.named_params()[0]['t'])\n",
    "# import cv2\n",
    "# from IPython.display import Video\n",
    "\n",
    "# out = cv2.VideoWriter('output_video.avi',cv2.VideoWriter_fourcc(*'DIVX'), 10, (200,200))\n",
    "# imgs = []\n",
    "\n",
    "# # for ep in range(extra_args['epochs']):\n",
    "# for ep in range(200):\n",
    "#     optimizer.zero_grad()\n",
    "#     rays = gen_rays_only(camera)\n",
    "#     rays = rays.reshape((rays.shape[0]**2, -1))\n",
    "    \n",
    "#     # all_rgbs = torch.zeros((len(pipelines), W*H, 3), dtype=float)\n",
    "#     all_rgbs = torch.zeros((len(pipelines), W*H, 3), dtype=float)\n",
    "\n",
    "\n",
    "#     for i, pipeline in enumerate(pipelines):\n",
    "#         # rb = render_pipeline(pipeline, rays, None)\n",
    "#         rb = pipeline(rays)\n",
    "#         # print(rb.rgb.shape)\n",
    "#         all_rgbs[i,:,:] = rb.rgb\n",
    "#     # print(all_rgbs)\n",
    "\n",
    "\n",
    "#     # var = torch.var(all_rgbs, axis = 0)\n",
    "#     # std = torch.sqrt(torch.mean(var, axis = -1))\n",
    "#     # std = torch.mean(var, axis = -1)\n",
    "#     # std.retain_grad()\n",
    "#     # std.register_hook(lambda x : print('std', x.mean()))\n",
    "#     # unc_loss = math.sqrt(3)-torch.mean(torch.sqrt(torch.sum(torch.var(all_rgbs, axis = 0), axis = -1)))\n",
    "\n",
    "#     # dist_loss = torch.mean((current_pose - camera.extrinsics.parameters())**2)\n",
    "#     # flip_loss = \n",
    "\n",
    "\n",
    "#     unc_loss = 1-torch.mean(torch.var(all_rgbs, axis = 0))\n",
    "#     dist_loss = torch.mean((current_pose_named[0]['t'] - camera.extrinsics.t)**2)\n",
    "\n",
    "#     loss = unc_loss \n",
    "#     # print(unc_loss, dist_loss, loss)\n",
    "\n",
    "#     loss.backward()\n",
    "#     optimizer.step()\n",
    "#     # del(all_rgbs)\n",
    "#     del(unc_loss)\n",
    "#     del(dist_loss)\n",
    "\n",
    "#     print(ep, loss.item())\n",
    "#     # print(current_pose, camera.extrinsics.parameters())\n",
    "#     # print(current_pose_named[0]['t'], camera.extrinsics.named_params()[0]['t'])\n",
    "#     # print(camera.intrinsics.named_params())\n",
    "#     img = get_image(camera, pipeline=pipelines[0])[0]\n",
    "#     imgs.append(img)\n",
    "#     # plt.imshow(img)\n",
    "#     # img = (img * 255).astype(np.uint8)\n",
    "#     # img = cv2.cvtColor(img, cv2.COLOR_RGB2BGR)\n",
    "#     # out.write(img)\n",
    "#     # plt.show()\n",
    "\n"
   ]
  },
  {
   "cell_type": "code",
   "execution_count": 25,
   "metadata": {},
   "outputs": [
    {
     "ename": "",
     "evalue": "",
     "output_type": "error",
     "traceback": [
      "\u001b[1;31mThe Kernel crashed while executing code in the the current cell or a previous cell. Please review the code in the cell(s) to identify a possible cause of the failure. Click <a href='https://aka.ms/vscodeJupyterKernelCrash'>here</a> for more info. View Jupyter <a href='command:jupyter.viewOutput'>log</a> for further details."
     ]
    }
   ],
   "source": [
    "out = cv2.VideoWriter('output_video7.avi',cv2.VideoWriter_fourcc(*'DIVX'), 10, (800,800))\n",
    "for i in range(len(imgs)):\n",
    "    img = imgs[i]\n",
    "    img = (img * 255).astype(np.uint8)\n",
    "    img = cv2.cvtColor(img, cv2.COLOR_RGB2BGR)\n",
    "    out.write(img)"
   ]
  },
  {
   "cell_type": "code",
   "execution_count": null,
   "metadata": {},
   "outputs": [
    {
     "data": {
      "text/plain": [
       "True"
      ]
     },
     "execution_count": 21,
     "metadata": {},
     "output_type": "execute_result"
    }
   ],
   "source": [
    "cv2.imwrite('temp.png', img)"
   ]
  },
  {
   "cell_type": "code",
   "execution_count": null,
   "metadata": {},
   "outputs": [
    {
     "data": {
      "text/plain": [
       "array([[[1., 1., 1.],\n",
       "        [1., 1., 1.],\n",
       "        [1., 1., 1.],\n",
       "        ...,\n",
       "        [1., 1., 1.],\n",
       "        [1., 1., 1.],\n",
       "        [1., 1., 1.]],\n",
       "\n",
       "       [[1., 1., 1.],\n",
       "        [1., 1., 1.],\n",
       "        [1., 1., 1.],\n",
       "        ...,\n",
       "        [1., 1., 1.],\n",
       "        [1., 1., 1.],\n",
       "        [1., 1., 1.]],\n",
       "\n",
       "       [[1., 1., 1.],\n",
       "        [1., 1., 1.],\n",
       "        [1., 1., 1.],\n",
       "        ...,\n",
       "        [1., 1., 1.],\n",
       "        [1., 1., 1.],\n",
       "        [1., 1., 1.]],\n",
       "\n",
       "       ...,\n",
       "\n",
       "       [[1., 1., 1.],\n",
       "        [1., 1., 1.],\n",
       "        [1., 1., 1.],\n",
       "        ...,\n",
       "        [1., 1., 1.],\n",
       "        [1., 1., 1.],\n",
       "        [1., 1., 1.]],\n",
       "\n",
       "       [[1., 1., 1.],\n",
       "        [1., 1., 1.],\n",
       "        [1., 1., 1.],\n",
       "        ...,\n",
       "        [1., 1., 1.],\n",
       "        [1., 1., 1.],\n",
       "        [1., 1., 1.]],\n",
       "\n",
       "       [[1., 1., 1.],\n",
       "        [1., 1., 1.],\n",
       "        [1., 1., 1.],\n",
       "        ...,\n",
       "        [1., 1., 1.],\n",
       "        [1., 1., 1.],\n",
       "        [1., 1., 1.]]], dtype=float32)"
      ]
     },
     "execution_count": 24,
     "metadata": {},
     "output_type": "execute_result"
    }
   ],
   "source": [
    "imgs[0]"
   ]
  },
  {
   "cell_type": "code",
   "execution_count": null,
   "metadata": {},
   "outputs": [
    {
     "ename": "NameError",
     "evalue": "name 'var' is not defined",
     "output_type": "error",
     "traceback": [
      "\u001b[0;31m---------------------------------------------------------------------------\u001b[0m",
      "\u001b[0;31mNameError\u001b[0m                                 Traceback (most recent call last)",
      "Cell \u001b[0;32mIn[23], line 1\u001b[0m\n\u001b[0;32m----> 1\u001b[0m torch\u001b[39m.\u001b[39misnan(var[:,\u001b[39m2\u001b[39m])\n",
      "\u001b[0;31mNameError\u001b[0m: name 'var' is not defined"
     ]
    }
   ],
   "source": [
    "torch.isnan(var[:,2])"
   ]
  },
  {
   "cell_type": "code",
   "execution_count": null,
   "metadata": {},
   "outputs": [
    {
     "data": {
      "text/plain": [
       "tensor(nan, device='cuda:0', grad_fn=<MeanBackward0>)"
      ]
     },
     "execution_count": 20,
     "metadata": {},
     "output_type": "execute_result"
    }
   ],
   "source": [
    "torch.mean((current_pose - camera.extrinsics.parameters())**2)"
   ]
  },
  {
   "cell_type": "code",
   "execution_count": null,
   "metadata": {},
   "outputs": [
    {
     "data": {
      "text/plain": [
       "{'R': tensor([nan, nan, nan, nan, nan, nan], device='cuda:0',\n",
       "        grad_fn=<IndexBackward0>),\n",
       " 't': tensor([nan, nan, nan], device='cuda:0', grad_fn=<IndexBackward0>)}"
      ]
     },
     "execution_count": 21,
     "metadata": {},
     "output_type": "execute_result"
    }
   ],
   "source": [
    "camera.extrinsics.named_params()[0]"
   ]
  },
  {
   "cell_type": "code",
   "execution_count": null,
   "metadata": {},
   "outputs": [
    {
     "data": {
      "text/plain": [
       "[{'x0': 0.0,\n",
       "  'y0': 0.0,\n",
       "  'focal_x': 128.66665649414062,\n",
       "  'focal_y': 128.66665649414062}]"
      ]
     },
     "execution_count": 22,
     "metadata": {},
     "output_type": "execute_result"
    }
   ],
   "source": [
    "camera.intrinsics.named_params()"
   ]
  },
  {
   "cell_type": "code",
   "execution_count": null,
   "metadata": {},
   "outputs": [
    {
     "data": {
      "text/plain": [
       "<matplotlib.image.AxesImage at 0x7fee2d14c970>"
      ]
     },
     "execution_count": 23,
     "metadata": {},
     "output_type": "execute_result"
    },
    {
     "data": {
      "image/png": "[encoded data removed]",
      "text/plain": [
       "<Figure size 640x480 with 1 Axes>"
      ]
     },
     "metadata": {},
     "output_type": "display_data"
    }
   ],
   "source": [
    "plt.imshow(get_image(camera, pipeline=pipelines[0])[0])\n"
   ]
  },
  {
   "cell_type": "code",
   "execution_count": null,
   "metadata": {},
   "outputs": [
    {
     "data": {
      "text/plain": [
       "tensor([[-1.0000e+00, -2.8239e-17,  5.3403e-16,  2.4464e-17],\n",
       "        [ 3.5458e-16, -4.8960e-02,  9.9880e-01,  3.9952e-01],\n",
       "        [-1.0892e-17,  9.9880e-01,  4.8960e-02, -8.5906e-02],\n",
       "        [ 0.0000e+00,  0.0000e+00,  0.0000e+00,  1.0000e+00]])"
      ]
     },
     "execution_count": 24,
     "metadata": {},
     "output_type": "execute_result"
    }
   ],
   "source": [
    "torch.tensor([[-1.0, -2.823936947407328e-17, 5.340285413173258e-16, 2.4463562574074363e-17], [3.5457582038357597e-16, -0.04896000828076464, 0.9988007396819185, 0.3995202958290813], [-1.089239719165523e-17, 0.9988007396819186, 0.04896000828076479, -0.08590599579648245], [0.0, 0.0, 0.0, 1.0]])"
   ]
  },
  {
   "cell_type": "code",
   "execution_count": null,
   "metadata": {},
   "outputs": [
    {
     "data": {
      "text/plain": [
       "Rays(origins=tensor([[[nan, nan, nan],\n",
       "         [nan, nan, nan],\n",
       "         [nan, nan, nan],\n",
       "         ...,\n",
       "         [nan, nan, nan],\n",
       "         [nan, nan, nan],\n",
       "         [nan, nan, nan]],\n",
       "\n",
       "        [[nan, nan, nan],\n",
       "         [nan, nan, nan],\n",
       "         [nan, nan, nan],\n",
       "         ...,\n",
       "         [nan, nan, nan],\n",
       "         [nan, nan, nan],\n",
       "         [nan, nan, nan]],\n",
       "\n",
       "        [[nan, nan, nan],\n",
       "         [nan, nan, nan],\n",
       "         [nan, nan, nan],\n",
       "         ...,\n",
       "         [nan, nan, nan],\n",
       "         [nan, nan, nan],\n",
       "         [nan, nan, nan]],\n",
       "\n",
       "        ...,\n",
       "\n",
       "        [[nan, nan, nan],\n",
       "         [nan, nan, nan],\n",
       "         [nan, nan, nan],\n",
       "         ...,\n",
       "         [nan, nan, nan],\n",
       "         [nan, nan, nan],\n",
       "         [nan, nan, nan]],\n",
       "\n",
       "        [[nan, nan, nan],\n",
       "         [nan, nan, nan],\n",
       "         [nan, nan, nan],\n",
       "         ...,\n",
       "         [nan, nan, nan],\n",
       "         [nan, nan, nan],\n",
       "         [nan, nan, nan]],\n",
       "\n",
       "        [[nan, nan, nan],\n",
       "         [nan, nan, nan],\n",
       "         [nan, nan, nan],\n",
       "         ...,\n",
       "         [nan, nan, nan],\n",
       "         [nan, nan, nan],\n",
       "         [nan, nan, nan]]], device='cuda:0', grad_fn=<StackBackward0>), dirs=tensor([[[nan, nan, nan],\n",
       "         [nan, nan, nan],\n",
       "         [nan, nan, nan],\n",
       "         ...,\n",
       "         [nan, nan, nan],\n",
       "         [nan, nan, nan],\n",
       "         [nan, nan, nan]],\n",
       "\n",
       "        [[nan, nan, nan],\n",
       "         [nan, nan, nan],\n",
       "         [nan, nan, nan],\n",
       "         ...,\n",
       "         [nan, nan, nan],\n",
       "         [nan, nan, nan],\n",
       "         [nan, nan, nan]],\n",
       "\n",
       "        [[nan, nan, nan],\n",
       "         [nan, nan, nan],\n",
       "         [nan, nan, nan],\n",
       "         ...,\n",
       "         [nan, nan, nan],\n",
       "         [nan, nan, nan],\n",
       "         [nan, nan, nan]],\n",
       "\n",
       "        ...,\n",
       "\n",
       "        [[nan, nan, nan],\n",
       "         [nan, nan, nan],\n",
       "         [nan, nan, nan],\n",
       "         ...,\n",
       "         [nan, nan, nan],\n",
       "         [nan, nan, nan],\n",
       "         [nan, nan, nan]],\n",
       "\n",
       "        [[nan, nan, nan],\n",
       "         [nan, nan, nan],\n",
       "         [nan, nan, nan],\n",
       "         ...,\n",
       "         [nan, nan, nan],\n",
       "         [nan, nan, nan],\n",
       "         [nan, nan, nan]],\n",
       "\n",
       "        [[nan, nan, nan],\n",
       "         [nan, nan, nan],\n",
       "         [nan, nan, nan],\n",
       "         ...,\n",
       "         [nan, nan, nan],\n",
       "         [nan, nan, nan],\n",
       "         [nan, nan, nan]]], device='cuda:0', grad_fn=<StackBackward0>), dist_min=0.0, dist_max=10.0)"
      ]
     },
     "execution_count": 25,
     "metadata": {},
     "output_type": "execute_result"
    }
   ],
   "source": [
    "gen_rays_only(camera)"
   ]
  },
  {
   "cell_type": "code",
   "execution_count": null,
   "metadata": {},
   "outputs": [
    {
     "data": {
      "text/plain": [
       "tensor([[[nan, nan, nan, nan],\n",
       "         [nan, nan, nan, nan],\n",
       "         [nan, nan, nan, nan],\n",
       "         [nan, nan, nan, nan]]], device='cuda:0', grad_fn=<BmmBackward0>)"
      ]
     },
     "execution_count": 26,
     "metadata": {},
     "output_type": "execute_result"
    }
   ],
   "source": [
    "camera.view_projection_matrix()"
   ]
  },
  {
   "cell_type": "code",
   "execution_count": null,
   "metadata": {},
   "outputs": [
    {
     "data": {
      "text/plain": [
       "[{'R': tensor([nan, nan, nan, nan, nan, nan], device='cuda:0',\n",
       "         grad_fn=<IndexBackward0>),\n",
       "  't': tensor([nan, nan, nan], device='cuda:0', grad_fn=<IndexBackward0>),\n",
       "  'x0': 0.0,\n",
       "  'y0': 0.0,\n",
       "  'focal_x': 128.66665649414062,\n",
       "  'focal_y': 128.66665649414062}]"
      ]
     },
     "execution_count": 27,
     "metadata": {},
     "output_type": "execute_result"
    }
   ],
   "source": [
    "camera.named_params()"
   ]
  },
  {
   "cell_type": "code",
   "execution_count": null,
   "metadata": {},
   "outputs": [
    {
     "data": {
      "text/plain": [
       "tensor([[-1.0000e+00, -4.6265e-16,  4.7207e-16,  1.4103e-16],\n",
       "        [ 5.3111e-16, -6.9423e-01,  7.1976e-01,  2.3032e+00],\n",
       "        [-1.3052e-16,  7.1976e-01,  6.9423e-01,  1.3776e+00],\n",
       "        [ 0.0000e+00,  0.0000e+00,  0.0000e+00,  1.0000e+00]])"
      ]
     },
     "execution_count": 28,
     "metadata": {},
     "output_type": "execute_result"
    }
   ],
   "source": [
    "initial_pose"
   ]
  },
  {
   "cell_type": "code",
   "execution_count": null,
   "metadata": {},
   "outputs": [
    {
     "ename": "RuntimeError",
     "evalue": "shape '[4, 4]' is invalid for input of size 9",
     "output_type": "error",
     "traceback": [
      "\u001b[0;31m---------------------------------------------------------------------------\u001b[0m",
      "\u001b[0;31mRuntimeError\u001b[0m                              Traceback (most recent call last)",
      "Cell \u001b[0;32mIn[29], line 1\u001b[0m\n\u001b[0;32m----> 1\u001b[0m torch\u001b[39m.\u001b[39minverse(camera\u001b[39m.\u001b[39;49mextrinsics\u001b[39m.\u001b[39;49mparameters()\u001b[39m.\u001b[39;49mreshape((\u001b[39m4\u001b[39;49m,\u001b[39m4\u001b[39;49m)))\n",
      "\u001b[0;31mRuntimeError\u001b[0m: shape '[4, 4]' is invalid for input of size 9"
     ]
    }
   ],
   "source": [
    "torch.inverse(camera.extrinsics.parameters().reshape((4,4)))"
   ]
  },
  {
   "cell_type": "code",
   "execution_count": null,
   "metadata": {},
   "outputs": [],
   "source": [
    "camera.extrinsics.named_params()"
   ]
  },
  {
   "cell_type": "code",
   "execution_count": null,
   "metadata": {},
   "outputs": [],
   "source": [
    "z_near, z_far = extra_args['z_near'], extra_args['z_far']\n",
    "camera = gen_camera(torch.clone(initial_pose).detach(), extra_args['focal'], W, H, z_far, extra_args)\n"
   ]
  },
  {
   "cell_type": "code",
   "execution_count": null,
   "metadata": {},
   "outputs": [
    {
     "data": {
      "text/plain": [
       "tensor([[[-1.1280e-15],\n",
       "         [ 7.5927e-01],\n",
       "         [-3.2677e+00]]], device='cuda:0', grad_fn=<SliceBackward0>)"
      ]
     },
     "execution_count": 22,
     "metadata": {},
     "output_type": "execute_result"
    }
   ],
   "source": [
    "camera.extrinsics.t"
   ]
  },
  {
   "cell_type": "code",
   "execution_count": null,
   "metadata": {},
   "outputs": [],
   "source": []
  },
  {
   "cell_type": "code",
   "execution_count": null,
   "metadata": {},
   "outputs": [],
   "source": []
  }
 ],
 "metadata": {
  "kernelspec": {
   "display_name": "wisp",
   "language": "python",
   "name": "python3"
  },
  "language_info": {
   "codemirror_mode": {
    "name": "ipython",
    "version": 3
   },
   "file_extension": ".py",
   "mimetype": "text/x-python",
   "name": "python",
   "nbconvert_exporter": "python",
   "pygments_lexer": "ipython3",
   "version": "3.9.17"
  },
  "orig_nbformat": 4,
  "vscode": {
   "interpreter": {
    "hash": "29dcd15ca7685a598b2bf589d338f8c00bfe793b3abbc5f992c8ad4ef5d8fa76"
   }
  }
 },
 "nbformat": 4,
 "nbformat_minor": 2
}
