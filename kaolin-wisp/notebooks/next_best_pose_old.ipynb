{
 "cells": [
  {
   "cell_type": "code",
   "execution_count": 1,
   "metadata": {},
   "outputs": [],
   "source": [
    "import sys\n",
    "import os\n",
    "import copy\n",
    "\n",
    "ROOT_DIR = os.getcwd()\n",
    "sys.path.insert(0, os.path.join(ROOT_DIR, \"..\"))\n",
    "sys.path.insert(0, os.path.join(ROOT_DIR, \"src\"))\n",
    "sys.path.insert(0, os.path.join(ROOT_DIR, \"inerf_utils\"))\n",
    "\n",
    "import json\n",
    "import torch\n",
    "import numpy as np\n",
    "import torchvision.transforms as T\n",
    "import tqdm\n",
    "import imageio\n",
    "import cv2\n",
    "import matplotlib.pyplot as plt\n",
    "import wisp\n",
    "from wisp.core import RenderBuffer, Rays\n"
   ]
  },
  {
   "cell_type": "code",
   "execution_count": 2,
   "metadata": {},
   "outputs": [],
   "source": [
    "from wisp.framework import WispState\n",
    "from inerf_utils import *\n",
    "from kaolin.render.camera import Camera, blender_coords\n",
    "from wisp.ops.raygen import generate_pinhole_rays, generate_centered_pixel_coords\n",
    "from wisp.datasets import SampleRays\n",
    "from wisp.trainers import MultiviewTrainer\n",
    "from wisp.models.pipeline import Pipeline\n",
    "\n",
    "def make_model(args, args_dict, extra_args, train_dataset, validation_dataset):\n",
    "    pipeline = torch.load(args.pretrained)\n",
    "    pipeline.to(extra_args['device'])\n",
    "    scene_state = WispState()\n",
    "    return pipeline\n",
    "    # return pipeline\n",
    "\n",
    "def gen_camera(pose, focal, w, h, far, extra_args):\n",
    "    view_matrix = torch.zeros_like(pose)\n",
    "    view_matrix[:3, :3] = pose[:3, :3].T\n",
    "    view_matrix[:3, -1] = torch.matmul(-view_matrix[:3, :3], pose[:3, -1])\n",
    "    view_matrix[3, 3] = 1.0\n",
    "\n",
    "    x0 = 0.0\n",
    "    y0 = 0.0\n",
    "\n",
    "    camera = Camera.from_args(\n",
    "        view_matrix=view_matrix,\n",
    "        focal_x=focal,\n",
    "        focal_y=focal,\n",
    "        width=w,\n",
    "        height=h,\n",
    "        far=far,\n",
    "        near=0.0,\n",
    "        x0=x0,\n",
    "        y0=y0,\n",
    "        dtype=torch.float32,\n",
    "        device=extra_args['device']\n",
    "    )\n",
    "    camera.change_coordinate_system(blender_coords())\n",
    "\n",
    "    # mask = camera.extrinsics.gradient_mask('t')\n",
    "    # camera.extrinsics.parameters.register_hook(lambda grad: grad * mask.float())\n",
    "    \n",
    "    return camera\n",
    "\n",
    "def gen_rays_only(camera):\n",
    "    ray_grid = generate_centered_pixel_coords(camera.width, camera.height, camera.width, camera.height, device=extra_args['device'])\n",
    "    rays = generate_pinhole_rays(camera, ray_grid).reshape(camera.height, camera.width, 3)\n",
    "    rays = Rays.stack(rays)\n",
    "    return rays\n",
    "\n",
    "# def gen_rays(pose, focal, w, h, far):\n",
    "#     ray_grid = generate_centered_pixel_coords(camera.width, camera.height, camera.width, camera.height, device=extra_args['device'])\n",
    "#     rays = generate_pinhole_rays(camera, ray_grid).reshape(camera.height, camera.width, 3)\n",
    "#     # rays = Rays.stack(rays).to(dtype=torch.float)\n",
    "    \n",
    "#     return camera, rays"
   ]
  },
  {
   "cell_type": "code",
   "execution_count": 3,
   "metadata": {},
   "outputs": [
    {
     "ename": "NameError",
     "evalue": "name 'px' is not defined",
     "output_type": "error",
     "traceback": [
      "\u001b[0;31m---------------------------------------------------------------------------\u001b[0m",
      "\u001b[0;31mNameError\u001b[0m                                 Traceback (most recent call last)",
      "Cell \u001b[0;32mIn[3], line 1\u001b[0m\n\u001b[0;32m----> 1\u001b[0m fig \u001b[39m=\u001b[39m px\u001b[39m.\u001b[39mline(x\u001b[39m=\u001b[39mxs, y\u001b[39m=\u001b[39mys)\n\u001b[1;32m      2\u001b[0m fig\n",
      "\u001b[0;31mNameError\u001b[0m: name 'px' is not defined"
     ]
    }
   ],
   "source": [
    "fig = px.line(x=xs, y=ys)\n",
    "fig"
   ]
  },
  {
   "cell_type": "code",
   "execution_count": null,
   "metadata": {},
   "outputs": [],
   "source": [
    "render_batch =  4000\n",
    "def render_pipeline(pipeline, rays, lod_idx):\n",
    "    rb = RenderBuffer(xyz=None, hit=None, normal=None, shadow=None, ao=None, dirs=None)\n",
    "    for ray_pack in rays.split(render_batch):\n",
    "        # print(\"haha\")\n",
    "        rb  += pipeline.tracer(pipeline.nef, rays=ray_pack, lod_idx=lod_idx)\n",
    "    return rb"
   ]
  },
  {
   "cell_type": "code",
   "execution_count": 20,
   "metadata": {},
   "outputs": [],
   "source": [
    "W, H = 200, 200\n",
    "fx = (0.5 * H) / np.tan(0.5 * float(1.3213687585295282))\n",
    "extra_args = {\n",
    "  'resume' : True,\n",
    "  'output' : './pose_estimation',\n",
    "  'device' : 'cuda',\n",
    "  'z_near' : 0.0,\n",
    "  'z_far' : 10.0,\n",
    "  'focal' : fx,\n",
    "  'lrate' : 3e-2,\n",
    "  'epochs': 20\n",
    "}\n"
   ]
  },
  {
   "cell_type": "code",
   "execution_count": 21,
   "metadata": {},
   "outputs": [],
   "source": [
    "def get_image(cam, pipeline):\n",
    "    cam = copy.deepcopy(cam)\n",
    "\n",
    "    rays = gen_rays_only(cam)\n",
    "    rays = rays.reshape((rays.shape[0]**2, -1))\n",
    "\n",
    "    rb = render_pipeline(pipeline, rays, lod_idx=None)\n",
    "    rgb = rb.rgb.detach().cpu().numpy().reshape((H, W, 3))\n",
    "    alpha = rb.alpha.detach().cpu().numpy().reshape((H, W, 1))\n",
    "    # v = np.concatenate([rgb, alpha], axis=2)\n",
    "\n",
    "    # return v\n",
    "    return rgb, alpha"
   ]
  },
  {
   "cell_type": "code",
   "execution_count": 22,
   "metadata": {},
   "outputs": [],
   "source": [
    "argv_base = [\n",
    "    '--config=../app/nerf/configs/nerf_hash.yaml',\n",
    "    '--pretrained=path_to_model',\n",
    "    '--valid-only'\n",
    "]"
   ]
  },
  {
   "cell_type": "code",
   "execution_count": 23,
   "metadata": {},
   "outputs": [
    {
     "data": {
      "text/plain": [
       "['--config=../app/nerf/configs/nerf_hash.yaml',\n",
       " '--pretrained=path_to_model',\n",
       " '--valid-only']"
      ]
     },
     "execution_count": 23,
     "metadata": {},
     "output_type": "execute_result"
    }
   ],
   "source": [
    "argv_base"
   ]
  },
  {
   "cell_type": "code",
   "execution_count": 24,
   "metadata": {},
   "outputs": [
    {
     "data": {
      "text/plain": [
       "['/home/saptarshi/miniconda3/envs/wisp2/lib/python3.9/site-packages/ipykernel_launcher.py',\n",
       " '--config=../app/nerf/configs/nerf_hash.yaml',\n",
       " '--pretrained=/home/saptarshi/dev/kaolin-wisp/_results_new/cheezit_single_side_env2_nobg_sam_scale10/model_5/20230424-184101/model.pth',\n",
       " '--valid-only']"
      ]
     },
     "execution_count": 24,
     "metadata": {},
     "output_type": "execute_result"
    }
   ],
   "source": [
    "sys.argv"
   ]
  },
  {
   "cell_type": "code",
   "execution_count": 25,
   "metadata": {},
   "outputs": [
    {
     "name": "stdout",
     "output_type": "stream",
     "text": [
      "/home/saptarshi/dev/kaolin-wisp/_results_new/cheezit_single_side_env2_nobg_sam_scale10/model_1/20230424-183512/model.pth\n",
      "--pretrained=/home/saptarshi/dev/kaolin-wisp/_results_new/cheezit_single_side_env2_nobg_sam_scale10/model_1/20230424-183512/model.pth\n",
      "/home/saptarshi/dev/kaolin-wisp/_results_new/cheezit_single_side_env2_nobg_sam_scale10/model_2/20230424-183641/model.pth\n",
      "--pretrained=/home/saptarshi/dev/kaolin-wisp/_results_new/cheezit_single_side_env2_nobg_sam_scale10/model_2/20230424-183641/model.pth\n",
      "/home/saptarshi/dev/kaolin-wisp/_results_new/cheezit_single_side_env2_nobg_sam_scale10/model_3/20230424-183800/model.pth\n",
      "--pretrained=/home/saptarshi/dev/kaolin-wisp/_results_new/cheezit_single_side_env2_nobg_sam_scale10/model_3/20230424-183800/model.pth\n",
      "/home/saptarshi/dev/kaolin-wisp/_results_new/cheezit_single_side_env2_nobg_sam_scale10/model_4/20230424-183933/model.pth\n",
      "--pretrained=/home/saptarshi/dev/kaolin-wisp/_results_new/cheezit_single_side_env2_nobg_sam_scale10/model_4/20230424-183933/model.pth\n",
      "/home/saptarshi/dev/kaolin-wisp/_results_new/cheezit_single_side_env2_nobg_sam_scale10/model_5/20230424-184101/model.pth\n",
      "--pretrained=/home/saptarshi/dev/kaolin-wisp/_results_new/cheezit_single_side_env2_nobg_sam_scale10/model_5/20230424-184101/model.pth\n"
     ]
    }
   ],
   "source": [
    "model_name = \"cheezit_single_side_env2_nobg_sam_scale10\"\n",
    "root_dir = '/home/saptarshi/dev/kaolin-wisp/_results_new/' + model_name + '/'\n",
    "\n",
    "pipelines = []\n",
    "for i in range(1,6):\n",
    "    model_dir = os.path.join(root_dir, f\"model_{i}\")\n",
    "    model_path = os.path.join(model_dir, list(sorted(os.listdir(model_dir)))[0], \"model.pth\")\n",
    "    print(model_path)\n",
    "    sys.argv[1:] = argv_base\n",
    "    sys.argv[2] = sys.argv[2].replace(\"path_to_model\", model_path)\n",
    "    print(sys.argv[2])\n",
    "    args, args_dict = parse_args()\n",
    "    pipeline = make_model(\n",
    "        args, args_dict, extra_args, None, None)\n",
    "    pipelines.append(pipeline)"
   ]
  },
  {
   "cell_type": "code",
   "execution_count": 26,
   "metadata": {},
   "outputs": [],
   "source": [
    "initial_pose = torch.tensor([\n",
    "    [\n",
    "        -1.0, \n",
    "        -4.626498457856961e-16, \n",
    "        4.720679491933968e-16, \n",
    "        1.7628913879643898e-17\n",
    "    ], \n",
    "    [\n",
    "        5.311059178858428e-16,\n",
    "        -0.6942281197690637, \n",
    "        0.7197550400809366, \n",
    "        0.28790201210533295\n",
    "    ], \n",
    "    [\n",
    "        -1.305182704980029e-16, \n",
    "        0.7197550400809366, \n",
    "        0.6942281197690636, \n",
    "        0.17220125197906527\n",
    "    ], \n",
    "    [\n",
    "        0.0, \n",
    "        0.0, \n",
    "        0.0, \n",
    "        1.0\n",
    "    ]\n",
    "])\n",
    "\n",
    "cur_pose = torch.tensor([\n",
    "    [\n",
    "        -1.0, \n",
    "        -2.823936947407328e-17, \n",
    "        5.340285413173258e-16, \n",
    "        2.4463562574074363e-17\n",
    "    ], \n",
    "    [\n",
    "        3.5457582038357597e-16, \n",
    "        -0.04896000828076464, \n",
    "        0.9988007396819185, \n",
    "        0.3995202958290813\n",
    "    ], \n",
    "    [\n",
    "        -1.089239719165523e-17, \n",
    "        0.9988007396819186, \n",
    "        0.04896000828076479, \n",
    "        -0.08590599579648245\n",
    "    ], \n",
    "    [\n",
    "        0.0, \n",
    "        0.0, \n",
    "        0.0, \n",
    "        1.0\n",
    "    ]\n",
    "])\n",
    "\n",
    "initial_pose[..., :3, 3] *= 10/1.25\n",
    "cur_pose[..., :3, 3] *= 10/1.25\n",
    "\n",
    "# initial_pose = cur_pose"
   ]
  },
  {
   "cell_type": "code",
   "execution_count": 37,
   "metadata": {},
   "outputs": [
    {
     "name": "stdout",
     "output_type": "stream",
     "text": [
      "> \u001b[0;32m/home/saptarshi/miniconda3/envs/wisp2/lib/python3.9/site-packages/kaolin/render/camera/camera.py\u001b[0m(387)\u001b[0;36mfrom_args\u001b[0;34m()\u001b[0m\n",
      "\u001b[0;32m    385 \u001b[0;31m            \u001b[0m_intrinsic_args\u001b[0m\u001b[0;34m[\u001b[0m\u001b[0;34m'num_cameras'\u001b[0m\u001b[0;34m]\u001b[0m \u001b[0;34m=\u001b[0m \u001b[0mlen\u001b[0m\u001b[0;34m(\u001b[0m\u001b[0mextrinsics\u001b[0m\u001b[0;34m)\u001b[0m\u001b[0;34m\u001b[0m\u001b[0;34m\u001b[0m\u001b[0m\n",
      "\u001b[0m\u001b[0;32m    386 \u001b[0;31m        \u001b[0;31m# import pdb; pdb.set_trace()\u001b[0m\u001b[0;34m\u001b[0m\u001b[0;34m\u001b[0m\u001b[0m\n",
      "\u001b[0m\u001b[0;32m--> 387 \u001b[0;31m        \u001b[0mintrinsics\u001b[0m \u001b[0;34m=\u001b[0m \u001b[0mintrinsic_ctor\u001b[0m\u001b[0;34m(\u001b[0m\u001b[0;34m**\u001b[0m\u001b[0m_intrinsic_args\u001b[0m\u001b[0;34m)\u001b[0m\u001b[0;34m\u001b[0m\u001b[0;34m\u001b[0m\u001b[0m\n",
      "\u001b[0m\u001b[0;32m    388 \u001b[0;31m        \u001b[0;32mreturn\u001b[0m \u001b[0mCamera\u001b[0m\u001b[0;34m(\u001b[0m\u001b[0mextrinsics\u001b[0m\u001b[0;34m=\u001b[0m\u001b[0mextrinsics\u001b[0m\u001b[0;34m,\u001b[0m \u001b[0mintrinsics\u001b[0m\u001b[0;34m=\u001b[0m\u001b[0mintrinsics\u001b[0m\u001b[0;34m)\u001b[0m\u001b[0;34m\u001b[0m\u001b[0;34m\u001b[0m\u001b[0m\n",
      "\u001b[0m\u001b[0;32m    389 \u001b[0;31m\u001b[0;34m\u001b[0m\u001b[0m\n",
      "\u001b[0m\n",
      "> \u001b[0;32m/home/saptarshi/miniconda3/envs/wisp2/lib/python3.9/site-packages/kaolin/render/camera/camera.py\u001b[0m(387)\u001b[0;36mfrom_args\u001b[0;34m()\u001b[0m\n",
      "\u001b[0;32m    385 \u001b[0;31m            \u001b[0m_intrinsic_args\u001b[0m\u001b[0;34m[\u001b[0m\u001b[0;34m'num_cameras'\u001b[0m\u001b[0;34m]\u001b[0m \u001b[0;34m=\u001b[0m \u001b[0mlen\u001b[0m\u001b[0;34m(\u001b[0m\u001b[0mextrinsics\u001b[0m\u001b[0;34m)\u001b[0m\u001b[0;34m\u001b[0m\u001b[0;34m\u001b[0m\u001b[0m\n",
      "\u001b[0m\u001b[0;32m    386 \u001b[0;31m        \u001b[0;31m# import pdb; pdb.set_trace()\u001b[0m\u001b[0;34m\u001b[0m\u001b[0;34m\u001b[0m\u001b[0m\n",
      "\u001b[0m\u001b[0;32m--> 387 \u001b[0;31m        \u001b[0mintrinsics\u001b[0m \u001b[0;34m=\u001b[0m \u001b[0mintrinsic_ctor\u001b[0m\u001b[0;34m(\u001b[0m\u001b[0;34m**\u001b[0m\u001b[0m_intrinsic_args\u001b[0m\u001b[0;34m)\u001b[0m\u001b[0;34m\u001b[0m\u001b[0;34m\u001b[0m\u001b[0m\n",
      "\u001b[0m\u001b[0;32m    388 \u001b[0;31m        \u001b[0;32mreturn\u001b[0m \u001b[0mCamera\u001b[0m\u001b[0;34m(\u001b[0m\u001b[0mextrinsics\u001b[0m\u001b[0;34m=\u001b[0m\u001b[0mextrinsics\u001b[0m\u001b[0;34m,\u001b[0m \u001b[0mintrinsics\u001b[0m\u001b[0;34m=\u001b[0m\u001b[0mintrinsics\u001b[0m\u001b[0;34m)\u001b[0m\u001b[0;34m\u001b[0m\u001b[0;34m\u001b[0m\u001b[0m\n",
      "\u001b[0m\u001b[0;32m    389 \u001b[0;31m\u001b[0;34m\u001b[0m\u001b[0m\n",
      "\u001b[0m\n"
     ]
    }
   ],
   "source": [
    "z_near, z_far = extra_args['z_near'], extra_args['z_far']\n",
    "camera = gen_camera(torch.clone(initial_pose).detach(), extra_args['focal'], W, H, z_far, extra_args)\n",
    "camera.switch_backend('matrix_6dof_rotation')\n",
    "camera.extrinsics.requires_grad = True\n",
    "\n",
    "cur_cam = gen_camera(torch.clone(cur_pose).detach(), extra_args['focal'], W, H, z_far, extra_args)\n",
    "cur_cam.switch_backend('matrix_6dof_rotation')\n",
    "current_pose = cur_cam.extrinsics.parameters().clone()\n",
    "current_pose_named = cur_cam.extrinsics.named_params()"
   ]
  },
  {
   "cell_type": "code",
   "execution_count": 38,
   "metadata": {},
   "outputs": [],
   "source": [
    "# optimizer = torch.optim.Adam(params=[camera.extrinsics.parameters()], lr=extra_args['lrate'])\n",
    "optimizer = torch.optim.Adam(params=[camera.extrinsics.parameters()], lr=extra_args['lrate'])\n"
   ]
  },
  {
   "cell_type": "code",
   "execution_count": 39,
   "metadata": {},
   "outputs": [
    {
     "data": {
      "text/plain": [
       "tensor([[-1.0000e+00, -1.0892e-17, -3.5458e-16, -2.8239e-17,  9.9880e-01,\n",
       "          4.8960e-02, -9.4506e-16,  8.4291e-01, -3.1587e+00]], device='cuda:0')"
      ]
     },
     "execution_count": 39,
     "metadata": {},
     "output_type": "execute_result"
    }
   ],
   "source": [
    "current_pose"
   ]
  },
  {
   "cell_type": "code",
   "execution_count": 40,
   "metadata": {},
   "outputs": [
    {
     "data": {
      "text/plain": [
       "tensor([[-1.0000e+00, -4.6265e-16,  4.7207e-16,  1.4103e-16],\n",
       "        [ 5.3111e-16, -6.9423e-01,  7.1976e-01,  2.3032e+00],\n",
       "        [-1.3052e-16,  7.1976e-01,  6.9423e-01,  1.3776e+00],\n",
       "        [ 0.0000e+00,  0.0000e+00,  0.0000e+00,  1.0000e+00]])"
      ]
     },
     "execution_count": 40,
     "metadata": {},
     "output_type": "execute_result"
    }
   ],
   "source": [
    "\n",
    "initial_pose"
   ]
  },
  {
   "cell_type": "code",
   "execution_count": 41,
   "metadata": {},
   "outputs": [
    {
     "name": "stdout",
     "output_type": "stream",
     "text": [
      "tensor([-9.4506e-16,  8.4291e-01, -3.1587e+00], device='cuda:0') tensor([-9.0242e-16,  6.0742e-01, -2.6141e+00], device='cuda:0',\n",
      "       grad_fn=<IndexBackward0>)\n",
      "0\n",
      "torch.Size([40000, 3])\n",
      "torch.Size([40000, 3])\n",
      "1\n",
      "torch.Size([40000, 3])\n",
      "torch.Size([40000, 3])\n",
      "2\n",
      "torch.Size([40000, 3])\n",
      "torch.Size([40000, 3])\n",
      "3\n",
      "torch.Size([40000, 3])\n",
      "torch.Size([40000, 3])\n",
      "4\n",
      "torch.Size([40000, 3])\n",
      "torch.Size([40000, 3])\n",
      "torch.Size([40000])\n",
      "tensor(1.6559, dtype=torch.float64, grad_fn=<RsubBackward1>) tensor(4.9308, device='cuda:0', grad_fn=<MeanBackward0>) tensor(1.6559, dtype=torch.float64, grad_fn=<RsubBackward1>)\n",
      "ak\n",
      "tensor(0, device='cuda:0')\n",
      "ak\n",
      "tensor(0, device='cuda:0')\n",
      "ak\n",
      "tensor(0, device='cuda:0')\n",
      "ak\n",
      "tensor(42, device='cuda:0')\n",
      "ak\n",
      "tensor(399, device='cuda:0')\n",
      "ak\n",
      "tensor(165, device='cuda:0')\n",
      "ak\n",
      "tensor(204, device='cuda:0')\n",
      "ak\n",
      "tensor(234, device='cuda:0')\n",
      "ak\n",
      "tensor(312, device='cuda:0')\n",
      "ak\n",
      "tensor(186, device='cuda:0')\n",
      "ak\n",
      "tensor(0, device='cuda:0')\n",
      "ak\n",
      "tensor(0, device='cuda:0')\n",
      "ak\n",
      "tensor(0, device='cuda:0')\n",
      "ak\n",
      "tensor(99, device='cuda:0')\n",
      "ak\n",
      "tensor(222, device='cuda:0')\n",
      "ak\n",
      "tensor(153, device='cuda:0')\n",
      "ak\n",
      "tensor(123, device='cuda:0')\n",
      "ak\n",
      "tensor(207, device='cuda:0')\n",
      "ak\n",
      "tensor(369, device='cuda:0')\n",
      "ak\n",
      "tensor(117, device='cuda:0')\n",
      "ak\n",
      "tensor(0, device='cuda:0')\n",
      "ak\n",
      "tensor(0, device='cuda:0')\n",
      "ak\n",
      "tensor(0, device='cuda:0')\n",
      "ak\n",
      "tensor(63, device='cuda:0')\n",
      "ak\n",
      "tensor(192, device='cuda:0')\n",
      "ak\n",
      "tensor(258, device='cuda:0')\n",
      "ak\n",
      "tensor(216, device='cuda:0')\n",
      "ak\n",
      "tensor(309, device='cuda:0')\n",
      "ak\n",
      "tensor(531, device='cuda:0')\n",
      "ak\n",
      "tensor(228, device='cuda:0')\n",
      "ak\n",
      "tensor(0, device='cuda:0')\n",
      "ak\n",
      "tensor(0, device='cuda:0')\n",
      "ak\n",
      "tensor(0, device='cuda:0')\n",
      "ak\n",
      "tensor(39, device='cuda:0')\n",
      "ak\n",
      "tensor(537, device='cuda:0')\n",
      "ak\n",
      "tensor(240, device='cuda:0')\n",
      "ak\n",
      "tensor(210, device='cuda:0')\n",
      "ak\n",
      "tensor(198, device='cuda:0')\n",
      "ak\n",
      "tensor(447, device='cuda:0')\n",
      "ak\n",
      "tensor(219, device='cuda:0')\n",
      "ak\n",
      "tensor(0, device='cuda:0')\n",
      "ak\n",
      "tensor(0, device='cuda:0')\n",
      "ak\n",
      "tensor(0, device='cuda:0')\n",
      "ak\n",
      "tensor(120, device='cuda:0')\n",
      "ak\n",
      "tensor(201, device='cuda:0')\n",
      "ak\n",
      "tensor(225, device='cuda:0')\n",
      "ak\n",
      "tensor(204, device='cuda:0')\n",
      "ak\n",
      "tensor(261, device='cuda:0')\n",
      "ak\n",
      "tensor(558, device='cuda:0')\n",
      "ak\n",
      "tensor(258, device='cuda:0')\n",
      "tensor([[-1.0000e+00, -1.0892e-17, -3.5458e-16, -2.8239e-17,  9.9880e-01,\n",
      "          4.8960e-02, -9.4506e-16,  8.4291e-01, -3.1587e+00]], device='cuda:0') tensor([[nan, nan, nan, nan, nan, nan, nan, nan, nan]], device='cuda:0',\n",
      "       requires_grad=True)\n",
      "tensor([-9.4506e-16,  8.4291e-01, -3.1587e+00], device='cuda:0') tensor([nan, nan, nan], device='cuda:0', grad_fn=<IndexBackward0>)\n",
      "[{'x0': 0.0, 'y0': 0.0, 'focal_x': 128.66665649414062, 'focal_y': 128.66665649414062}]\n"
     ]
    },
    {
     "data": {
      "image/png": "[encoded data removed]",
      "text/plain": [
       "<Figure size 640x480 with 1 Axes>"
      ]
     },
     "metadata": {},
     "output_type": "display_data"
    },
    {
     "name": "stdout",
     "output_type": "stream",
     "text": [
      "0\n",
      "torch.Size([40000, 3])\n",
      "torch.Size([40000, 3])\n",
      "1\n",
      "torch.Size([40000, 3])\n",
      "torch.Size([40000, 3])\n",
      "2\n",
      "torch.Size([40000, 3])\n",
      "torch.Size([40000, 3])\n",
      "3\n",
      "torch.Size([40000, 3])\n",
      "torch.Size([40000, 3])\n",
      "4\n",
      "torch.Size([40000, 3])\n",
      "torch.Size([40000, 3])\n",
      "torch.Size([40000])\n",
      "tensor(1.7321, dtype=torch.float64, grad_fn=<RsubBackward1>) tensor(nan, device='cuda:0', grad_fn=<MeanBackward0>) tensor(1.7321, dtype=torch.float64, grad_fn=<RsubBackward1>)\n",
      "ak\n",
      "tensor(0, device='cuda:0')\n",
      "ak\n",
      "tensor(0, device='cuda:0')\n",
      "ak\n",
      "tensor(0, device='cuda:0')\n",
      "ak\n",
      "tensor(0, device='cuda:0')\n",
      "ak\n",
      "tensor(0, device='cuda:0')\n",
      "ak\n",
      "tensor(0, device='cuda:0')\n",
      "ak\n",
      "tensor(0, device='cuda:0')\n",
      "ak\n",
      "tensor(0, device='cuda:0')\n",
      "ak\n",
      "tensor(0, device='cuda:0')\n",
      "ak\n",
      "tensor(0, device='cuda:0')\n",
      "ak\n",
      "tensor(0, device='cuda:0')\n",
      "ak\n",
      "tensor(0, device='cuda:0')\n",
      "ak\n",
      "tensor(0, device='cuda:0')\n",
      "ak\n",
      "tensor(0, device='cuda:0')\n",
      "ak\n",
      "tensor(0, device='cuda:0')\n",
      "ak\n",
      "tensor(0, device='cuda:0')\n",
      "ak\n",
      "tensor(0, device='cuda:0')\n",
      "ak\n",
      "tensor(0, device='cuda:0')\n",
      "ak\n",
      "tensor(0, device='cuda:0')\n",
      "ak\n",
      "tensor(0, device='cuda:0')\n",
      "ak\n",
      "tensor(0, device='cuda:0')\n",
      "ak\n",
      "tensor(0, device='cuda:0')\n",
      "ak\n",
      "tensor(0, device='cuda:0')\n",
      "ak\n",
      "tensor(0, device='cuda:0')\n",
      "ak\n",
      "tensor(0, device='cuda:0')\n",
      "ak\n",
      "tensor(0, device='cuda:0')\n",
      "ak\n",
      "tensor(0, device='cuda:0')\n",
      "ak\n",
      "tensor(0, device='cuda:0')\n",
      "ak\n",
      "tensor(0, device='cuda:0')\n",
      "ak\n",
      "tensor(0, device='cuda:0')\n",
      "ak\n",
      "tensor(0, device='cuda:0')\n",
      "ak\n",
      "tensor(0, device='cuda:0')\n",
      "ak\n",
      "tensor(0, device='cuda:0')\n",
      "ak\n",
      "tensor(0, device='cuda:0')\n",
      "ak\n",
      "tensor(0, device='cuda:0')\n",
      "ak\n",
      "tensor(0, device='cuda:0')\n",
      "ak\n",
      "tensor(0, device='cuda:0')\n",
      "ak\n",
      "tensor(0, device='cuda:0')\n",
      "ak\n",
      "tensor(0, device='cuda:0')\n",
      "ak\n",
      "tensor(0, device='cuda:0')\n",
      "ak\n",
      "tensor(0, device='cuda:0')\n",
      "ak\n",
      "tensor(0, device='cuda:0')\n",
      "ak\n",
      "tensor(0, device='cuda:0')\n",
      "ak\n",
      "tensor(0, device='cuda:0')\n",
      "ak\n",
      "tensor(0, device='cuda:0')\n",
      "ak\n",
      "tensor(0, device='cuda:0')\n",
      "ak\n",
      "tensor(0, device='cuda:0')\n",
      "ak\n",
      "tensor(0, device='cuda:0')\n",
      "ak\n",
      "tensor(0, device='cuda:0')\n",
      "ak\n",
      "tensor(0, device='cuda:0')\n",
      "tensor([[-1.0000e+00, -1.0892e-17, -3.5458e-16, -2.8239e-17,  9.9880e-01,\n",
      "          4.8960e-02, -9.4506e-16,  8.4291e-01, -3.1587e+00]], device='cuda:0') tensor([[nan, nan, nan, nan, nan, nan, nan, nan, nan]], device='cuda:0',\n",
      "       requires_grad=True)\n",
      "tensor([-9.4506e-16,  8.4291e-01, -3.1587e+00], device='cuda:0') tensor([nan, nan, nan], device='cuda:0', grad_fn=<IndexBackward0>)\n",
      "[{'x0': 0.0, 'y0': 0.0, 'focal_x': 128.66665649414062, 'focal_y': 128.66665649414062}]\n"
     ]
    },
    {
     "data": {
      "image/png": "[encoded data removed]",
      "text/plain": [
       "<Figure size 640x480 with 1 Axes>"
      ]
     },
     "metadata": {},
     "output_type": "display_data"
    }
   ],
   "source": [
    "print(current_pose_named[0]['t'], camera.extrinsics.named_params()[0]['t'])\n",
    "for ep in range(2):\n",
    "    optimizer.zero_grad()\n",
    "\n",
    "    rays = gen_rays_only(camera)\n",
    "    rays = rays.reshape((rays.shape[0]**2, -1))\n",
    "    \n",
    "    all_rgbs = torch.ones((10, W*H, 3), dtype=float)\n",
    "    for i, pipeline in enumerate(pipelines):\n",
    "        print(i)\n",
    "        rb = render_pipeline(pipeline, rays, None)\n",
    "        print(rb.rgb.shape)\n",
    "        print(all_rgbs[i,:,:].shape)\n",
    "        all_rgbs[i,:,:] = rb.rgb\n",
    "        # print(all_rgbs) \n",
    "    all_unc = torch.sqrt(torch.sum(torch.var(all_rgbs, axis = 0), axis = -1))\n",
    "    print(all_unc.size())\n",
    "    all_unc = torch.nn.functional.relu(all_unc)\n",
    "    # print(all_unc)\n",
    "    unc_loss = math.sqrt(3)-torch.mean(all_unc)\n",
    "    # dist_loss = torch.mean((current_pose - camera.extrinsics.parameters())**2)\n",
    "    # flip_loss = \n",
    "    dist_loss = torch.mean((current_pose_named[0]['t'] - camera.extrinsics.t )**2)\n",
    "\n",
    "    loss = unc_loss \n",
    "    print(unc_loss, dist_loss, loss)\n",
    "\n",
    "    loss.backward()\n",
    "    optimizer.step()\n",
    "    # del(all_rgbs)\n",
    "    del(unc_loss)\n",
    "    del(dist_loss)\n",
    "    print(current_pose, camera.extrinsics.parameters())\n",
    "    print(current_pose_named[0]['t'], camera.extrinsics.named_params()[0]['t'])\n",
    "    print(camera.intrinsics.named_params())\n",
    "    plt.imshow(get_image(camera, pipeline=pipelines[0])[0])\n",
    "    plt.show()\n",
    "\n",
    "\n"
   ]
  },
  {
   "cell_type": "code",
   "execution_count": null,
   "metadata": {},
   "outputs": [
    {
     "data": {
      "text/plain": [
       "{'R': tensor([nan, nan, nan, nan, nan, nan], device='cuda:0',\n",
       "        grad_fn=<IndexBackward0>),\n",
       " 't': tensor([nan, nan, nan], device='cuda:0', grad_fn=<IndexBackward0>)}"
      ]
     },
     "execution_count": 16,
     "metadata": {},
     "output_type": "execute_result"
    }
   ],
   "source": [
    "camera.extrinsics.named_params()[0]"
   ]
  },
  {
   "cell_type": "code",
   "execution_count": null,
   "metadata": {},
   "outputs": [
    {
     "data": {
      "text/plain": [
       "[{'x0': 0.0,\n",
       "  'y0': 0.0,\n",
       "  'focal_x': 128.66665649414062,\n",
       "  'focal_y': 128.66665649414062}]"
      ]
     },
     "execution_count": 17,
     "metadata": {},
     "output_type": "execute_result"
    }
   ],
   "source": [
    "camera.intrinsics.named_params()"
   ]
  },
  {
   "cell_type": "code",
   "execution_count": null,
   "metadata": {},
   "outputs": [
    {
     "data": {
      "text/plain": [
       "<matplotlib.image.AxesImage at 0x7fcfe3b20b50>"
      ]
     },
     "execution_count": 18,
     "metadata": {},
     "output_type": "execute_result"
    },
    {
     "data": {
      "image/png": "[encoded data removed]",
      "text/plain": [
       "<Figure size 640x480 with 1 Axes>"
      ]
     },
     "metadata": {},
     "output_type": "display_data"
    }
   ],
   "source": [
    "plt.imshow(get_image(camera, pipeline=pipelines[0])[0])\n"
   ]
  },
  {
   "cell_type": "code",
   "execution_count": null,
   "metadata": {},
   "outputs": [
    {
     "data": {
      "text/plain": [
       "tensor([[-1.0000e+00, -2.8239e-17,  5.3403e-16,  2.4464e-17],\n",
       "        [ 3.5458e-16, -4.8960e-02,  9.9880e-01,  3.9952e-01],\n",
       "        [-1.0892e-17,  9.9880e-01,  4.8960e-02, -8.5906e-02],\n",
       "        [ 0.0000e+00,  0.0000e+00,  0.0000e+00,  1.0000e+00]])"
      ]
     },
     "execution_count": 19,
     "metadata": {},
     "output_type": "execute_result"
    }
   ],
   "source": [
    "torch.tensor([[-1.0, -2.823936947407328e-17, 5.340285413173258e-16, 2.4463562574074363e-17], [3.5457582038357597e-16, -0.04896000828076464, 0.9988007396819185, 0.3995202958290813], [-1.089239719165523e-17, 0.9988007396819186, 0.04896000828076479, -0.08590599579648245], [0.0, 0.0, 0.0, 1.0]])"
   ]
  },
  {
   "cell_type": "code",
   "execution_count": null,
   "metadata": {},
   "outputs": [
    {
     "data": {
      "text/plain": [
       "Rays(origins=tensor([[[nan, nan, nan],\n",
       "         [nan, nan, nan],\n",
       "         [nan, nan, nan],\n",
       "         ...,\n",
       "         [nan, nan, nan],\n",
       "         [nan, nan, nan],\n",
       "         [nan, nan, nan]],\n",
       "\n",
       "        [[nan, nan, nan],\n",
       "         [nan, nan, nan],\n",
       "         [nan, nan, nan],\n",
       "         ...,\n",
       "         [nan, nan, nan],\n",
       "         [nan, nan, nan],\n",
       "         [nan, nan, nan]],\n",
       "\n",
       "        [[nan, nan, nan],\n",
       "         [nan, nan, nan],\n",
       "         [nan, nan, nan],\n",
       "         ...,\n",
       "         [nan, nan, nan],\n",
       "         [nan, nan, nan],\n",
       "         [nan, nan, nan]],\n",
       "\n",
       "        ...,\n",
       "\n",
       "        [[nan, nan, nan],\n",
       "         [nan, nan, nan],\n",
       "         [nan, nan, nan],\n",
       "         ...,\n",
       "         [nan, nan, nan],\n",
       "         [nan, nan, nan],\n",
       "         [nan, nan, nan]],\n",
       "\n",
       "        [[nan, nan, nan],\n",
       "         [nan, nan, nan],\n",
       "         [nan, nan, nan],\n",
       "         ...,\n",
       "         [nan, nan, nan],\n",
       "         [nan, nan, nan],\n",
       "         [nan, nan, nan]],\n",
       "\n",
       "        [[nan, nan, nan],\n",
       "         [nan, nan, nan],\n",
       "         [nan, nan, nan],\n",
       "         ...,\n",
       "         [nan, nan, nan],\n",
       "         [nan, nan, nan],\n",
       "         [nan, nan, nan]]], device='cuda:0', grad_fn=<StackBackward0>), dirs=tensor([[[nan, nan, nan],\n",
       "         [nan, nan, nan],\n",
       "         [nan, nan, nan],\n",
       "         ...,\n",
       "         [nan, nan, nan],\n",
       "         [nan, nan, nan],\n",
       "         [nan, nan, nan]],\n",
       "\n",
       "        [[nan, nan, nan],\n",
       "         [nan, nan, nan],\n",
       "         [nan, nan, nan],\n",
       "         ...,\n",
       "         [nan, nan, nan],\n",
       "         [nan, nan, nan],\n",
       "         [nan, nan, nan]],\n",
       "\n",
       "        [[nan, nan, nan],\n",
       "         [nan, nan, nan],\n",
       "         [nan, nan, nan],\n",
       "         ...,\n",
       "         [nan, nan, nan],\n",
       "         [nan, nan, nan],\n",
       "         [nan, nan, nan]],\n",
       "\n",
       "        ...,\n",
       "\n",
       "        [[nan, nan, nan],\n",
       "         [nan, nan, nan],\n",
       "         [nan, nan, nan],\n",
       "         ...,\n",
       "         [nan, nan, nan],\n",
       "         [nan, nan, nan],\n",
       "         [nan, nan, nan]],\n",
       "\n",
       "        [[nan, nan, nan],\n",
       "         [nan, nan, nan],\n",
       "         [nan, nan, nan],\n",
       "         ...,\n",
       "         [nan, nan, nan],\n",
       "         [nan, nan, nan],\n",
       "         [nan, nan, nan]],\n",
       "\n",
       "        [[nan, nan, nan],\n",
       "         [nan, nan, nan],\n",
       "         [nan, nan, nan],\n",
       "         ...,\n",
       "         [nan, nan, nan],\n",
       "         [nan, nan, nan],\n",
       "         [nan, nan, nan]]], device='cuda:0', grad_fn=<StackBackward0>), dist_min=0.0, dist_max=10.0)"
      ]
     },
     "execution_count": 20,
     "metadata": {},
     "output_type": "execute_result"
    }
   ],
   "source": [
    "gen_rays_only(camera)"
   ]
  },
  {
   "cell_type": "code",
   "execution_count": null,
   "metadata": {},
   "outputs": [
    {
     "data": {
      "text/plain": [
       "tensor([[[nan, nan, nan, nan],\n",
       "         [nan, nan, nan, nan],\n",
       "         [nan, nan, nan, nan],\n",
       "         [nan, nan, nan, nan]]], device='cuda:0', grad_fn=<BmmBackward0>)"
      ]
     },
     "execution_count": 21,
     "metadata": {},
     "output_type": "execute_result"
    }
   ],
   "source": [
    "camera.view_projection_matrix()"
   ]
  },
  {
   "cell_type": "code",
   "execution_count": null,
   "metadata": {},
   "outputs": [
    {
     "data": {
      "text/plain": [
       "[{'R': tensor([nan, nan, nan, nan, nan, nan], device='cuda:0',\n",
       "         grad_fn=<IndexBackward0>),\n",
       "  't': tensor([nan, nan, nan], device='cuda:0', grad_fn=<IndexBackward0>),\n",
       "  'x0': 0.0,\n",
       "  'y0': 0.0,\n",
       "  'focal_x': 128.66665649414062,\n",
       "  'focal_y': 128.66665649414062}]"
      ]
     },
     "execution_count": 22,
     "metadata": {},
     "output_type": "execute_result"
    }
   ],
   "source": [
    "camera.named_params()"
   ]
  },
  {
   "cell_type": "code",
   "execution_count": null,
   "metadata": {},
   "outputs": [
    {
     "data": {
      "text/plain": [
       "tensor([[-1.0000e+00, -4.6265e-16,  4.7207e-16,  1.4103e-16],\n",
       "        [ 5.3111e-16, -6.9423e-01,  7.1976e-01,  2.3032e+00],\n",
       "        [-1.3052e-16,  7.1976e-01,  6.9423e-01,  1.3776e+00],\n",
       "        [ 0.0000e+00,  0.0000e+00,  0.0000e+00,  1.0000e+00]])"
      ]
     },
     "execution_count": 23,
     "metadata": {},
     "output_type": "execute_result"
    }
   ],
   "source": [
    "initial_pose"
   ]
  },
  {
   "cell_type": "code",
   "execution_count": null,
   "metadata": {},
   "outputs": [
    {
     "ename": "RuntimeError",
     "evalue": "shape '[4, 4]' is invalid for input of size 9",
     "output_type": "error",
     "traceback": [
      "\u001b[0;31m---------------------------------------------------------------------------\u001b[0m",
      "\u001b[0;31mRuntimeError\u001b[0m                              Traceback (most recent call last)",
      "Cell \u001b[0;32mIn[24], line 1\u001b[0m\n\u001b[0;32m----> 1\u001b[0m torch\u001b[39m.\u001b[39minverse(camera\u001b[39m.\u001b[39;49mextrinsics\u001b[39m.\u001b[39;49mparameters()\u001b[39m.\u001b[39;49mreshape((\u001b[39m4\u001b[39;49m,\u001b[39m4\u001b[39;49m)))\n",
      "\u001b[0;31mRuntimeError\u001b[0m: shape '[4, 4]' is invalid for input of size 9"
     ]
    }
   ],
   "source": [
    "torch.inverse(camera.extrinsics.parameters().reshape((4,4)))"
   ]
  },
  {
   "cell_type": "code",
   "execution_count": null,
   "metadata": {},
   "outputs": [],
   "source": [
    "camera.extrinsics.named_params()"
   ]
  },
  {
   "cell_type": "code",
   "execution_count": null,
   "metadata": {},
   "outputs": [],
   "source": [
    "z_near, z_far = extra_args['z_near'], extra_args['z_far']\n",
    "camera = gen_camera(torch.clone(initial_pose).detach(), extra_args['focal'], W, H, z_far, extra_args)\n"
   ]
  },
  {
   "cell_type": "code",
   "execution_count": null,
   "metadata": {},
   "outputs": [
    {
     "data": {
      "text/plain": [
       "tensor([[[-1.1280e-15],\n",
       "         [ 7.5927e-01],\n",
       "         [-3.2677e+00]]], device='cuda:0', grad_fn=<SliceBackward0>)"
      ]
     },
     "execution_count": 22,
     "metadata": {},
     "output_type": "execute_result"
    }
   ],
   "source": [
    "camera.extrinsics.t"
   ]
  },
  {
   "cell_type": "code",
   "execution_count": null,
   "metadata": {},
   "outputs": [],
   "source": []
  },
  {
   "cell_type": "code",
   "execution_count": null,
   "metadata": {},
   "outputs": [],
   "source": []
  }
 ],
 "metadata": {
  "kernelspec": {
   "display_name": "wisp",
   "language": "python",
   "name": "python3"
  },
  "language_info": {
   "codemirror_mode": {
    "name": "ipython",
    "version": 3
   },
   "file_extension": ".py",
   "mimetype": "text/x-python",
   "name": "python",
   "nbconvert_exporter": "python",
   "pygments_lexer": "ipython3",
   "version": "3.9.17"
  },
  "orig_nbformat": 4,
  "vscode": {
   "interpreter": {
    "hash": "29dcd15ca7685a598b2bf589d338f8c00bfe793b3abbc5f992c8ad4ef5d8fa76"
   }
  }
 },
 "nbformat": 4,
 "nbformat_minor": 2
}
