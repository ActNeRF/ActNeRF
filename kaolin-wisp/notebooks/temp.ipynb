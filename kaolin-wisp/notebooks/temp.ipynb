{
 "cells": [
  {
   "cell_type": "code",
   "execution_count": 1,
   "metadata": {},
   "outputs": [],
   "source": [
    "import numpy as np"
   ]
  },
  {
   "cell_type": "code",
   "execution_count": 27,
   "metadata": {},
   "outputs": [],
   "source": [
    "# def create_rectangular_grid(width, height, centre, u, v):\n",
    "#     # Calculate the corner points of the rectangle\n",
    "#     u = u / np.linalg.norm(u)\n",
    "#     v = v / np.linalg.norm(v)\n",
    "#     corner_points = [\n",
    "#         centre - (width/2)*u - (height/2)*v,\n",
    "#         centre + (width/2)*u - (height/2)*v,\n",
    "#         centre + (width/2)*u + (height/2)*v,\n",
    "#         centre - (width/2)*u + (height/2)*v\n",
    "#     ]\n",
    "    \n",
    "#     # Create a grid of points within the rectangle\n",
    "#     num_points_width = 2\n",
    "#     num_points_height = 2\n",
    "#     print(corner_points)\n",
    "#     x_coords = np.linspace(corner_points[0][0], corner_points[1][0], num_points_width)\n",
    "#     y_coords = np.linspace(corner_points[0][1], corner_points[3][1], num_points_height)\n",
    "#     grid_points = []\n",
    "#     for y in y_coords:\n",
    "#         for x in x_coords:\n",
    "#             grid_points.append(np.array([x, y, centre[2]]))\n",
    "    \n",
    "#     return np.array(grid_points)\n",
    "\n",
    "import numpy as np\n",
    "\n",
    "def construct_rectangular_grid(width, height, center, u, v, n_x, n_y):\n",
    "    \"\"\"\n",
    "    Construct an axis-parallel rectangular grid of points in 3D space.\n",
    "\n",
    "    Args:\n",
    "        width (float): The width of the rectangle.\n",
    "        height (float): The height of the rectangle.\n",
    "        center (numpy.ndarray): The center of the rectangle, given as a 3D numpy array.\n",
    "        u (numpy.ndarray): A unit vector corresponding to one of the sides of the rectangle, given as a 3D numpy array.\n",
    "        v (numpy.ndarray): A unit vector corresponding to one of the sides of the rectangle, perpendicular to u, given as a 3D numpy array.\n",
    "        n_x (int): The number of points to generate along the u direction.\n",
    "        n_y (int): The number of points to generate along the v direction.\n",
    "\n",
    "    Returns:\n",
    "        numpy.ndarray: A 3D numpy array of shape (n_x * n_y, 3) containing the grid of points.\n",
    "    \"\"\"\n",
    "    # Compute the corner points of the rectangle\n",
    "    half_width = width / 2\n",
    "    half_height = height / 2\n",
    "\n",
    "    center = np.array(center)\n",
    "    u = np.array(u)\n",
    "    u = u / np.linalg.norm(u)\n",
    "    v = np.array(v)\n",
    "    v = v / np.linalg.norm(v)\n",
    "    \n",
    "    corners = [\n",
    "        center - half_width * u - half_height * v,\n",
    "        center + half_width * u - half_height * v,\n",
    "        center + half_width * u + half_height * v,\n",
    "        center - half_width * u + half_height * v\n",
    "    ]\n",
    "\n",
    "    # Generate the grid of points\n",
    "    points = np.zeros((n_x * n_y, 3))\n",
    "    for i in range(n_x):\n",
    "        for j in range(n_y):\n",
    "            u_coeff = (i + 0.5) / n_x\n",
    "            v_coeff = (j + 0.5) / n_y\n",
    "            point = corners[0] + u_coeff * (corners[1] - corners[0]) + v_coeff * (corners[3] - corners[0])\n",
    "            points[i * n_y + j] = point\n",
    "\n",
    "    return points\n"
   ]
  },
  {
   "cell_type": "code",
   "execution_count": 28,
   "metadata": {},
   "outputs": [
    {
     "data": {
      "text/plain": [
       "array([[ 1.  , -0.25, -0.25],\n",
       "       [ 1.  , -0.25,  0.25],\n",
       "       [ 1.  ,  0.25, -0.25],\n",
       "       [ 1.  ,  0.25,  0.25]])"
      ]
     },
     "execution_count": 28,
     "metadata": {},
     "output_type": "execute_result"
    }
   ],
   "source": [
    "construct_rectangular_grid(1,1,[1,0,0],[0,1,0], [0,0,1], 2, 2)"
   ]
  },
  {
   "cell_type": "code",
   "execution_count": null,
   "metadata": {},
   "outputs": [],
   "source": []
  },
  {
   "cell_type": "code",
   "execution_count": null,
   "metadata": {},
   "outputs": [],
   "source": []
  }
 ],
 "metadata": {
  "kernelspec": {
   "display_name": "wisp",
   "language": "python",
   "name": "python3"
  },
  "language_info": {
   "codemirror_mode": {
    "name": "ipython",
    "version": 3
   },
   "file_extension": ".py",
   "mimetype": "text/x-python",
   "name": "python",
   "nbconvert_exporter": "python",
   "pygments_lexer": "ipython3",
   "version": "3.9.16"
  },
  "orig_nbformat": 4
 },
 "nbformat": 4,
 "nbformat_minor": 2
}
